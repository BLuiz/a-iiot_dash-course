{
 "cells": [
  {
   "cell_type": "markdown",
   "metadata": {},
   "source": [
    "## Funções Adicionais"
   ]
  },
  {
   "cell_type": "markdown",
   "metadata": {},
   "source": [
    "**Gerando DataFrame**"
   ]
  },
  {
   "cell_type": "code",
   "execution_count": 6,
   "metadata": {},
   "outputs": [],
   "source": [
    "import pandas as pd\n",
    "\n",
    "cells = [ [1980, 1.68], [1990, 1.72], [2000, 1.74], [2010, 1.80], [2020, 1.81] ]\n",
    "df1 = pd.DataFrame(cells, columns=['Year', 'Height'])\n",
    "aux = df1"
   ]
  },
  {
   "cell_type": "markdown",
   "metadata": {},
   "source": [
    "**Funções Adicionais**"
   ]
  },
  {
   "cell_type": "code",
   "execution_count": null,
   "metadata": {},
   "outputs": [],
   "source": [
    "\"\"\" ## Transformando Series em DataFrames \"\"\"\n",
    "# aux = df1['Year'].to_frame()\n",
    "# aux = df1[['Year']]\n",
    "\n",
    "\"\"\" ## Deslocamento de valores, mantendo indexes (Análise de Variação) \"\"\"\n",
    "# aux = df1['Year'].shift()\n",
    "\n",
    "\"\"\" ## Deslocamento de valores, mantendo indexes (Analise de Intervalo) \"\"\"\n",
    "# aux = df1.rolling(3)\n",
    "\n",
    "\"\"\" ## Verificar se alguns valores estão presentes em uma Serie \"\"\"\n",
    "# aux = df1['Year'].isin([1990, 1980, 1970])\n",
    "# aux = df1[df['Year'].isin([1990, 1980, 1970])]\n",
    "\n",
    "\"\"\" ## Captar valores/colunas/indexes de um DF \"\"\"\n",
    "# aux = df1.values\n",
    "# aux = df1.columns\n",
    "# aux = df1.index\n",
    "\n",
    "\"\"\" ## Iterar sobre uma DF \"\"\"\n",
    "# for idx, row, in df1.iterrows():\n",
    "#     print(idx, row['Height'])\n",
    "\n",
    "\"\"\" ## Transformar uma DF em dicionário \"\"\"\n",
    "# aux = df1.to_dict()\n",
    "# print(type(aux))\n",
    "\n",
    "display(aux)"
   ]
  }
 ],
 "metadata": {
  "kernelspec": {
   "display_name": "Python 3",
   "language": "python",
   "name": "python3"
  },
  "language_info": {
   "codemirror_mode": {
    "name": "ipython",
    "version": 3
   },
   "file_extension": ".py",
   "mimetype": "text/x-python",
   "name": "python",
   "nbconvert_exporter": "python",
   "pygments_lexer": "ipython3",
   "version": "3.12.3"
  }
 },
 "nbformat": 4,
 "nbformat_minor": 2
}
