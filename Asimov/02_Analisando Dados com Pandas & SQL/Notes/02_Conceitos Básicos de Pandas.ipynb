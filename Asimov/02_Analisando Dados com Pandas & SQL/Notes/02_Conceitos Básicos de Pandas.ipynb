{
 "cells": [
  {
   "cell_type": "markdown",
   "metadata": {},
   "source": [
    "## O que é o Pandas e do que ele é capaz "
   ]
  },
  {
   "cell_type": "markdown",
   "metadata": {},
   "source": [
    "**Exemplo de Aplicação**"
   ]
  },
  {
   "cell_type": "code",
   "execution_count": null,
   "metadata": {},
   "outputs": [],
   "source": [
    "import pandas as pd\n",
    "\n",
    "supermarket_df = pd.read_csv('C:\\\\Users\\\\Administrativo\\\\Desktop\\\\a-iiot_dash-course\\\\Asimov\\\\02_Analisando Dados com Pandas & SQL\\\\Docs\\\\Analisando Dados com Pandas & SQL\\\\Dataserts\\\\supermarket_sales.csv')\n",
    "\n",
    "supermarket_df['Date'] = pd.to_datetime(supermarket_df['Date'])\n",
    "supermarket_df['Month'] = supermarket_df['Date'].apply(lambda x: x.month)\n",
    "supermarket_df['Year'] = supermarket_df['Date'].apply(lambda x: x.year)\n",
    "\n",
    "data_df = supermarket_df\n",
    "\n",
    "\"\"\"## Faturamento total por filial\"\"\"\n",
    "# data_df = supermarket_df.groupby('City')[['Total', 'gross income']].sum()\n",
    "\n",
    "\"\"\"## Percentual de participação na receita\"\"\"\n",
    "# data_df = (supermarket_df.groupby('Product line')['Total'].sum() / supermarket_df.groupby('Product line')['Total'].sum().sum()).sort_values() * 100\n",
    "\n",
    "\"\"\"## Distribuição de produto por gênero\"\"\"\n",
    "# data_df = supermarket_df.groupby(['Product line', 'Gender'])[['Total']].sum().pivot_table(index='Product line', columns='Gender')\n",
    "\n",
    "\"\"\"## Faturamento mensal\"\"\"\n",
    "# data_df = supermarket_df.groupby(['Month'])['Total'].sum()\n",
    "\n",
    "\"\"\"## Média de avaliação por filial em janeiro de 2019\"\"\"\n",
    "# data_df = supermarket_df[(supermarket_df['Year'] == 2019) & (supermarket_df['Month'] == 1)]['Rating'].mean()\n",
    "\n",
    "\"\"\"## Distribuição de gastos por tipo de consumidor em cada filial\"\"\"\n",
    "# data_df = supermarket_df.groupby(['Customer type', 'City'])['Total'].sum()\n",
    "\n",
    "display(data_df)"
   ]
  },
  {
   "cell_type": "markdown",
   "metadata": {},
   "source": [
    "## Como estudar Pandas?"
   ]
  },
  {
   "cell_type": "markdown",
   "metadata": {},
   "source": [
    "- Anotações das carga teórica do curso\n",
    "- Prática sobre os projetos do curso"
   ]
  },
  {
   "cell_type": "markdown",
   "metadata": {},
   "source": [
    "## Como Vão se dar as aulas?"
   ]
  },
  {
   "cell_type": "markdown",
   "metadata": {},
   "source": [
    "- Utilização do Jupyter Lab, para anotações e práticas.\n",
    "- Recriação de apostilas realizando análises de bases de dados."
   ]
  },
  {
   "cell_type": "markdown",
   "metadata": {},
   "source": [
    "## Series"
   ]
  },
  {
   "cell_type": "markdown",
   "metadata": {},
   "source": [
    "Para aplicações com Pandas, existem dois principais componentes:  \n",
    "- Dataframes (tabelas)  \n",
    "- Series (colunas)  \n",
    "\n",
    "Para manipulação de Series é possível utilizar de dados importados de uma tabela, bem como criar alguns dados nos formatos nativos do python e transformá-los em Series. Ao aplicar o método pandas.Series(), os dois primeiros parâmetros requeridos são os dados e os indexes, de forma que a função também infira dados e indexes a partir de dicionários passados como parâmetros."
   ]
  },
  {
   "cell_type": "markdown",
   "metadata": {},
   "source": [
    "**Exemplo de Aplicação**"
   ]
  },
  {
   "cell_type": "code",
   "execution_count": null,
   "metadata": {},
   "outputs": [],
   "source": [
    "import pandas as pd\n",
    "import numpy as np\n",
    "\n",
    "labels = ['a', 'b', 'c']\n",
    "\n",
    "minha_lista = [10, 20, 30]\n",
    "\n",
    "arr = np.array(minha_lista)\n",
    "\n",
    "d = {\n",
    "    'a': 10,\n",
    "    'b': 20,\n",
    "    'c': 30,\n",
    "}\n",
    "\n",
    "series1 = pd.Series(data=minha_lista, index=labels)\n",
    "series2 = pd.Series(d)\n",
    "\n",
    "display(series1)\n",
    "display(series2)"
   ]
  },
  {
   "cell_type": "markdown",
   "metadata": {},
   "source": [
    "*Obs: utilizando o help(pd.Series) é possível analisar seu funcionamento e parâmetros, bem como pesquisando pela documentação do pandas no python.org*"
   ]
  },
  {
   "cell_type": "markdown",
   "metadata": {},
   "source": [
    "1. Realizando a consulta de elementos em uma Serie"
   ]
  },
  {
   "cell_type": "code",
   "execution_count": null,
   "metadata": {},
   "outputs": [],
   "source": [
    "\"\"\"## Criando uma Serie de exemplo\"\"\"\n",
    "countries1 = pd.Series({k : v+1 for v, k in enumerate(['USA', 'ITALY', 'BRAZIL', 'RUSSIA', 'GERMANY'])})\n",
    "countries2 = pd.Series({k : v+2 for v, k in enumerate(['USA', 'MEXICO', 'BRAZIL', 'RUSSIA', 'POLISH'])})\n",
    "res = None\n",
    "\n",
    "\"\"\"# Filtrando um elemento da Serie\"\"\"\n",
    "# res = countries1['USA']\n",
    "\n",
    "\"\"\"# Filtrando mais de um elemento da Serie\"\"\"\n",
    "# res = countries1[['USA', 'GERMANY']]\n",
    "\n",
    "\"\"\"# Somando Series\"\"\"\n",
    "# res = countries1 + countries2\n",
    "\n",
    "display(res)"
   ]
  },
  {
   "cell_type": "markdown",
   "metadata": {},
   "source": [
    "*Obs: as operações serão resultadas pelas indexações, logo, se os indexes não forem compatíveis em uma soma, não haverá resultado*"
   ]
  },
  {
   "cell_type": "markdown",
   "metadata": {},
   "source": [
    "## DataFrames e manipulação de colunas"
   ]
  },
  {
   "cell_type": "markdown",
   "metadata": {},
   "source": [
    "DataFrames são basicamente tabelas, utilizadas pelo pandas para manipulação e compreensão de muitos dados rotulados. Para cada linha de um DataFrame podem haver indexes, sejam eles numéricos ou de texto, e para cada coluna desse DataFrame há uma Serie, com um rótulo e respectivos valores.  \n",
    "\n",
    "Assim como as listas e dicionários, em python, quando se atribui uma estrutura dessas à uma outra variável é criado um vínculo entre elas, portanto, se modificar uma, a outra também será modificada. Para poder fazer alterações em uma sem alterar outra é possível utilizar o método .copy().\n",
    "\n",
    "*Obs: ao realizar a filtragem de uma coluna (['col']), é feito um recorte, retorna uma Serie. Contudo quando se passa uma lista ([['col']]), mesmo que só com um elemento, retorna um DataFrame*"
   ]
  },
  {
   "cell_type": "markdown",
   "metadata": {},
   "source": [
    "**Exemplo de Aplicação**"
   ]
  },
  {
   "cell_type": "code",
   "execution_count": null,
   "metadata": {},
   "outputs": [],
   "source": [
    "\"\"\"## Gerando dados e criando um DataFrame \"\"\"\n",
    "import pandas as pd\n",
    "from numpy.random import randn\n",
    "\n",
    "cells = randn(5,4)\n",
    "row = ['A', 'B', 'C', 'D', 'E']\n",
    "col = ['W', 'X', 'Y', 'Z']\n",
    "\n",
    "df = pd.DataFrame(cells, index=row, columns=col)\n",
    "\n",
    "display(df)"
   ]
  },
  {
   "cell_type": "markdown",
   "metadata": {},
   "source": [
    "1. Manipulação de um DataFrame"
   ]
  },
  {
   "cell_type": "code",
   "execution_count": null,
   "metadata": {},
   "outputs": [],
   "source": [
    "\"\"\"## Gerando DF exemplo\"\"\"\n",
    "cells = [ [False, False, False], [False, False, True], [False, True, False], [False, True, True], [True, False, False], [True, False, True], [True, True, False], [True, True, True], ]\n",
    "df = pd.DataFrame(cells, index=[ 'm0', 'm1', 'm2', 'm3', 'm4', 'm5', 'm6', 'm7'], columns=['A', 'B', 'C'])\n",
    "aux = df\n",
    "\n",
    "\"\"\"## Filtrando DataFrame\"\"\"\n",
    "# aux = df[['A', 'B']]                # Colunas\n",
    "# aux = df[['A']]                     # Linhas\n",
    "# aux = df.loc[['m3', 'm7'], ['A']]   # Linhas, Colunas\n",
    "# aux = df.iloc[0,2]                  # Colunas, Linhas e Células\n",
    "\n",
    "\"\"\"## Criando novas Series no DataFrame\"\"\"\n",
    "# df['(A and B) or C'] = (df['A'] * df['B']) + df['C']\n",
    "\n",
    "\"\"\"# Deletando alguma(s) Series do DataFrame\"\"\"\n",
    "# del(df['A'])                                        # Apenas para Series\n",
    "# aux = df.drop(['m0', 'm2', 'm4', 'm6'], axis=0)     # Series e Linhas\n",
    "\n",
    "display(aux)\n",
    "# display(df)"
   ]
  },
  {
   "cell_type": "markdown",
   "metadata": {},
   "source": [
    "*Obs: a maioria dos métodos de DF aplicam a função em uma cópia da DF, não modificando-a, portanto é necessário salvar em outra variável ou utilizar algum parâmetro que informe para modificar os valores originais*"
   ]
  },
  {
   "cell_type": "markdown",
   "metadata": {},
   "source": [
    "## Iloc e Filtros"
   ]
  },
  {
   "cell_type": "markdown",
   "metadata": {},
   "source": [
    "Diferentemente dos outros métodos de filtragem de DF, o .iloc é utilizado da mesma forma que as strings e listas, fazendo um recorte no DF, sendo possívl informar recortes, do primeiro até o penúltimo, do penúltimo ao quarto item, etc.\n",
    "\n",
    "Além disso, também é possível realizar operações aritméticas e lógicas entre diferentes DataFrames, bem como exibir valores ou comparações."
   ]
  },
  {
   "cell_type": "markdown",
   "metadata": {},
   "source": [
    "**Gerando DataFrame para testes**"
   ]
  },
  {
   "cell_type": "code",
   "execution_count": null,
   "metadata": {},
   "outputs": [],
   "source": [
    "import pandas as pd\n",
    "from numpy.random import randn\n",
    "\n",
    "\"\"\"## Gerando dados e criando um DataFrame \"\"\"\n",
    "cells = randn(5,4)\n",
    "row = ['A', 'B', 'C', 'D', 'E']\n",
    "col = ['W', 'X', 'Y', 'Z']\n",
    "df = pd.DataFrame(cells, index=row, columns=col)"
   ]
  },
  {
   "cell_type": "markdown",
   "metadata": {},
   "source": [
    "**Exemplo de Aplicação**"
   ]
  },
  {
   "cell_type": "code",
   "execution_count": null,
   "metadata": {},
   "outputs": [],
   "source": [
    "aux = df\n",
    "\"\"\"## Recorte de DF\"\"\"\n",
    "# aux = df.iloc[:-1, 2:0:-1]    # [row, col]\n",
    "\n",
    "\"\"\"## Operação aritmética\"\"\"\n",
    "# aux = df + df\n",
    "\n",
    "\"\"\"## Operação lógica\"\"\"\n",
    "# aux = df > 0                  # DF recebe, para cada célula, o resultado da comparação\n",
    "\n",
    "display(aux)"
   ]
  },
  {
   "cell_type": "markdown",
   "metadata": {},
   "source": [
    "1. Filtrando DataFrames"
   ]
  },
  {
   "cell_type": "code",
   "execution_count": null,
   "metadata": {},
   "outputs": [],
   "source": [
    "aux = df\n",
    "\"\"\"## Exemplos de filtragem (rodar o código acima para setar o DF)\"\"\"\n",
    "# display(df)\n",
    "\n",
    "\"\"\"# Filtragem utilizando operador relacional\"\"\"\n",
    "# aux = df[df > 0]\n",
    "\n",
    "\"\"\"# Filtragem utilizando operador lógico e relacional\"\"\"\n",
    "# aux = df[(df['Y'] > 0) & (df['Z'] > 0)]   # & AND\n",
    "# aux = df[(df['X'] > 0) | (df['W'] > 0)]   # | OU\n",
    "\n",
    "display(aux)"
   ]
  },
  {
   "cell_type": "markdown",
   "metadata": {},
   "source": [
    "## Operações com índices"
   ]
  },
  {
   "cell_type": "markdown",
   "metadata": {},
   "source": [
    "Módulo de manipulação de indexes e colunas. Aqui são vistos métodos para operar com índices, relembrando que podem haver métodos que não operam sobre o dataframe e apenas geram um retorno, enquanto outros modificam o dataframe original.\n",
    "\n",
    "*Obs: funções e métodos podem ser aprofundadas com a função help(), ou no site de documentação do pandas.*"
   ]
  },
  {
   "cell_type": "markdown",
   "metadata": {},
   "source": [
    "**Gerando DataFrame para testes**"
   ]
  },
  {
   "cell_type": "code",
   "execution_count": null,
   "metadata": {},
   "outputs": [],
   "source": [
    "\"\"\" # Métodos de indexação em DFs\"\"\"\n",
    "import pandas as pd\n",
    "from numpy.random import randn\n",
    "df = pd.DataFrame(data=randn(3,3), index=['A', 'B', 'C'], columns=['X', 'Y', 'Z'])\n",
    "# display(df)"
   ]
  },
  {
   "cell_type": "markdown",
   "metadata": {},
   "source": [
    "**Exemplos de Aplicação**"
   ]
  },
  {
   "cell_type": "code",
   "execution_count": null,
   "metadata": {},
   "outputs": [],
   "source": [
    "aux = df\n",
    "\"\"\" ## Consulta de indexes e colunas \"\"\"\n",
    "# aux = df.index\n",
    "# aux = df.columns\n",
    "\n",
    "\"\"\" ## Set e Reset em index \"\"\"     # inplace=True; altera a df original\n",
    "# df['South PIB'] = 'PR SC RS'.split()\n",
    "# aux = df.reset_index().set_index('South PIB')\n",
    "# aux = df.set_index('South PIB')\n",
    "\n",
    "display(aux)"
   ]
  },
  {
   "cell_type": "markdown",
   "metadata": {},
   "source": [
    "*Obs: para setar um index é necessário que haja uma serie no dataframe para indexação*"
   ]
  },
  {
   "cell_type": "markdown",
   "metadata": {},
   "source": [
    "## Índices multiníveis"
   ]
  },
  {
   "cell_type": "markdown",
   "metadata": {},
   "source": [
    "Quando for necesário adicionar mais uma categoria de indexes, se pode utilizar dos múltiplos index, criando uma nova coluna que abrange mais de uma linha de index."
   ]
  },
  {
   "cell_type": "markdown",
   "metadata": {},
   "source": [
    "**Gerando DataFrame para testes**"
   ]
  },
  {
   "cell_type": "code",
   "execution_count": 118,
   "metadata": {},
   "outputs": [],
   "source": [
    "\"\"\" # Métodos de multi-indexação em DFs\"\"\"\n",
    "import pandas as pd\n",
    "from numpy.random import randn\n",
    "\n",
    "outside = ['G1', 'G1', 'G1', 'G2', 'G2', 'G2']\n",
    "inside = [1,2,3, 1,2,3]\n",
    "hier_index = list(zip(outside, inside))\n",
    "hier_index = pd.MultiIndex.from_tuples(hier_index)\n",
    "\n",
    "df = pd.DataFrame(data=randn(6,2), index=hier_index, columns=['Atletas', 'Sedentários'])"
   ]
  },
  {
   "cell_type": "markdown",
   "metadata": {},
   "source": [
    "**Exemplo de Aplicação**"
   ]
  },
  {
   "cell_type": "code",
   "execution_count": null,
   "metadata": {},
   "outputs": [],
   "source": [
    "aux = df\n",
    "\"\"\" ## Consulta de linhas e multi-indexes \"\"\"\n",
    "# aux = df.loc['G1'].loc[1]\n",
    "# aux = df.xs('G1')\n",
    "\n",
    "\"\"\" ## Definição de nomes para os index \"\"\"\n",
    "# aux.index.names = ['Grupo', 'Número']\n",
    "\n",
    "\"\"\" ## Outra forma de consulta de um multi-index \"\"\"\n",
    "# aux = aux.xs(1, level='Número')\n",
    "\n",
    "display(aux)"
   ]
  },
  {
   "cell_type": "markdown",
   "metadata": {},
   "source": [
    "## Tratamento de dados ausentes"
   ]
  },
  {
   "cell_type": "markdown",
   "metadata": {},
   "source": [
    "Métodos para manipulação de dados inacessíveis ou inexistentes"
   ]
  },
  {
   "cell_type": "markdown",
   "metadata": {},
   "source": [
    "**Gerando DataFrame para testes**"
   ]
  },
  {
   "cell_type": "code",
   "execution_count": 176,
   "metadata": {},
   "outputs": [],
   "source": [
    "import pandas as pd\n",
    "import numpy as np\n",
    "\n",
    "df = pd.DataFrame({\n",
    "    'A': [3,2,np.nan],\n",
    "    'B': [np.nan,5, np.nan],\n",
    "    'C': [1, 3 ,9],\n",
    "})"
   ]
  },
  {
   "cell_type": "markdown",
   "metadata": {},
   "source": [
    "1. Exclusão de valores NAN"
   ]
  },
  {
   "cell_type": "code",
   "execution_count": null,
   "metadata": {},
   "outputs": [],
   "source": [
    "aux = df.copy()\n",
    "\"\"\" ## Excluir linhas com valores NAN \"\"\"\n",
    "# aux = df.dropna()\n",
    "\n",
    "\"\"\" ## Excluir colunas com valores NAN \"\"\"\n",
    "# aux = df.dropna(axis=1)\n",
    "\n",
    "\"\"\" ## Excluir linhas/colunas com pelo menos X valores NAN \"\"\"\n",
    "# x = 2\n",
    "# aux = df.dropna(axis=1, thresh=x)\n",
    "\n",
    "display(aux)"
   ]
  },
  {
   "cell_type": "markdown",
   "metadata": {},
   "source": [
    "2. Substituição de valores NAN"
   ]
  },
  {
   "cell_type": "code",
   "execution_count": null,
   "metadata": {},
   "outputs": [],
   "source": [
    "aux = df.copy()\n",
    "\"\"\" ## Substituir valores NAN \"\"\"\n",
    "# aux = df.fillna('-')\n",
    "\n",
    "\"\"\" ## Substituir valores NAN de uma serie \"\"\"\n",
    "# aux = df['A'].fillna(value=df['A'].mean())\n",
    "\n",
    "display(aux)"
   ]
  },
  {
   "cell_type": "markdown",
   "metadata": {},
   "source": [
    "*Obs: a média/soma, dentre alguns outros métodos de DataFrames, são aplicados entre os valores de mesma serie (coluna)*"
   ]
  },
  {
   "cell_type": "markdown",
   "metadata": {},
   "source": [
    "3. Preencher com valores existentes no DataFrame"
   ]
  },
  {
   "cell_type": "code",
   "execution_count": null,
   "metadata": {},
   "outputs": [],
   "source": [
    "aux = df.copy()\n",
    "\n",
    "\"\"\" ## Substituir NAN pelo valor anterior/acima (forward fill) \"\"\"\n",
    "# aux = df.ffill()\n",
    "\n",
    "\"\"\" ## Substituir NAN pelo valor posterior/abaixo (back fill) \"\"\"\n",
    "# df.bfill()\n",
    "\n",
    "display(aux)"
   ]
  },
  {
   "cell_type": "markdown",
   "metadata": {},
   "source": [
    "*Obs: valores que não foram substituidos não tinham anterior/posteiror*"
   ]
  },
  {
   "cell_type": "markdown",
   "metadata": {},
   "source": [
    "## Groupby"
   ]
  },
  {
   "cell_type": "markdown",
   "metadata": {},
   "source": [
    "Método muito potente para agrupamento de dados semelhantes. Funciona de forma análoga à uma sanfona, aplica o agrupamento de dados iguais em uma df, e depois pode ser \"expandido\" com outro método."
   ]
  },
  {
   "cell_type": "markdown",
   "metadata": {},
   "source": [
    "**Gerando DataFrame para testes**"
   ]
  },
  {
   "cell_type": "code",
   "execution_count": 54,
   "metadata": {},
   "outputs": [],
   "source": [
    "import pandas as pd\n",
    "import numpy as np\n",
    "\n",
    "data = {\n",
    "    'Classe':   ['Júnior', 'Júnior', 'Pleno', 'Pleno', 'Sênior', 'Sênior'],\n",
    "    'Nome':     ['Jorge', 'Carlos', 'Roberta', 'Patrícia', 'Bruno', 'Vera'],\n",
    "    'Venda':    [200, 120, 340, 124, 243, 350],\n",
    "}\n",
    "\n",
    "df = pd.DataFrame(data=data)"
   ]
  },
  {
   "cell_type": "markdown",
   "metadata": {},
   "source": [
    "1. Agrupamento"
   ]
  },
  {
   "cell_type": "code",
   "execution_count": null,
   "metadata": {},
   "outputs": [],
   "source": [
    "\"\"\" # Agrupamento da df por classe \"\"\"\n",
    "aux = df.groupby('Classe')\n",
    "\n",
    "\"\"\" ## Métodos de operações aritméticas \"\"\"\n",
    "# aux = df.groupby('Classe').sum(numeric_only=True)\n",
    "# aux = df.groupby('Classe').mean(numeric_only=True)\n",
    "\n",
    "\"\"\" ## Consulta de máximos e mínimos \"\"\"\n",
    "# aux = df.groupby('Classe').min()\n",
    "# aux = df.groupby('Classe').max()\n",
    "\n",
    "display(aux)"
   ]
  },
  {
   "cell_type": "markdown",
   "metadata": {},
   "source": [
    "*Obs: o método sozinho apenas agrupa os dados, após isso é necessário aplicar alguma outra função para voltar a df ao seu tipo de dado original*"
   ]
  },
  {
   "cell_type": "markdown",
   "metadata": {},
   "source": [
    "2. Concatenando DFs"
   ]
  },
  {
   "cell_type": "code",
   "execution_count": null,
   "metadata": {},
   "outputs": [],
   "source": [
    "\"\"\" ## Criando outra df baseada na primeira \"\"\"\n",
    "df2 = df.copy()\n",
    "df2['Venda'] = [150, 432, 190, 230, 410, 155]\n",
    "aux = df2.copy()\n",
    "\n",
    "\"\"\" ## Concatenando dfs \"\"\"\n",
    "# aux = pd.concat([df,df2])\n",
    "\n",
    "\"\"\" ## Concatenando e agrupando dfs \"\"\"\n",
    "# df3 = pd.concat([df,df2])\n",
    "# aux = df3.groupby(['Classe', 'Nome']).sum()\n",
    "\n",
    "display(aux)"
   ]
  },
  {
   "cell_type": "markdown",
   "metadata": {},
   "source": [
    "*Obs: lembrando que o .copy() é necessário para não vincular as dfs e não modificar uma quando manipular a outra*"
   ]
  },
  {
   "cell_type": "markdown",
   "metadata": {},
   "source": [
    "## Merge, concat e join"
   ]
  },
  {
   "cell_type": "markdown",
   "metadata": {},
   "source": [
    "Análise de funcionamento de três métodos de união de DataFrames a partir dos resultados das respectivas aplicações dos métodos: .concat(), .merge() e .join(). Os métodos supõem que você tenha diversos DataFrames, com dados semelhantes, e necessite da união em só uma DF com todos os dados.\n",
    "\n",
    "> **Definição**  \n",
    ">\n",
    "> concat - Uma opção para concatenar dataframes em um único dataframe, colocando um embaixo do outro, desde que as dimensões sejam correspondentes  \n",
    "> merge - Uma opção para unir diferentes dataframes em um único dataframe, mesclando alguns dados (de acordo com os argumentos utilizados)  \n",
    "> join - Uma opção para juntar dois dataframes diferentes, “df1” e “df2”, em um único dataframe"
   ]
  },
  {
   "cell_type": "markdown",
   "metadata": {},
   "source": [
    "**Gerando DataFrame para testes**"
   ]
  },
  {
   "cell_type": "code",
   "execution_count": 156,
   "metadata": {},
   "outputs": [],
   "source": [
    "import pandas as pd\n",
    "aux = pd.DataFrame()\n",
    "\n",
    "\"\"\" ## DF teste para pd.concat() \"\"\"\n",
    "df1 = pd.DataFrame({\n",
    "    'A': ['A00', 'A01', 'A02', 'A03'], \n",
    "    'B': ['B00', 'B01', 'B02', 'B03'], \n",
    "    'C': ['C00', 'C01', 'C02', 'C03'], \n",
    "    'D': ['D00', 'D01', 'D02', 'D03'], \n",
    "}, index = [0, 1, 2, 3])\n",
    "df2 = pd.DataFrame({\n",
    "    'A': ['A04', 'A05', 'A06', 'A07'], \n",
    "    'B': ['B04', 'B05', 'B06', 'B07'], \n",
    "    'C': ['C04', 'C05', 'C06', 'C07'], \n",
    "    'D': ['D04', 'D05', 'D06', 'D07'], \n",
    "}, index = [4, 5, 6, 7])\n",
    "df3 = pd.DataFrame({\n",
    "    'A': ['A08', 'A09', 'A10', 'A11'], \n",
    "    'B': ['B08', 'B09', 'B10', 'B11'], \n",
    "    'C': ['C08', 'C09', 'C10', 'C11'], \n",
    "    'D': ['D08', 'D09', 'D10', 'D11'], \n",
    "}, index = [8, 9, 10, 11])\n",
    "\n",
    "\"\"\" ## DF teste para pd.merge() \"\"\"\n",
    "esquerda = pd.DataFrame({\n",
    "    'key1':  ['0', '1', '2', '3'],\n",
    "    'A':    ['A0', 'A1', 'A2', 'A3'], \n",
    "    'B':    ['B0', 'B1', 'B2', 'B3'], \n",
    "})\n",
    "direita = pd.DataFrame({\n",
    "    'key1':  ['0', '1', '2', '3'],\n",
    "    'C':    ['C0', 'C1', 'C2', 'C3'], \n",
    "    'D':    ['D0', 'D1', 'D2', 'D3'], \n",
    "})\n",
    "# # Teste 1 pd.merge():\n",
    "# esquerda['key1'] = ['K0', 'K1', 'K2', 'K3']\n",
    "# direita['key1'] = ['K0', 'K1', 'K2', 'K3']\n",
    "# # Teste 2 pd.merge():\n",
    "# esquerda['key1'] = ['K0', 'K0', 'K1', 'K2']\n",
    "# esquerda['key2'] = ['K0', 'K1', 'K0', 'K1']\n",
    "# direita['key1'] = ['K0', 'K1', 'K1', 'K2']\n",
    "# direita['key2'] = ['K0', 'K0', 'K0', 'K0']\n",
    "\n",
    "\"\"\" ## DF teste para df.join() \"\"\"\n",
    "esquerda = pd.DataFrame({\n",
    "    'A':    ['A0', 'A1', 'A2'], \n",
    "    'B':    ['B0', 'B1', 'B2'], \n",
    "}, index=   ['K0', 'K1', 'K2'])\n",
    "direita = pd.DataFrame({\n",
    "    'C':    ['C0', 'C2', 'C3'], \n",
    "    'D':    ['D0', 'D2', 'D3'], \n",
    "}, index=   ['K0', 'K2', 'K3'])\n"
   ]
  },
  {
   "cell_type": "markdown",
   "metadata": {},
   "source": [
    "1. pd.concat()"
   ]
  },
  {
   "cell_type": "code",
   "execution_count": null,
   "metadata": {},
   "outputs": [],
   "source": [
    "\"\"\" ## Concatenando linhas, o padrão\"\"\"\n",
    "# aux = pd.concat([df1, df2, df3])    # axis=0\n",
    "\n",
    "\"\"\" ## Concatenando colunas\"\"\"\n",
    "# aux = pd.concat([df1, df2, df3], axis=1)\n",
    "\n",
    "display(aux)"
   ]
  },
  {
   "cell_type": "markdown",
   "metadata": {},
   "source": [
    "2. pd.merge()"
   ]
  },
  {
   "cell_type": "code",
   "execution_count": 149,
   "metadata": {},
   "outputs": [
    {
     "data": {
      "text/html": [
       "<div>\n",
       "<style scoped>\n",
       "    .dataframe tbody tr th:only-of-type {\n",
       "        vertical-align: middle;\n",
       "    }\n",
       "\n",
       "    .dataframe tbody tr th {\n",
       "        vertical-align: top;\n",
       "    }\n",
       "\n",
       "    .dataframe thead th {\n",
       "        text-align: right;\n",
       "    }\n",
       "</style>\n",
       "<table border=\"1\" class=\"dataframe\">\n",
       "  <thead>\n",
       "    <tr style=\"text-align: right;\">\n",
       "      <th></th>\n",
       "    </tr>\n",
       "  </thead>\n",
       "  <tbody>\n",
       "  </tbody>\n",
       "</table>\n",
       "</div>"
      ],
      "text/plain": [
       "Empty DataFrame\n",
       "Columns: []\n",
       "Index: []"
      ]
     },
     "metadata": {},
     "output_type": "display_data"
    }
   ],
   "source": [
    "\"\"\" ## Mesclando, nas colunas com dados equivalentes (padrão) \"\"\"\n",
    "# aux = pd.merge(esquerda, direita)\n",
    "\n",
    "\"\"\" ## Mesclando, em coluna(s) especifica(s)\"\"\"\n",
    "# aux = pd.merge(esquerda, direita, on=['key1'])\n",
    "\n",
    "\"\"\" ## Definindo o método de mesclagem (:param how:) \"\"\"\n",
    "# aux = pd.merge(direita, esquerda, how='outer')\n",
    "\n",
    "display(aux)"
   ]
  },
  {
   "cell_type": "markdown",
   "metadata": {},
   "source": [
    "*Obs: o merge funciona de forma a procurar ocorrencias simultâneas nas DFs, inserindo a segunda (direita) na primeira (esquerda)*"
   ]
  },
  {
   "cell_type": "markdown",
   "metadata": {},
   "source": [
    "3. pd.join()"
   ]
  },
  {
   "cell_type": "code",
   "execution_count": null,
   "metadata": {},
   "outputs": [],
   "source": [
    "\"\"\" ## Juntando (padrão) \"\"\"\n",
    "# aux = esquerda.join(direita)\n",
    "\n",
    "\"\"\" ## Definindo o método de junção (:param how:) \"\"\"\n",
    "# aux = esquerda.join(direita, how='outer')\n",
    "\n",
    "display(aux)"
   ]
  },
  {
   "cell_type": "markdown",
   "metadata": {},
   "source": [
    "*Obs: o join funciona como um método da própria instância da DF (df.join()), enquanto os outros métodos são módulos do pandas (pd.merge(df1, df2) ou pd.concat(df1, df2))*"
   ]
  },
  {
   "cell_type": "markdown",
   "metadata": {},
   "source": [
    "## Operações com DataFrames"
   ]
  },
  {
   "cell_type": "markdown",
   "metadata": {},
   "source": [
    "**Gerando DataFrame para testes**"
   ]
  },
  {
   "cell_type": "code",
   "execution_count": 79,
   "metadata": {},
   "outputs": [
    {
     "data": {
      "text/html": [
       "<div>\n",
       "<style scoped>\n",
       "    .dataframe tbody tr th:only-of-type {\n",
       "        vertical-align: middle;\n",
       "    }\n",
       "\n",
       "    .dataframe tbody tr th {\n",
       "        vertical-align: top;\n",
       "    }\n",
       "\n",
       "    .dataframe thead th {\n",
       "        text-align: right;\n",
       "    }\n",
       "</style>\n",
       "<table border=\"1\" class=\"dataframe\">\n",
       "  <thead>\n",
       "    <tr style=\"text-align: right;\">\n",
       "      <th></th>\n",
       "      <th>A</th>\n",
       "      <th>B</th>\n",
       "      <th>C</th>\n",
       "      <th>D</th>\n",
       "    </tr>\n",
       "  </thead>\n",
       "  <tbody>\n",
       "    <tr>\n",
       "      <th>0</th>\n",
       "      <td>foo</td>\n",
       "      <td>one</td>\n",
       "      <td>x</td>\n",
       "      <td>1</td>\n",
       "    </tr>\n",
       "    <tr>\n",
       "      <th>1</th>\n",
       "      <td>foo</td>\n",
       "      <td>one</td>\n",
       "      <td>y</td>\n",
       "      <td>3</td>\n",
       "    </tr>\n",
       "    <tr>\n",
       "      <th>2</th>\n",
       "      <td>foo</td>\n",
       "      <td>two</td>\n",
       "      <td>x</td>\n",
       "      <td>2</td>\n",
       "    </tr>\n",
       "    <tr>\n",
       "      <th>3</th>\n",
       "      <td>bar</td>\n",
       "      <td>two</td>\n",
       "      <td>y</td>\n",
       "      <td>5</td>\n",
       "    </tr>\n",
       "    <tr>\n",
       "      <th>4</th>\n",
       "      <td>bar</td>\n",
       "      <td>one</td>\n",
       "      <td>x</td>\n",
       "      <td>4</td>\n",
       "    </tr>\n",
       "  </tbody>\n",
       "</table>\n",
       "</div>"
      ],
      "text/plain": [
       "     A    B  C  D\n",
       "0  foo  one  x  1\n",
       "1  foo  one  y  3\n",
       "2  foo  two  x  2\n",
       "3  bar  two  y  5\n",
       "4  bar  one  x  4"
      ]
     },
     "execution_count": 79,
     "metadata": {},
     "output_type": "execute_result"
    }
   ],
   "source": [
    "import pandas as pd\n",
    "\n",
    "\"\"\" ## 1 a 4 \"\"\"\n",
    "df = pd.DataFrame({\n",
    "    'col1': [1,2,3,4],\n",
    "    'col2': [444,555,666,444],\n",
    "    'col3': ['abc', 'def', 'ghi', 'xyz'],\n",
    "})\n",
    "aux = df.copy()\n",
    "\n",
    "\"\"\" ## Exemplo de Aplicação \"\"\"\n",
    "df1 = pd.DataFrame({\n",
    "    'A': ['foo', 'foo', 'foo', 'bar', 'bar', 'bar'],\n",
    "    'B': ['one', 'one', 'two', 'two', 'one', 'one'],\n",
    "    'C': ['x', 'y', 'x', 'y', 'x', 'y'],\n",
    "    'D': [1,3,2,5,4,1],\n",
    "})\n",
    "aux = df1.copy()\n",
    "\n",
    "aux.head()"
   ]
  },
  {
   "cell_type": "markdown",
   "metadata": {},
   "source": [
    "*Obs: executar o código anterior antes dos próximos*"
   ]
  },
  {
   "cell_type": "markdown",
   "metadata": {},
   "source": [
    "1. Métodos úteis"
   ]
  },
  {
   "cell_type": "code",
   "execution_count": null,
   "metadata": {},
   "outputs": [],
   "source": [
    "# aux = df.info()\n",
    "# aux = df.memory_usage()\n",
    "\n",
    "display(aux)"
   ]
  },
  {
   "cell_type": "markdown",
   "metadata": {},
   "source": [
    "2. Informações sobre métodos exclusivos"
   ]
  },
  {
   "cell_type": "code",
   "execution_count": null,
   "metadata": {},
   "outputs": [],
   "source": [
    "\"\"\" ## Coletar uma lista com os valores únicos de uma coluna \"\"\"\n",
    "# aux = df['col2'].unique()\n",
    "\n",
    "\"\"\" ## Coletar a quantidade de valores únicos em uma coluna \"\"\"\n",
    "# aux = df['col2'].nunique()\n",
    "\n",
    "\"\"\" ## Coletar uma Serie com valores e quantas repetições houveram \"\"\"\n",
    "# aux = df['col2'].value_counts()\n",
    "\n",
    "display(aux)"
   ]
  },
  {
   "cell_type": "markdown",
   "metadata": {},
   "source": [
    "3. Aplicando funções "
   ]
  },
  {
   "cell_type": "code",
   "execution_count": null,
   "metadata": {},
   "outputs": [],
   "source": [
    "def comp(x): return x ** 2 + 3\n",
    "# aux = df['col1'].apply(comp)\n",
    "\n",
    "def half(x): return x/2\n",
    "# aux = df['col2'].apply(half)\n",
    "\n",
    "display(aux)"
   ]
  },
  {
   "cell_type": "markdown",
   "metadata": {
    "vscode": {
     "languageId": "latex"
    }
   },
   "source": [
    "4. Funções numéricas"
   ]
  },
  {
   "cell_type": "code",
   "execution_count": null,
   "metadata": {},
   "outputs": [],
   "source": [
    "\"\"\" ## Média dos valores \"\"\"\n",
    "# aux = df['col1'].mean()\n",
    "\n",
    "\"\"\" ## Soma dos valores\"\"\"\n",
    "# aux = df['col1'].sum()\n",
    "\n",
    "\"\"\" ## Produto dos valores \"\"\"\n",
    "# aux = df['col1'].product()\n",
    "\n",
    "\"\"\" ## Desvio padrão \"\"\"\n",
    "# aux = df['col1'].std()\n",
    "\n",
    "\"\"\" ## Valor mínimo \"\"\"\n",
    "# aux = df['col1'].max()\n",
    "\n",
    "\"\"\" ## Valor mínimo \"\"\"\n",
    "# aux = df['col1'].min()\n",
    "\n",
    "\"\"\" ## Id do valor mínimo \"\"\"\n",
    "# aux = df['col1'].idxmax()\n",
    "\n",
    "\"\"\" ## Id do valor mínimo \"\"\"\n",
    "# aux = df['col1'].idxmin()\n",
    "\n",
    "\"\"\" ## Ordenação de valores \"\"\"\n",
    "# aux = df.sort_values(by='col1')\n",
    "\n",
    "display(aux)"
   ]
  },
  {
   "cell_type": "markdown",
   "metadata": {},
   "source": [
    "**Exemplo de Aplicação**"
   ]
  },
  {
   "cell_type": "code",
   "execution_count": null,
   "metadata": {},
   "outputs": [],
   "source": [
    "\"\"\" ## Se quiser somar todos os elementos da coluna 1, sempre que o valor da coluna 2 for igual a 444\"\"\"\n",
    "# aux = df[df['col2'] == 444]\n",
    "# aux= aux['col1'].sum()\n",
    "\n",
    "\"\"\" ##  Substituir valores numéricos a partir de um dicionário \"\"\"\n",
    "# dict_map = {'one': 1, 'two': 2}\n",
    "# aux['E'] = df1['B'].map(dict_map)\n",
    "\n",
    "\"\"\" ## Pivotar tabela \"\"\"\n",
    "# aux = df1.pivot_table(index='A', columns='B', values='D')\n",
    "\n",
    "display(aux)"
   ]
  },
  {
   "cell_type": "markdown",
   "metadata": {},
   "source": [
    "## Séries Temporais no Pandas"
   ]
  },
  {
   "cell_type": "markdown",
   "metadata": {},
   "source": [
    "Apresentando uma forma de trabalhar com datas em DataFrames."
   ]
  },
  {
   "cell_type": "markdown",
   "metadata": {},
   "source": [
    "**Gerando DataFrame para Testes**"
   ]
  },
  {
   "cell_type": "code",
   "execution_count": null,
   "metadata": {},
   "outputs": [],
   "source": [
    "import pandas as pd\n",
    "import datetime as dt\n",
    "\n",
    "num_dias = 100\n",
    "datas = pd.date_range(start='1/1/2021', periods=num_dias)\n",
    "df = pd.DataFrame(range(num_dias), columns=['number'], index=datas)\n",
    "aux = df.copy()\n",
    "\n",
    "display(aux.head())"
   ]
  },
  {
   "cell_type": "markdown",
   "metadata": {},
   "source": [
    "1. Manipulando as datas em DFs"
   ]
  },
  {
   "cell_type": "code",
   "execution_count": 128,
   "metadata": {},
   "outputs": [
    {
     "data": {
      "text/html": [
       "<div>\n",
       "<style scoped>\n",
       "    .dataframe tbody tr th:only-of-type {\n",
       "        vertical-align: middle;\n",
       "    }\n",
       "\n",
       "    .dataframe tbody tr th {\n",
       "        vertical-align: top;\n",
       "    }\n",
       "\n",
       "    .dataframe thead th {\n",
       "        text-align: right;\n",
       "    }\n",
       "</style>\n",
       "<table border=\"1\" class=\"dataframe\">\n",
       "  <thead>\n",
       "    <tr style=\"text-align: right;\">\n",
       "      <th></th>\n",
       "      <th>number</th>\n",
       "    </tr>\n",
       "  </thead>\n",
       "  <tbody>\n",
       "    <tr>\n",
       "      <th>2021-01-26</th>\n",
       "      <td>25</td>\n",
       "    </tr>\n",
       "    <tr>\n",
       "      <th>2021-01-27</th>\n",
       "      <td>26</td>\n",
       "    </tr>\n",
       "    <tr>\n",
       "      <th>2021-01-28</th>\n",
       "      <td>27</td>\n",
       "    </tr>\n",
       "    <tr>\n",
       "      <th>2021-01-29</th>\n",
       "      <td>28</td>\n",
       "    </tr>\n",
       "    <tr>\n",
       "      <th>2021-01-30</th>\n",
       "      <td>29</td>\n",
       "    </tr>\n",
       "    <tr>\n",
       "      <th>2021-01-31</th>\n",
       "      <td>30</td>\n",
       "    </tr>\n",
       "    <tr>\n",
       "      <th>2021-02-01</th>\n",
       "      <td>31</td>\n",
       "    </tr>\n",
       "    <tr>\n",
       "      <th>2021-02-02</th>\n",
       "      <td>32</td>\n",
       "    </tr>\n",
       "    <tr>\n",
       "      <th>2021-02-03</th>\n",
       "      <td>33</td>\n",
       "    </tr>\n",
       "    <tr>\n",
       "      <th>2021-02-04</th>\n",
       "      <td>34</td>\n",
       "    </tr>\n",
       "  </tbody>\n",
       "</table>\n",
       "</div>"
      ],
      "text/plain": [
       "            number\n",
       "2021-01-26      25\n",
       "2021-01-27      26\n",
       "2021-01-28      27\n",
       "2021-01-29      28\n",
       "2021-01-30      29\n",
       "2021-01-31      30\n",
       "2021-02-01      31\n",
       "2021-02-02      32\n",
       "2021-02-03      33\n",
       "2021-02-04      34"
      ]
     },
     "metadata": {},
     "output_type": "display_data"
    }
   ],
   "source": [
    "aux = df.index[0]\n",
    "\n",
    "\"\"\" ## Ano \"\"\"\n",
    "# aux = aux.year\n",
    "\n",
    "\"\"\" ## Mês \"\"\"\n",
    "# aux = aux.month\n",
    "\n",
    "\"\"\" ## Dia \"\"\"\n",
    "# aux = aux.day\n",
    "\n",
    "\"\"\" ## Hora \"\"\"\n",
    "# aux = aux.hour\n",
    "\n",
    "display(aux)"
   ]
  },
  {
   "cell_type": "markdown",
   "metadata": {},
   "source": [
    "**Exemplo de Aplicação**"
   ]
  },
  {
   "cell_type": "code",
   "execution_count": null,
   "metadata": {},
   "outputs": [],
   "source": [
    "\"\"\" ## Exemplos de consultas por atributo de DateTime \"\"\"\n",
    "\"\"\" ## Indexes em janeiro com dias pares  \"\"\"\n",
    "# aux = df[(df.index.month == 1) & (df.index.day % 7 == 0)]\n",
    "\n",
    "\"\"\" ## Indexes entre 25/01/2021 e 05/02/2021 \"\"\"\n",
    "# aux = df[(df.index > dt.datetime(2021, 1, 25)) & (df.index < dt.datetime(2021, 2, 5))]\n",
    "\n",
    "display(aux)"
   ]
  },
  {
   "cell_type": "markdown",
   "metadata": {},
   "source": [
    "## Entrada e Saída de dados"
   ]
  },
  {
   "cell_type": "markdown",
   "metadata": {},
   "source": [
    "> Métodos de importação e exportação:\n",
    ">\n",
    "> pd.read_csv('path') - Importar  \n",
    "> pd.to_csv('file_name', sep='') - Exportar  "
   ]
  },
  {
   "cell_type": "markdown",
   "metadata": {},
   "source": [
    "*Obs: parâmetro sep = separador entre cada dado importado*"
   ]
  },
  {
   "cell_type": "markdown",
   "metadata": {},
   "source": []
  }
 ],
 "metadata": {
  "kernelspec": {
   "display_name": "Python 3",
   "language": "python",
   "name": "python3"
  },
  "language_info": {
   "codemirror_mode": {
    "name": "ipython",
    "version": 3
   },
   "file_extension": ".py",
   "mimetype": "text/x-python",
   "name": "python",
   "nbconvert_exporter": "python",
   "pygments_lexer": "ipython3",
   "version": "3.12.3"
  }
 },
 "nbformat": 4,
 "nbformat_minor": 2
}
