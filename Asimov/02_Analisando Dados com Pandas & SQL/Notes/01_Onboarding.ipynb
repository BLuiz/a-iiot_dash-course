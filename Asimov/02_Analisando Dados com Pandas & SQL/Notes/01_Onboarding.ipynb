{
 "cells": [
  {
   "cell_type": "markdown",
   "metadata": {},
   "source": [
    "## O que são SQL e Pandas"
   ]
  },
  {
   "cell_type": "markdown",
   "metadata": {},
   "source": [
    "O SQL, Structured Query Language, é uma linguagem de consulta utilizada para comunicação com banco de dados. Esses bancos são construídos a partir de tabelas, e no caso do SQL essas tabelas podem ser relacionadas.  \n",
    "Enquanto o Pandas é uma biblioteca em python utilizado para manipulação dos dados de vários tipos de arquivos, incluindo as mesmas tabelas relacionais construídas em SQL."
   ]
  },
  {
   "cell_type": "markdown",
   "metadata": {},
   "source": [
    "Portanto os dois são utilizados amplamente para manipulação de dados, sendo possível aplicar códigos SQL em um trecho python com o Pandas, fazendo sua integração"
   ]
  },
  {
   "cell_type": "markdown",
   "metadata": {},
   "source": [
    "## SQL x Pandas"
   ]
  },
  {
   "cell_type": "markdown",
   "metadata": {},
   "source": [
    "Utilização do Sql:  \n",
    "- Inserir  \n",
    "- Ler  \n",
    "- Atualizar  \n",
    "- Deletar  \n",
    "\n",
    "Utilização do Pandas:\n",
    "- Sql  \n",
    "- Aplicações lógicas  \n",
    "- Aplicações em diferentes tipos de arquivos  \n",
    "- Aplicações com dashboards, telas, aplicativos  "
   ]
  },
  {
   "cell_type": "markdown",
   "metadata": {},
   "source": [
    "## Quando usar cada um"
   ]
  },
  {
   "cell_type": "markdown",
   "metadata": {},
   "source": [
    "**Exemplos de Aplicação**\n",
    "\n",
    "SQL - CRUD;  \n",
    "Pandas - Filtros, Operações, Agrupamentos, etc  "
   ]
  },
  {
   "cell_type": "markdown",
   "metadata": {},
   "source": [
    "*Obs: enquanto a utilização do pandas é muito mais ampla, o SQL também pode realizar aplicações dos tipos citados acima, porém com um nível muito maior de complexidade*"
   ]
  }
 ],
 "metadata": {
  "kernelspec": {
   "display_name": "Python 3",
   "language": "python",
   "name": "python3"
  },
  "language_info": {
   "codemirror_mode": {
    "name": "ipython",
    "version": 3
   },
   "file_extension": ".py",
   "mimetype": "text/x-python",
   "name": "python",
   "nbconvert_exporter": "python",
   "pygments_lexer": "ipython3",
   "version": "3.12.3"
  }
 },
 "nbformat": 4,
 "nbformat_minor": 2
}
