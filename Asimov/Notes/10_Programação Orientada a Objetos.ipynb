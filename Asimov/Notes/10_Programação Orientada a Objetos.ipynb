{
 "cells": [
  {
   "cell_type": "markdown",
   "metadata": {},
   "source": [
    "## Introdução"
   ]
  },
  {
   "cell_type": "markdown",
   "metadata": {},
   "source": [
    "Uma maneira de programar, organizando algumas estruturas de códigos de forma a reutilizá-las em outros momentos. A Programação Orientada a Objetos funciona de forma a abstrair, alguns Objetos com características ou ações semelhantes, criando as chamadas classes com seus atributos e métodos."
   ]
  },
  {
   "cell_type": "markdown",
   "metadata": {},
   "source": [
    "## Objetos e Classes no Python"
   ]
  },
  {
   "cell_type": "markdown",
   "metadata": {},
   "source": [
    "Em POO, as Classes são os modelos, que podem ser criados pelos programadores para abstrair algo genérico, que possa ser replicado facilmente e otimizar o código. Enquanto os Objetos são as instâncias de uma classe, uma variável que se aproveita dessa forma, onde seus atributos e métodos podem ser manipulados.\n",
    "\n",
    "Com essa introdução de Classes agora é possível diferenciar as funções dos métodos, uma vez que as funções são mais gerais, elas podem ser acessadas em qualquer lugar do código sem muitas restrições, enquanto os métodos são funções exclusivas da classe em que foram criados, portanto, os métodos disponíveis para a manipulação de strings só podem ser acessados a partir de uma instância, um objeto, da classe string.\n",
    "\n",
    "Além da criação e abstração de novas estruturas de dados, as classes também foram utilizadas pelos desenvolvedores de python para construir os tipos primitivos de dados. Por exemplos, se aplicarmos o método type() em uma string, o resultado será <class 'str'>, pois o tipo string foi feito de uma classe, por isso tem seus métodos de manipulação.\n",
    "\n",
    "> Criando uma classe para Carros:  \n",
    ">   > atributo placa  \n",
    ">   > atributo cor  \n",
    ">   > atributo modelo  \n",
    ">   > método: ligar  \n",
    ">   > método: desligar  \n",
    ">   > método: frear  \n",
    ">   > método: acelerar  \n",
    ">   > método: trocar marcha  \n",
    ">\n",
    "> fusca1 = Classe carro  \n",
    "> fusca2 = Classe carro  \n",
    "> palio4 = Classe carro  \n",
    "> camaro1 = Classe carro  \n",
    "\n",
    "\n",
    "*Obs: os carros fusca1, fusca2, palio4, camaro1, (objetos) foram instanciados com o modelo (classe), de forma que todos possuem as características (atributos) e ações (métodos) de carro.*"
   ]
  },
  {
   "cell_type": "markdown",
   "metadata": {},
   "source": [
    "**Exemplos de Aplicação**"
   ]
  },
  {
   "cell_type": "code",
   "execution_count": 19,
   "metadata": {},
   "outputs": [],
   "source": [
    "class Carro(object):\n",
    "    pass\n",
    "class Pessoa:\n",
    "    pass\n",
    "class Veiculo:\n",
    "    pass\n",
    "class Jogo(object):\n",
    "    pass\n",
    "\n",
    "fusca = Carro()\n",
    "camaro = Carro()\n",
    "xadrez = Jogo()"
   ]
  },
  {
   "cell_type": "markdown",
   "metadata": {},
   "source": [
    "*Obs: aqui houve apenas a criação de uma classe vazia, sem seus atributos e métodos ainda. Mesmo que diferentes objetos sejam instanciados com a mesma classe serão instancias diferentes e cada um terá atributos de mesma configuração, porém com respectivos valores diferenciados*"
   ]
  },
  {
   "cell_type": "markdown",
   "metadata": {},
   "source": [
    "## Criando classes e métodos"
   ]
  },
  {
   "cell_type": "markdown",
   "metadata": {},
   "source": [
    "Tendo esclarecido o que são métodos que podem ser criados com liberade de abstração do programador, existem algumas funções que são padronizadas, uma delas é o construct, utilizado para instanciar um objeto já inserindo valores em seus atributos. Um ponto importante a notar, é que os métodos, incluindo o construtor, utilizam de um padrão para funcionar, eles dependem do uso da palavra reservada *self*, utilizada para acessar atributos da classe em que está inserida e permitir o acesso de valores de uma classe fora de seu escopo.\n",
    "\n",
    "> Criação de uma classe para Pessoas:  \n",
    "> > atributo idade  \n",
    "> > atributo nome  \n",
    "> > método inicializar(objeto_atual, inp_idade, inp_nome):\n",
    "> > > objeto_atual.idade recebe inp_idade  \n",
    "> > > objeto_atual.nome recebe inp_nome  \n",
    "> \n",
    "> claudio1 instancia Pessoa(inp_idade=13, inp_nome='claudio')  \n",
    "\n",
    "*Obs: ao criar o objeto (instância) claudio1, o construtor da classe Pessoa é chamado para realizar sua incialização com valores, de forma a atribuir idade e nome já em sua criação*"
   ]
  },
  {
   "cell_type": "markdown",
   "metadata": {},
   "source": [
    "**Exemplos de Aplicação**"
   ]
  },
  {
   "cell_type": "code",
   "execution_count": null,
   "metadata": {},
   "outputs": [],
   "source": [
    "# Classe não utilizando métodos\n",
    "class Carro():\n",
    "    # Atributos\n",
    "    cor = None\n",
    "    modelo = None\n",
    "    placa = None\n",
    "\n",
    "# Classe utilizando métodos\n",
    "class Pessoa():\n",
    "    # Atributos\n",
    "    nome = None\n",
    "    idade = None\n",
    "    # Método construtor, inicializa objeto inserindo atributos\n",
    "    def __init__(self, inp_nome, inp_idade):\n",
    "        self.nome = inp_nome\n",
    "        self.idade = inp_idade\n",
    "    # Método abstraído, precisa ser chamado por meio do objeto instanciado\n",
    "    def cumprimentar(self):\n",
    "        print(f'Olá, meu nome é {self.nome} e tenho {self.idade} anos.' )\n",
    "\n",
    "print('-'*25, '\\nCarro (fusca1)')\n",
    "# Instancia com atributos vazios\n",
    "fusca1 = Carro()\n",
    "# Insere atributos\n",
    "fusca1.cor = 'Azul'\n",
    "fusca1.placa = 'PAJ9D13'\n",
    "fusca1.modelo = 'Volkswagen Fusca 1975'\n",
    "# Exibe acessando cada um dos atributos\n",
    "print('Cor: ', fusca1.cor)\n",
    "print('Placa: ', fusca1.placa)\n",
    "print('Modelo: ', fusca1.modelo)\n",
    "\n",
    "print('-'*25, '\\nPessoa (claudio)')\n",
    "# Instancia inserindo valores para os atributos desse objeto\n",
    "claudio = Pessoa('Claudio', 43)\n",
    "# Exibe os atributos por meio de uma função criada pelo programador\n",
    "claudio.cumprimentar()"
   ]
  },
  {
   "cell_type": "markdown",
   "metadata": {},
   "source": [
    "*Obs: ao criar o construtor, não há problema na coincidência de nomes das variáveis com as variáveis da classe, pois são de diferentes escopos*"
   ]
  },
  {
   "cell_type": "markdown",
   "metadata": {},
   "source": [
    "## Herança e Métodos especiais"
   ]
  },
  {
   "cell_type": "markdown",
   "metadata": {},
   "source": [
    "---"
   ]
  },
  {
   "cell_type": "markdown",
   "metadata": {},
   "source": [
    "**Construtor**\n",
    "\n",
    "Considerando que as Classes podem ser criadas para aplicar uma forma genérica, uma estrutura de dados, para várias instâncias, existe também o conceito de Herança de Classes, onde uma classe Pai (herdada) é extendida à classe filha (herdou), de forma que a classe filha possua os atributos e métodos da classe pai.\n",
    "\n",
    "Herança de animal para cachorro:  \n",
    "> classe animal:  \n",
    "> > método inicializador:  \n",
    "> > > nome = ''  \n",
    "> > > gênero = ''  \n",
    "> > método comer:  \n",
    "> > > come  \n",
    ">\n",
    "> classe cachorro(animal):  \n",
    "> > método inicializador(objeto_atual, raça, idade):  \n",
    "> > > objeto_atual.raça recebe raça  \n",
    "> > > objeto_atual.idade recebe idade  \n",
    "> > método latir:  \n",
    "> > > print('AU')  \n",
    ">\n",
    "> cachorro1 instancia Cachorro('Pastor alemão', 7)  \n",
    "> cachorro1.latir  \n",
    "> cachorro1.comer  \n",
    "\n",
    "Nesse caso cachorro1 (instância de da classe cachorro) herdou todos os atributos e métodos da classe animal."
   ]
  },
  {
   "cell_type": "markdown",
   "metadata": {},
   "source": [
    "**Exemplos de Aplicação**"
   ]
  },
  {
   "cell_type": "code",
   "execution_count": 5,
   "metadata": {},
   "outputs": [
    {
     "name": "stdout",
     "output_type": "stream",
     "text": [
      "Animal criado.Animal atual é um Cachorro\n",
      "Olá, meu nome é Bob, tenho 5 anos.\n",
      "Sou um animal de gênero Canis canidae e de raça Pastor alemão \n",
      "\n"
     ]
    }
   ],
   "source": [
    "'# Criando e instanciando a classe cachorro'\n",
    "class Animal:\n",
    "    def __init__(self, nome, genero):\n",
    "        self.nome = nome\n",
    "        self.genero = genero\n",
    "        print('Animal criado. ', end='')\n",
    "    \n",
    "    def comer():\n",
    "        comer+=1\n",
    "\n",
    "class Cachorro(Animal):\n",
    "    def __init__(self, raca, idade, nome, genero):\n",
    "        Animal.__init__(self, nome, genero)\n",
    "        self.raca = raca\n",
    "        self.idade = idade\n",
    "        print('Animal atual é um Cachorro') \n",
    "    \n",
    "    def latir():\n",
    "        print('AU')\n",
    "\n",
    "    def print_coleira(self):\n",
    "        print(f'Olá, meu nome é {self.nome}, tenho {self.idade} anos.')\n",
    "        print(f'Sou um animal de gênero {self.genero} e de raça {self.raca} \\n')\n",
    "\n",
    "        \n",
    "\n",
    "cao1 = Cachorro(raca='Pastor alemão', idade=5, nome='Bob', genero='Canis canidae')\n",
    "cao1.print_coleira()"
   ]
  },
  {
   "cell_type": "markdown",
   "metadata": {},
   "source": [
    "---"
   ]
  },
  {
   "cell_type": "markdown",
   "metadata": {},
   "source": [
    "Outros métodos"
   ]
  },
  {
   "cell_type": "markdown",
   "metadata": {},
   "source": [
    "Para a manipulação de instâncias de uma classe existem outros três métodos especiais assim como o construtor.\n",
    "\n",
    "Funcionalidades desses métodos:  \n",
    "> Retorna uma string para exibição de algumas informações da instancia  \n",
    "> Contar tamanho de elementos da instancia  \n",
    "> Deletar a instancia  "
   ]
  },
  {
   "cell_type": "markdown",
   "metadata": {},
   "source": [
    "**Exemplos de Aplicação**"
   ]
  },
  {
   "cell_type": "code",
   "execution_count": 11,
   "metadata": {},
   "outputs": [
    {
     "name": "stdout",
     "output_type": "stream",
     "text": [
      "Domínio: Terrestre. \n",
      "Combustível: Gasolina. \n",
      "Passageiros: 7. \n",
      "Tipo: Carro. \n",
      "\n",
      "Veículo de tipo Carro destruído\n"
     ]
    }
   ],
   "source": [
    "class Veiculo():\n",
    "    def __init__(self, dominio, combustivel, passageiros, tipo):\n",
    "        self.tipo = tipo\n",
    "        self.dominio = dominio\n",
    "        self.combustivel = combustivel\n",
    "        self.passageiros = passageiros\n",
    "    # def __str__(self):\n",
    "    #     return f'Domínio: {self.dominio}. \\nCombustível: {self.combustivel}. \\nPassageiros: {self.passageiros}. \\nTipo: {self.tipo}. \\n'\n",
    "    def __len__(self):\n",
    "        return self.passageiros\n",
    "    def __del__(self):\n",
    "        print(f'Veículo de tipo {self.tipo} destruído')\n",
    "\n",
    "v1 = Veiculo('Terrestre', 'Gasolina', 7, 'Carro')\n",
    "print(v1)\n",
    "tamanho = len(v1)\n",
    "del v1"
   ]
  }
 ],
 "metadata": {
  "kernelspec": {
   "display_name": "Python 3",
   "language": "python",
   "name": "python3"
  },
  "language_info": {
   "codemirror_mode": {
    "name": "ipython",
    "version": 3
   },
   "file_extension": ".py",
   "mimetype": "text/x-python",
   "name": "python",
   "nbconvert_exporter": "python",
   "pygments_lexer": "ipython3",
   "version": "3.12.3"
  }
 },
 "nbformat": 4,
 "nbformat_minor": 2
}
