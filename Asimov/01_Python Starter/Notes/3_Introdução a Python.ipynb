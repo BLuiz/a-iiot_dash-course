{
 "cells": [
  {
   "cell_type": "markdown",
   "id": "e01bd03b-a9ab-4918-a448-a5b732b7c6a6",
   "metadata": {},
   "source": [
    "**Para rodar algum código no terminal:**\n",
    "- cd C:\\Users\\Administrativo\\Desktop\\DashTraining\\Asimov\\Exe\n",
    "- python <file.py>"
   ]
  },
  {
   "cell_type": "markdown",
   "id": "e77245e8-79fb-45e9-9d41-535864b0fe65",
   "metadata": {},
   "source": [
    "**Para testar linhas de códigos no terminal (interpretador interativo)**\n",
    "- python\n",
    "- ipython"
   ]
  }
 ],
 "metadata": {
  "kernelspec": {
   "display_name": "Python 3 (ipykernel)",
   "language": "python",
   "name": "python3"
  },
  "language_info": {
   "codemirror_mode": {
    "name": "ipython",
    "version": 3
   },
   "file_extension": ".py",
   "mimetype": "text/x-python",
   "name": "python",
   "nbconvert_exporter": "python",
   "pygments_lexer": "ipython3",
   "version": "3.11.7"
  }
 },
 "nbformat": 4,
 "nbformat_minor": 5
}
