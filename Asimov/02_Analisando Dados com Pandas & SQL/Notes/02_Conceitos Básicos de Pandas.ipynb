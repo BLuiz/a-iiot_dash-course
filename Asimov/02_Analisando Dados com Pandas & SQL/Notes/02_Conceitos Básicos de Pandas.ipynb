{
 "cells": [
  {
   "cell_type": "markdown",
   "metadata": {},
   "source": [
    "## O que é o Pandas e do que ele é capaz "
   ]
  },
  {
   "cell_type": "markdown",
   "metadata": {},
   "source": [
    "**Exemplo de Aplicação**"
   ]
  },
  {
   "cell_type": "code",
   "execution_count": null,
   "metadata": {},
   "outputs": [],
   "source": [
    "import pandas as pd\n",
    "\n",
    "supermarket_df = pd.read_csv('C:\\\\Users\\\\Administrativo\\\\Desktop\\\\a-iiot_dash-course\\\\Asimov\\\\02_Analisando Dados com Pandas & SQL\\\\Docs\\\\Analisando Dados com Pandas & SQL\\\\Dataserts\\\\supermarket_sales.csv')\n",
    "\n",
    "supermarket_df['Date'] = pd.to_datetime(supermarket_df['Date'])\n",
    "supermarket_df['Month'] = supermarket_df['Date'].apply(lambda x: x.month)\n",
    "supermarket_df['Year'] = supermarket_df['Date'].apply(lambda x: x.year)\n",
    "\n",
    "data_df = supermarket_df\n",
    "\n",
    "\"\"\"## Faturamento total por filial\"\"\"\n",
    "# data_df = supermarket_df.groupby('City')[['Total', 'gross income']].sum()\n",
    "\n",
    "\"\"\"## Percentual de participação na receita\"\"\"\n",
    "# data_df = (supermarket_df.groupby('Product line')['Total'].sum() / supermarket_df.groupby('Product line')['Total'].sum().sum()).sort_values() * 100\n",
    "\n",
    "\"\"\"## Distribuição de produto por gênero\"\"\"\n",
    "# data_df = supermarket_df.groupby(['Product line', 'Gender'])[['Total']].sum().pivot_table(index='Product line', columns='Gender')\n",
    "\n",
    "\"\"\"## Faturamento mensal\"\"\"\n",
    "# data_df = supermarket_df.groupby(['Month'])['Total'].sum()\n",
    "\n",
    "\"\"\"## Média de avaliação por filial em janeiro de 2019\"\"\"\n",
    "# data_df = supermarket_df[(supermarket_df['Year'] == 2019) & (supermarket_df['Month'] == 1)]['Rating'].mean()\n",
    "\n",
    "\"\"\"## Distribuição de gastos por tipo de consumidor em cada filial\"\"\"\n",
    "# data_df = supermarket_df.groupby(['Customer type', 'City'])['Total'].sum()\n",
    "\n",
    "display(data_df)"
   ]
  },
  {
   "cell_type": "markdown",
   "metadata": {},
   "source": [
    "## Como estudar Pandas?"
   ]
  },
  {
   "cell_type": "markdown",
   "metadata": {},
   "source": [
    "- Anotações das carga teórica do curso\n",
    "- Prática sobre os projetos do curso"
   ]
  },
  {
   "cell_type": "markdown",
   "metadata": {},
   "source": [
    "## Como Vão se dar as aulas?"
   ]
  },
  {
   "cell_type": "markdown",
   "metadata": {},
   "source": [
    "- Utilização do Jupyter Lab, para anotações e práticas.\n",
    "- Recriação de apostilas realizando análises de bases de dados."
   ]
  },
  {
   "cell_type": "markdown",
   "metadata": {},
   "source": [
    "## Series"
   ]
  },
  {
   "cell_type": "markdown",
   "metadata": {},
   "source": [
    "Para aplicações com Pandas, existem dois principais componentes:  \n",
    "- Dataframes (tabelas)  \n",
    "- Series (colunas)  \n",
    "\n",
    "Para manipulação de Series é possível utilizar de dados importados de uma tabela, bem como criar alguns dados nos formatos nativos do python e transformá-los em Series. Ao aplicar o método pandas.Series(), os dois primeiros parâmetros requeridos são os dados e os indexes, de forma que a função também infira dados e indexes a partir de dicionários passados como parâmetros."
   ]
  },
  {
   "cell_type": "markdown",
   "metadata": {},
   "source": [
    "**Exemplo de Aplicação**"
   ]
  },
  {
   "cell_type": "code",
   "execution_count": null,
   "metadata": {},
   "outputs": [],
   "source": [
    "import pandas as pd\n",
    "import numpy as np\n",
    "\n",
    "labels = ['a', 'b', 'c']\n",
    "\n",
    "minha_lista = [10, 20, 30]\n",
    "\n",
    "arr = np.array(minha_lista)\n",
    "\n",
    "d = {\n",
    "    'a': 10,\n",
    "    'b': 20,\n",
    "    'c': 30,\n",
    "}\n",
    "\n",
    "series1 = pd.Series(data=minha_lista, index=labels)\n",
    "series2 = pd.Series(d)\n",
    "\n",
    "display(series1)\n",
    "display(series2)"
   ]
  },
  {
   "cell_type": "markdown",
   "metadata": {},
   "source": [
    "*Obs: utilizando o help(pd.Series) é possível analisar seu funcionamento e parâmetros, bem como pesquisando pela documentação do pandas no python.org*"
   ]
  },
  {
   "cell_type": "markdown",
   "metadata": {},
   "source": [
    "1. Realizando a consulta de elementos em uma Serie"
   ]
  },
  {
   "cell_type": "code",
   "execution_count": null,
   "metadata": {},
   "outputs": [],
   "source": [
    "\"\"\"## Criando uma Serie de exemplo\"\"\"\n",
    "countries1 = pd.Series({k : v+1 for v, k in enumerate(['USA', 'ITALY', 'BRAZIL', 'RUSSIA', 'GERMANY'])})\n",
    "countries2 = pd.Series({k : v+2 for v, k in enumerate(['USA', 'MEXICO', 'BRAZIL', 'RUSSIA', 'POLISH'])})\n",
    "res = None\n",
    "\n",
    "\"\"\"# Filtrando um elemento da Serie\"\"\"\n",
    "# res = countries1['USA']\n",
    "\n",
    "\"\"\"# Filtrando mais de um elemento da Serie\"\"\"\n",
    "# res = countries1[['USA', 'GERMANY']]\n",
    "\n",
    "\"\"\"# Somando Series\"\"\"\n",
    "# res = countries1 + countries2\n",
    "\n",
    "display(res)"
   ]
  },
  {
   "cell_type": "markdown",
   "metadata": {},
   "source": [
    "*Obs: as operações serão resultadas pelas indexações, logo, se os indexes não forem compatíveis em uma soma, não haverá resultado*"
   ]
  },
  {
   "cell_type": "markdown",
   "metadata": {},
   "source": [
    "## DataFrames e manipulação de colunas"
   ]
  },
  {
   "cell_type": "markdown",
   "metadata": {},
   "source": [
    "DataFrames são basicamente tabelas, utilizadas pelo pandas para manipulação e compreensão de muitos dados rotulados. Para cada linha de um DataFrame podem haver indexes, sejam eles numéricos ou de texto, e para cada coluna desse DataFrame há uma Serie, com um rótulo e respectivos valores.  \n",
    "\n",
    "*Obs: ao realizar a filtragem de uma coluna (['col']), é feito um recorte, retorna uma Serie. Contudo quando se passa uma lista ([['col']]), mesmo que só com um elemento, retorna um DataFrame*"
   ]
  },
  {
   "cell_type": "markdown",
   "metadata": {},
   "source": [
    "**Exemplo de Aplicação**"
   ]
  },
  {
   "cell_type": "code",
   "execution_count": null,
   "metadata": {},
   "outputs": [],
   "source": [
    "\"\"\"## Gerando dados e criando um DataFrame \"\"\"\n",
    "import pandas as pd\n",
    "from numpy.random import randn\n",
    "\n",
    "cells = randn(5,4)\n",
    "row = ['A', 'B', 'C', 'D', 'E']\n",
    "col = ['W', 'X', 'Y', 'Z']\n",
    "\n",
    "df = pd.DataFrame(cells, index=row, columns=col)\n",
    "\n",
    "display(df)"
   ]
  },
  {
   "cell_type": "markdown",
   "metadata": {},
   "source": [
    "1. Manipulação de um DataFrame"
   ]
  },
  {
   "cell_type": "code",
   "execution_count": null,
   "metadata": {},
   "outputs": [],
   "source": [
    "\"\"\"## Gerando DF exemplo\"\"\"\n",
    "cells = [ [False, False, False], [False, False, True], [False, True, False], [False, True, True], [True, False, False], [True, False, True], [True, True, False], [True, True, True], ]\n",
    "df = pd.DataFrame(cells, index=[ 'm0', 'm1', 'm2', 'm3', 'm4', 'm5', 'm6', 'm7'], columns=['A', 'B', 'C'])\n",
    "aux = df\n",
    "\n",
    "\"\"\"## Filtrando DataFrame\"\"\"\n",
    "# aux = df[['A', 'B']]                # Colunas\n",
    "# aux = df[['A']]                     # Linhas\n",
    "# aux = df.loc[['m3', 'm7'], ['A']]   # Linhas, Colunas\n",
    "# aux = df.iloc[0,2]                  # Colunas, Linhas e Células\n",
    "\n",
    "\"\"\"## Criando novas Series no DataFrame\"\"\"\n",
    "# df['(A and B) or C'] = (df['A'] * df['B']) + df['C']\n",
    "\n",
    "\"\"\"# Deletando alguma(s) Series do DataFrame\"\"\"\n",
    "# del(df['A'])                                        # Apenas para Series\n",
    "# aux = df.drop(['m0', 'm2', 'm4', 'm6'], axis=0)     # Series e Linhas\n",
    "\n",
    "display(aux)\n",
    "# display(df)"
   ]
  },
  {
   "cell_type": "markdown",
   "metadata": {},
   "source": [
    "*Obs: a maioria dos métodos de DF aplicam a função em uma cópia da DF, não modificando-a, portanto é necessário salvar em outra variável ou utilizar algum parâmetro que informe para modificar os valores originais*"
   ]
  },
  {
   "cell_type": "markdown",
   "metadata": {},
   "source": [
    "## Iloc e Filtros"
   ]
  },
  {
   "cell_type": "markdown",
   "metadata": {},
   "source": [
    "Diferentemente dos outros métodos de filtragem de DF, o .iloc é utilizado da mesma forma que as strings e listas, fazendo um recorte no DF, sendo possívl informar recortes, do primeiro até o penúltimo, do penúltimo ao quarto item, etc.\n",
    "\n",
    "Além disso, também é possível realizar operações aritméticas e lógicas entre diferentes DataFrames, bem como exibir valores ou comparações."
   ]
  },
  {
   "cell_type": "markdown",
   "metadata": {},
   "source": [
    "**Gerando DataFrame para testes**"
   ]
  },
  {
   "cell_type": "code",
   "execution_count": null,
   "metadata": {},
   "outputs": [],
   "source": [
    "import pandas as pd\n",
    "from numpy.random import randn\n",
    "\n",
    "\"\"\"## Gerando dados e criando um DataFrame \"\"\"\n",
    "cells = randn(5,4)\n",
    "row = ['A', 'B', 'C', 'D', 'E']\n",
    "col = ['W', 'X', 'Y', 'Z']\n",
    "df = pd.DataFrame(cells, index=row, columns=col)"
   ]
  },
  {
   "cell_type": "markdown",
   "metadata": {},
   "source": [
    "**Exemplo de Aplicação**"
   ]
  },
  {
   "cell_type": "code",
   "execution_count": null,
   "metadata": {},
   "outputs": [],
   "source": [
    "aux = df\n",
    "\"\"\"## Recorte de DF\"\"\"\n",
    "# aux = df.iloc[:-1, 2:0:-1]    # [row, col]\n",
    "\n",
    "\"\"\"## Operação aritmética\"\"\"\n",
    "# aux = df + df\n",
    "\n",
    "\"\"\"## Operação lógica\"\"\"\n",
    "# aux = df > 0                  # DF recebe, para cada célula, o resultado da comparação\n",
    "\n",
    "display(aux)"
   ]
  },
  {
   "cell_type": "markdown",
   "metadata": {},
   "source": [
    "1. Filtrando DataFrames"
   ]
  },
  {
   "cell_type": "code",
   "execution_count": null,
   "metadata": {},
   "outputs": [],
   "source": [
    "aux = df\n",
    "\"\"\"## Exemplos de filtragem (rodar o código acima para setar o DF)\"\"\"\n",
    "# display(df)\n",
    "\n",
    "\"\"\"# Filtragem utilizando operador relacional\"\"\"\n",
    "# aux = df[df > 0]\n",
    "\n",
    "\"\"\"# Filtragem utilizando operador lógico e relacional\"\"\"\n",
    "# aux = df[(df['Y'] > 0) & (df['Z'] > 0)]   # & AND\n",
    "# aux = df[(df['X'] > 0) | (df['W'] > 0)]   # | OU\n",
    "\n",
    "display(aux)"
   ]
  },
  {
   "cell_type": "markdown",
   "metadata": {},
   "source": [
    "## Operações com índices"
   ]
  },
  {
   "cell_type": "markdown",
   "metadata": {},
   "source": [
    "Módulo de manipulação de indexes e colunas. Aqui são vistos métodos para operar com índices, relembrando que podem haver métodos que não operam sobre o dataframe e apenas geram um retorno, enquanto outros modificam o dataframe original.\n",
    "\n",
    "*Obs: funções e métodos podem ser aprofundadas com a função help(), ou no site de documentação do pandas.*"
   ]
  },
  {
   "cell_type": "markdown",
   "metadata": {},
   "source": [
    "**Gerando DataFrame para testes**"
   ]
  },
  {
   "cell_type": "code",
   "execution_count": null,
   "metadata": {},
   "outputs": [],
   "source": [
    "\"\"\" # Métodos de indexação em DFs\"\"\"\n",
    "import pandas as pd\n",
    "from numpy.random import randn\n",
    "df = pd.DataFrame(data=randn(3,3), index=['A', 'B', 'C'], columns=['X', 'Y', 'Z'])\n",
    "# display(df)"
   ]
  },
  {
   "cell_type": "markdown",
   "metadata": {},
   "source": [
    "**Exemplos de Aplicação**"
   ]
  },
  {
   "cell_type": "code",
   "execution_count": null,
   "metadata": {},
   "outputs": [],
   "source": [
    "aux = df\n",
    "\"\"\" ## Consulta de indexes e colunas \"\"\"\n",
    "# aux = df.index\n",
    "# aux = df.columns\n",
    "\n",
    "\"\"\" ## Set e Reset em index \"\"\"     # inplace=True; altera a df original\n",
    "# df['South PIB'] = 'PR SC RS'.split()\n",
    "# aux = df.reset_index().set_index('South PIB')\n",
    "# aux = df.set_index('South PIB')\n",
    "\n",
    "display(aux)"
   ]
  },
  {
   "cell_type": "markdown",
   "metadata": {},
   "source": [
    "*Obs: para setar um index é necessário que haja uma serie no dataframe para indexação*"
   ]
  },
  {
   "cell_type": "markdown",
   "metadata": {},
   "source": [
    "## Índices multiníveis"
   ]
  },
  {
   "cell_type": "markdown",
   "metadata": {},
   "source": [
    "Quando for necesário adicionar mais uma categoria de indexes, se pode utilizar dos múltiplos index, criando uma nova coluna que abrange mais de uma linha de index."
   ]
  },
  {
   "cell_type": "markdown",
   "metadata": {},
   "source": [
    "**Gerando DataFrame para testes**"
   ]
  },
  {
   "cell_type": "code",
   "execution_count": 118,
   "metadata": {},
   "outputs": [],
   "source": [
    "\"\"\" # Métodos de multi-indexação em DFs\"\"\"\n",
    "import pandas as pd\n",
    "from numpy.random import randn\n",
    "\n",
    "outside = ['G1', 'G1', 'G1', 'G2', 'G2', 'G2']\n",
    "inside = [1,2,3, 1,2,3]\n",
    "hier_index = list(zip(outside, inside))\n",
    "hier_index = pd.MultiIndex.from_tuples(hier_index)\n",
    "\n",
    "df = pd.DataFrame(data=randn(6,2), index=hier_index, columns=['Atletas', 'Sedentários'])"
   ]
  },
  {
   "cell_type": "markdown",
   "metadata": {},
   "source": [
    "**Exemplo de Aplicação**"
   ]
  },
  {
   "cell_type": "code",
   "execution_count": null,
   "metadata": {},
   "outputs": [],
   "source": [
    "aux = df\n",
    "\"\"\" ## Consulta de linhas e multi-indexes \"\"\"\n",
    "# aux = df.loc['G1'].loc[1]\n",
    "# aux = df.xs('G1')\n",
    "\n",
    "\"\"\" ## Definição de nomes para os index \"\"\"\n",
    "aux.index.names = ['Grupo', 'Número']\n",
    "\n",
    "\"\"\" ## Outra forma de consulta de um multi-index \"\"\"\n",
    "# aux = aux.xs(1, level='Número')\n",
    "\n",
    "display(aux)"
   ]
  },
  {
   "cell_type": "markdown",
   "metadata": {},
   "source": [
    "## Tratamento de dados ausentes"
   ]
  },
  {
   "cell_type": "markdown",
   "metadata": {},
   "source": [
    "Métodos para manipulação de dados inacessíveis ou inexistentes"
   ]
  },
  {
   "cell_type": "markdown",
   "metadata": {},
   "source": [
    "**Gerando DataFrame para testes**"
   ]
  },
  {
   "cell_type": "code",
   "execution_count": 176,
   "metadata": {},
   "outputs": [],
   "source": [
    "import pandas as pd\n",
    "import numpy as np\n",
    "\n",
    "df = pd.DataFrame({\n",
    "    'A': [3,2,np.nan],\n",
    "    'B': [np.nan,5, np.nan],\n",
    "    'C': [1, 3 ,9],\n",
    "})"
   ]
  },
  {
   "cell_type": "markdown",
   "metadata": {},
   "source": [
    "1. Exclusão de valores NAN"
   ]
  },
  {
   "cell_type": "code",
   "execution_count": null,
   "metadata": {},
   "outputs": [],
   "source": [
    "aux = df.copy()\n",
    "\"\"\" ## Excluir indexes com valores NAN \"\"\"\n",
    "# aux = df.dropna()\n",
    "\n",
    "\"\"\" ## Excluir series com valores NAN \"\"\"\n",
    "# aux = df.dropna(axis=1)\n",
    "\n",
    "\"\"\" ## Excluir indexes/colunas com pelo menos X valores NAN \"\"\"\n",
    "# x = 2\n",
    "# aux = df.dropna(axis=1, thresh=x)\n",
    "\n",
    "display(aux)"
   ]
  },
  {
   "cell_type": "markdown",
   "metadata": {},
   "source": [
    "2. Substituição de valores NAN"
   ]
  },
  {
   "cell_type": "code",
   "execution_count": null,
   "metadata": {},
   "outputs": [],
   "source": [
    "aux = df.copy()\n",
    "\"\"\" ## Substituir valores NAN \"\"\"\n",
    "# aux = df.fillna('-')\n",
    "\n",
    "\"\"\" ## Substituir valores NAN de uma serie \"\"\"\n",
    "# aux = df['A'].fillna(value=df['A'].mean())\n",
    "\n",
    "display(aux)"
   ]
  },
  {
   "cell_type": "markdown",
   "metadata": {},
   "source": [
    "*Obs: a média/soma, dentre alguns outros métodos de DataFrames, são aplicados entre os valores de mesma serie (coluna)*"
   ]
  },
  {
   "cell_type": "markdown",
   "metadata": {},
   "source": [
    "3. Preencher com valores existentes no DataFrame"
   ]
  },
  {
   "cell_type": "code",
   "execution_count": null,
   "metadata": {},
   "outputs": [],
   "source": [
    "aux = df.copy()\n",
    "\"\"\" ## Substituir NAN pelo valor anterior/acima (forward fill) \"\"\"\n",
    "display(df.ffill())\n",
    "\n",
    "\"\"\" ## Substituir NAN pelo valor posterior/abaixo (back fill) \"\"\"\n",
    "display(df.bfill())"
   ]
  },
  {
   "cell_type": "markdown",
   "metadata": {},
   "source": [
    "*Obs: valores que não foram substituidos não tinham anterior/posteiror*"
   ]
  },
  {
   "cell_type": "markdown",
   "metadata": {},
   "source": [
    "## Groupby"
   ]
  },
  {
   "cell_type": "markdown",
   "metadata": {},
   "source": [
    "Método muito potente para agrupamento de dados semelhantes."
   ]
  },
  {
   "cell_type": "markdown",
   "metadata": {},
   "source": [
    "**Gerando DataFrame para testes**"
   ]
  },
  {
   "cell_type": "code",
   "execution_count": 179,
   "metadata": {},
   "outputs": [],
   "source": [
    "import pandas as pd\n",
    "import numpy as np\n",
    "\n",
    "# Código"
   ]
  },
  {
   "cell_type": "markdown",
   "metadata": {},
   "source": [
    "1. Próxima etapa"
   ]
  },
  {
   "cell_type": "markdown",
   "metadata": {},
   "source": []
  }
 ],
 "metadata": {
  "kernelspec": {
   "display_name": "Python 3",
   "language": "python",
   "name": "python3"
  },
  "language_info": {
   "codemirror_mode": {
    "name": "ipython",
    "version": 3
   },
   "file_extension": ".py",
   "mimetype": "text/x-python",
   "name": "python",
   "nbconvert_exporter": "python",
   "pygments_lexer": "ipython3",
   "version": "3.12.3"
  }
 },
 "nbformat": 4,
 "nbformat_minor": 2
}
