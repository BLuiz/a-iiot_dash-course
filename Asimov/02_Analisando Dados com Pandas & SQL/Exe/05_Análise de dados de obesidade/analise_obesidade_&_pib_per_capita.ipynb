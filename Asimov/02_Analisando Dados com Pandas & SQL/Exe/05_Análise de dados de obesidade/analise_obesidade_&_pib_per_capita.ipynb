{
 "cells": [
  {
   "cell_type": "markdown",
   "id": "motivated-olympus",
   "metadata": {},
   "source": [
    "# Projeto final\n",
    "\n",
    "Bem vindo ao projeto final do curso/módulo de Pandas.\n",
    "Neste projeto, você deve responder a um conjunto de perguntas feitas a dois conjuntos de dados:\n",
    "\n",
    "1. [Obesity among adults by country, 1975-2016](https://www.kaggle.com/amanarora/obesity-among-adults-by-country-19752016/)\n",
    "2. [GDP Per Person (1901-2011)](https://www.kaggle.com/divyansh22/gdp-per-person-19012011?select=GDP.csv)\n",
    "\n",
    "Tais conjuntos de dados são públicos foram publicados no Kaggle. Mais instruções sobre cada um deles podem ser encontrados nos links acima. Você também os encontrará na pasta `Datasets`, dentro de nossas apostilas."
   ]
  },
  {
   "cell_type": "code",
   "execution_count": 1,
   "id": "million-survival",
   "metadata": {},
   "outputs": [],
   "source": [
    "from IPython.display import display\n",
    "import pandas as pd\n",
    "import plotly.express as px\n",
    "import datetime as dt\n",
    "\n",
    "aux = pd.DataFrame()\n",
    "\n",
    "def get_compact_df(path, dropcols=[], clearna=['any', 'all'], decimal='.'):\n",
    "    \"\"\" Função para importar um DataFrame de um arquivo csv, permite tratamento das DFs\n",
    "    :param path:        Caminho do qual se deve importar\n",
    "    :param dropcols:    Lista de colunas a remover, caso não sejam úteis\n",
    "    :param clearna:     Parâmetro 'how' a ser passado para o método dropna, utilizado para limpar linhas/colunas com valores inexistentes\n",
    "    :return:            Retorna a DF importada e tratada se a importação deu certo, caso contrário retorna uma DF vazia\n",
    "    \"\"\"\n",
    "    \n",
    "    try:\n",
    "        \"\"\" ## Importando .csv \"\"\"\n",
    "        df = pd.read_csv(path, decimal=decimal)\n",
    "        \"\"\" ## Excluindo colunas indesejadas \"\"\"\n",
    "        df.drop(dropcols, axis=1, inplace=True)\n",
    "        \"\"\" ##  Limpando linhas/colunas com dados inexistentes \"\"\"\n",
    "        if clearna: \n",
    "            for i in range(2): df.dropna(how=clearna[i], axis=i, inplace=True)\n",
    "    except (FileNotFoundError, AttributeError): return pd.DataFrame()\n",
    "    else: return df"
   ]
  },
  {
   "cell_type": "markdown",
   "id": "becoming-princeton",
   "metadata": {},
   "source": [
    "## Perguntas - Obesity among adults by country, 1975-2016"
   ]
  },
  {
   "cell_type": "code",
   "execution_count": 2,
   "id": "formal-heater",
   "metadata": {},
   "outputs": [
    {
     "data": {
      "text/html": [
       "<div>\n",
       "<style scoped>\n",
       "    .dataframe tbody tr th:only-of-type {\n",
       "        vertical-align: middle;\n",
       "    }\n",
       "\n",
       "    .dataframe tbody tr th {\n",
       "        vertical-align: top;\n",
       "    }\n",
       "\n",
       "    .dataframe thead th {\n",
       "        text-align: right;\n",
       "    }\n",
       "</style>\n",
       "<table border=\"1\" class=\"dataframe\">\n",
       "  <thead>\n",
       "    <tr style=\"text-align: right;\">\n",
       "      <th></th>\n",
       "      <th>Country</th>\n",
       "      <th>Year</th>\n",
       "      <th>Obesity (%)</th>\n",
       "      <th>Sex</th>\n",
       "    </tr>\n",
       "  </thead>\n",
       "  <tbody>\n",
       "    <tr>\n",
       "      <th>0</th>\n",
       "      <td>Afghanistan</td>\n",
       "      <td>1975</td>\n",
       "      <td>0.5 [0.2-1.1]</td>\n",
       "      <td>Both sexes</td>\n",
       "    </tr>\n",
       "    <tr>\n",
       "      <th>1</th>\n",
       "      <td>Afghanistan</td>\n",
       "      <td>1975</td>\n",
       "      <td>0.2 [0.0-0.6]</td>\n",
       "      <td>Male</td>\n",
       "    </tr>\n",
       "    <tr>\n",
       "      <th>2</th>\n",
       "      <td>Afghanistan</td>\n",
       "      <td>1975</td>\n",
       "      <td>0.8 [0.2-2.0]</td>\n",
       "      <td>Female</td>\n",
       "    </tr>\n",
       "    <tr>\n",
       "      <th>3</th>\n",
       "      <td>Afghanistan</td>\n",
       "      <td>1976</td>\n",
       "      <td>0.5 [0.2-1.1]</td>\n",
       "      <td>Both sexes</td>\n",
       "    </tr>\n",
       "    <tr>\n",
       "      <th>4</th>\n",
       "      <td>Afghanistan</td>\n",
       "      <td>1976</td>\n",
       "      <td>0.2 [0.0-0.7]</td>\n",
       "      <td>Male</td>\n",
       "    </tr>\n",
       "    <tr>\n",
       "      <th>...</th>\n",
       "      <td>...</td>\n",
       "      <td>...</td>\n",
       "      <td>...</td>\n",
       "      <td>...</td>\n",
       "    </tr>\n",
       "    <tr>\n",
       "      <th>24565</th>\n",
       "      <td>Zimbabwe</td>\n",
       "      <td>2015</td>\n",
       "      <td>4.5 [2.4-7.6]</td>\n",
       "      <td>Male</td>\n",
       "    </tr>\n",
       "    <tr>\n",
       "      <th>24566</th>\n",
       "      <td>Zimbabwe</td>\n",
       "      <td>2015</td>\n",
       "      <td>24.8 [18.9-31.3]</td>\n",
       "      <td>Female</td>\n",
       "    </tr>\n",
       "    <tr>\n",
       "      <th>24567</th>\n",
       "      <td>Zimbabwe</td>\n",
       "      <td>2016</td>\n",
       "      <td>15.5 [12.0-19.2]</td>\n",
       "      <td>Both sexes</td>\n",
       "    </tr>\n",
       "    <tr>\n",
       "      <th>24568</th>\n",
       "      <td>Zimbabwe</td>\n",
       "      <td>2016</td>\n",
       "      <td>4.7 [2.5-8.0]</td>\n",
       "      <td>Male</td>\n",
       "    </tr>\n",
       "    <tr>\n",
       "      <th>24569</th>\n",
       "      <td>Zimbabwe</td>\n",
       "      <td>2016</td>\n",
       "      <td>25.3 [19.1-32.0]</td>\n",
       "      <td>Female</td>\n",
       "    </tr>\n",
       "  </tbody>\n",
       "</table>\n",
       "<p>24570 rows × 4 columns</p>\n",
       "</div>"
      ],
      "text/plain": [
       "           Country  Year       Obesity (%)         Sex\n",
       "0      Afghanistan  1975     0.5 [0.2-1.1]  Both sexes\n",
       "1      Afghanistan  1975     0.2 [0.0-0.6]        Male\n",
       "2      Afghanistan  1975     0.8 [0.2-2.0]      Female\n",
       "3      Afghanistan  1976     0.5 [0.2-1.1]  Both sexes\n",
       "4      Afghanistan  1976     0.2 [0.0-0.7]        Male\n",
       "...            ...   ...               ...         ...\n",
       "24565     Zimbabwe  2015     4.5 [2.4-7.6]        Male\n",
       "24566     Zimbabwe  2015  24.8 [18.9-31.3]      Female\n",
       "24567     Zimbabwe  2016  15.5 [12.0-19.2]  Both sexes\n",
       "24568     Zimbabwe  2016     4.7 [2.5-8.0]        Male\n",
       "24569     Zimbabwe  2016  25.3 [19.1-32.0]      Female\n",
       "\n",
       "[24570 rows x 4 columns]"
      ]
     },
     "metadata": {},
     "output_type": "display_data"
    }
   ],
   "source": [
    "obesity_df = get_compact_df(\"..\\\\..\\\\Docs\\\\projetos\\\\obesity_&_gdp_analisys\\\\obesity_cleaned.csv\")\n",
    "del obesity_df['Unnamed: 0']\n",
    "display(obesity_df)"
   ]
  },
  {
   "cell_type": "markdown",
   "id": "divine-rebel",
   "metadata": {},
   "source": [
    "##### 1. Limpe os dados do DataFrame, criando uma coluna de nome 'Obesity' que conterá os valores de obesidade. Transforme em float as colunas que porventura foram importadas como string."
   ]
  },
  {
   "cell_type": "code",
   "execution_count": 3,
   "id": "cubic-minneapolis",
   "metadata": {},
   "outputs": [
    {
     "data": {
      "text/html": [
       "<div>\n",
       "<style scoped>\n",
       "    .dataframe tbody tr th:only-of-type {\n",
       "        vertical-align: middle;\n",
       "    }\n",
       "\n",
       "    .dataframe tbody tr th {\n",
       "        vertical-align: top;\n",
       "    }\n",
       "\n",
       "    .dataframe thead th {\n",
       "        text-align: right;\n",
       "    }\n",
       "</style>\n",
       "<table border=\"1\" class=\"dataframe\">\n",
       "  <thead>\n",
       "    <tr style=\"text-align: right;\">\n",
       "      <th></th>\n",
       "      <th>Country</th>\n",
       "      <th>Obesity (%)</th>\n",
       "      <th>Sex</th>\n",
       "      <th>Obesity</th>\n",
       "    </tr>\n",
       "    <tr>\n",
       "      <th>Year</th>\n",
       "      <th></th>\n",
       "      <th></th>\n",
       "      <th></th>\n",
       "      <th></th>\n",
       "    </tr>\n",
       "  </thead>\n",
       "  <tbody>\n",
       "    <tr>\n",
       "      <th>1975</th>\n",
       "      <td>Afghanistan</td>\n",
       "      <td>0.5 [0.2-1.1]</td>\n",
       "      <td>Both sexes</td>\n",
       "      <td>0.5</td>\n",
       "    </tr>\n",
       "    <tr>\n",
       "      <th>1975</th>\n",
       "      <td>Afghanistan</td>\n",
       "      <td>0.2 [0.0-0.6]</td>\n",
       "      <td>Male</td>\n",
       "      <td>0.2</td>\n",
       "    </tr>\n",
       "    <tr>\n",
       "      <th>1975</th>\n",
       "      <td>Afghanistan</td>\n",
       "      <td>0.8 [0.2-2.0]</td>\n",
       "      <td>Female</td>\n",
       "      <td>0.8</td>\n",
       "    </tr>\n",
       "    <tr>\n",
       "      <th>1976</th>\n",
       "      <td>Afghanistan</td>\n",
       "      <td>0.5 [0.2-1.1]</td>\n",
       "      <td>Both sexes</td>\n",
       "      <td>0.5</td>\n",
       "    </tr>\n",
       "    <tr>\n",
       "      <th>1976</th>\n",
       "      <td>Afghanistan</td>\n",
       "      <td>0.2 [0.0-0.7]</td>\n",
       "      <td>Male</td>\n",
       "      <td>0.2</td>\n",
       "    </tr>\n",
       "    <tr>\n",
       "      <th>...</th>\n",
       "      <td>...</td>\n",
       "      <td>...</td>\n",
       "      <td>...</td>\n",
       "      <td>...</td>\n",
       "    </tr>\n",
       "    <tr>\n",
       "      <th>2015</th>\n",
       "      <td>Zimbabwe</td>\n",
       "      <td>4.5 [2.4-7.6]</td>\n",
       "      <td>Male</td>\n",
       "      <td>4.5</td>\n",
       "    </tr>\n",
       "    <tr>\n",
       "      <th>2015</th>\n",
       "      <td>Zimbabwe</td>\n",
       "      <td>24.8 [18.9-31.3]</td>\n",
       "      <td>Female</td>\n",
       "      <td>24.8</td>\n",
       "    </tr>\n",
       "    <tr>\n",
       "      <th>2016</th>\n",
       "      <td>Zimbabwe</td>\n",
       "      <td>15.5 [12.0-19.2]</td>\n",
       "      <td>Both sexes</td>\n",
       "      <td>15.5</td>\n",
       "    </tr>\n",
       "    <tr>\n",
       "      <th>2016</th>\n",
       "      <td>Zimbabwe</td>\n",
       "      <td>4.7 [2.5-8.0]</td>\n",
       "      <td>Male</td>\n",
       "      <td>4.7</td>\n",
       "    </tr>\n",
       "    <tr>\n",
       "      <th>2016</th>\n",
       "      <td>Zimbabwe</td>\n",
       "      <td>25.3 [19.1-32.0]</td>\n",
       "      <td>Female</td>\n",
       "      <td>25.3</td>\n",
       "    </tr>\n",
       "  </tbody>\n",
       "</table>\n",
       "<p>24066 rows × 4 columns</p>\n",
       "</div>"
      ],
      "text/plain": [
       "          Country       Obesity (%)         Sex  Obesity\n",
       "Year                                                    \n",
       "1975  Afghanistan     0.5 [0.2-1.1]  Both sexes      0.5\n",
       "1975  Afghanistan     0.2 [0.0-0.6]        Male      0.2\n",
       "1975  Afghanistan     0.8 [0.2-2.0]      Female      0.8\n",
       "1976  Afghanistan     0.5 [0.2-1.1]  Both sexes      0.5\n",
       "1976  Afghanistan     0.2 [0.0-0.7]        Male      0.2\n",
       "...           ...               ...         ...      ...\n",
       "2015     Zimbabwe     4.5 [2.4-7.6]        Male      4.5\n",
       "2015     Zimbabwe  24.8 [18.9-31.3]      Female     24.8\n",
       "2016     Zimbabwe  15.5 [12.0-19.2]  Both sexes     15.5\n",
       "2016     Zimbabwe     4.7 [2.5-8.0]        Male      4.7\n",
       "2016     Zimbabwe  25.3 [19.1-32.0]      Female     25.3\n",
       "\n",
       "[24066 rows x 4 columns]"
      ]
     },
     "metadata": {},
     "output_type": "display_data"
    }
   ],
   "source": [
    "\"\"\" ## Dispondo informações sobre o DF importado \"\"\"\n",
    "# display(obesity_df.value_counts())\n",
    "# display(obesity_df.info())\n",
    "\n",
    "\"\"\" ## Criação da coluna 'Obesity'  \"\"\"\n",
    "obesity_df['Obesity'] = obesity_df['Obesity (%)'].apply(lambda x: x.split()[0])\n",
    "\n",
    "\"\"\" ## Conversão de tipo colunas para numérico \"\"\"\n",
    "obesity_df['Obesity'] = pd.to_numeric(obesity_df['Obesity'], errors='coerce')\n",
    "obesity_df.dropna(how='any', inplace=True)\n",
    "\n",
    "\"\"\" ## Transformando em DF temporal \"\"\"\n",
    "if 'Year' in obesity_df.columns: \n",
    "    obesity_df = obesity_df.set_index('Year')\n",
    "\n",
    "display(obesity_df)"
   ]
  },
  {
   "cell_type": "markdown",
   "id": "voluntary-temperature",
   "metadata": {},
   "source": [
    "##### 2. Qual o percentual médio de obesidade por sexo no mundo no ano de 2015?"
   ]
  },
  {
   "cell_type": "code",
   "execution_count": 4,
   "id": "afraid-reminder",
   "metadata": {},
   "outputs": [
    {
     "data": {
      "text/html": [
       "<div>\n",
       "<style scoped>\n",
       "    .dataframe tbody tr th:only-of-type {\n",
       "        vertical-align: middle;\n",
       "    }\n",
       "\n",
       "    .dataframe tbody tr th {\n",
       "        vertical-align: top;\n",
       "    }\n",
       "\n",
       "    .dataframe thead th {\n",
       "        text-align: right;\n",
       "    }\n",
       "</style>\n",
       "<table border=\"1\" class=\"dataframe\">\n",
       "  <thead>\n",
       "    <tr style=\"text-align: right;\">\n",
       "      <th></th>\n",
       "      <th>Obesity</th>\n",
       "    </tr>\n",
       "    <tr>\n",
       "      <th>Sex</th>\n",
       "      <th></th>\n",
       "    </tr>\n",
       "  </thead>\n",
       "  <tbody>\n",
       "    <tr>\n",
       "      <th>Both sexes</th>\n",
       "      <td>19.508377</td>\n",
       "    </tr>\n",
       "    <tr>\n",
       "      <th>Female</th>\n",
       "      <td>22.899476</td>\n",
       "    </tr>\n",
       "    <tr>\n",
       "      <th>Male</th>\n",
       "      <td>15.980628</td>\n",
       "    </tr>\n",
       "  </tbody>\n",
       "</table>\n",
       "</div>"
      ],
      "text/plain": [
       "              Obesity\n",
       "Sex                  \n",
       "Both sexes  19.508377\n",
       "Female      22.899476\n",
       "Male        15.980628"
      ]
     },
     "metadata": {},
     "output_type": "display_data"
    }
   ],
   "source": [
    "obesity_df_2015 = obesity_df[obesity_df.index == 2015]\n",
    "\n",
    "aux = obesity_df_2015.groupby('Sex')[['Obesity']].mean()\n",
    "\n",
    "display(aux)"
   ]
  },
  {
   "cell_type": "markdown",
   "id": "expected-kruger",
   "metadata": {},
   "source": [
    "##### 3. Quais são os 5 países com a maior e a menor taxa de aumento nos índices de obesidade no período observado?"
   ]
  },
  {
   "cell_type": "code",
   "execution_count": 5,
   "id": "phantom-going",
   "metadata": {},
   "outputs": [
    {
     "data": {
      "text/html": [
       "<div>\n",
       "<style scoped>\n",
       "    .dataframe tbody tr th:only-of-type {\n",
       "        vertical-align: middle;\n",
       "    }\n",
       "\n",
       "    .dataframe tbody tr th {\n",
       "        vertical-align: top;\n",
       "    }\n",
       "\n",
       "    .dataframe thead th {\n",
       "        text-align: right;\n",
       "    }\n",
       "</style>\n",
       "<table border=\"1\" class=\"dataframe\">\n",
       "  <thead>\n",
       "    <tr style=\"text-align: right;\">\n",
       "      <th></th>\n",
       "      <th>Obesity</th>\n",
       "    </tr>\n",
       "    <tr>\n",
       "      <th>Country</th>\n",
       "      <th></th>\n",
       "    </tr>\n",
       "  </thead>\n",
       "  <tbody>\n",
       "    <tr>\n",
       "      <th>Viet Nam</th>\n",
       "      <td>2.0</td>\n",
       "    </tr>\n",
       "    <tr>\n",
       "      <th>Singapore</th>\n",
       "      <td>3.1</td>\n",
       "    </tr>\n",
       "    <tr>\n",
       "      <th>Japan</th>\n",
       "      <td>3.3</td>\n",
       "    </tr>\n",
       "    <tr>\n",
       "      <th>Bangladesh</th>\n",
       "      <td>3.4</td>\n",
       "    </tr>\n",
       "    <tr>\n",
       "      <th>Timor-Leste</th>\n",
       "      <td>3.6</td>\n",
       "    </tr>\n",
       "    <tr>\n",
       "      <th>...</th>\n",
       "      <td>...</td>\n",
       "    </tr>\n",
       "    <tr>\n",
       "      <th>Cook Islands</th>\n",
       "      <td>27.9</td>\n",
       "    </tr>\n",
       "    <tr>\n",
       "      <th>Tonga</th>\n",
       "      <td>28.3</td>\n",
       "    </tr>\n",
       "    <tr>\n",
       "      <th>Kiribati</th>\n",
       "      <td>30.1</td>\n",
       "    </tr>\n",
       "    <tr>\n",
       "      <th>Niue</th>\n",
       "      <td>31.1</td>\n",
       "    </tr>\n",
       "    <tr>\n",
       "      <th>Tuvalu</th>\n",
       "      <td>33.7</td>\n",
       "    </tr>\n",
       "  </tbody>\n",
       "</table>\n",
       "<p>191 rows × 1 columns</p>\n",
       "</div>"
      ],
      "text/plain": [
       "              Obesity\n",
       "Country              \n",
       "Viet Nam          2.0\n",
       "Singapore         3.1\n",
       "Japan             3.3\n",
       "Bangladesh        3.4\n",
       "Timor-Leste       3.6\n",
       "...               ...\n",
       "Cook Islands     27.9\n",
       "Tonga            28.3\n",
       "Kiribati         30.1\n",
       "Niue             31.1\n",
       "Tuvalu           33.7\n",
       "\n",
       "[191 rows x 1 columns]"
      ]
     },
     "metadata": {},
     "output_type": "display_data"
    }
   ],
   "source": [
    "fy_obe_df = obesity_df[obesity_df.index == obesity_df['Obesity'].idxmin()]\n",
    "ly_obe_df = obesity_df[obesity_df.index == obesity_df['Obesity'].idxmax()]\n",
    "\n",
    "fy_obe_df.set_index('Country', inplace=True)\n",
    "ly_obe_df.set_index('Country', inplace=True)\n",
    "\n",
    "inc_rate = ly_obe_df[ly_obe_df['Sex'] == 'Both sexes'] [['Obesity']] - fy_obe_df[fy_obe_df['Sex'] == 'Both sexes'] [['Obesity']]\n",
    "\n",
    "inc_rate = inc_rate.sort_values(by='Obesity')\n",
    "\n",
    "display(inc_rate)\n"
   ]
  },
  {
   "cell_type": "markdown",
   "id": "efficient-buyer",
   "metadata": {},
   "source": [
    "##### 4. Quais os países com maiores e menores níveis percetuais de obesidade em 2015?"
   ]
  },
  {
   "cell_type": "code",
   "execution_count": 6,
   "id": "violent-warren",
   "metadata": {},
   "outputs": [
    {
     "data": {
      "text/html": [
       "<div>\n",
       "<style scoped>\n",
       "    .dataframe tbody tr th:only-of-type {\n",
       "        vertical-align: middle;\n",
       "    }\n",
       "\n",
       "    .dataframe tbody tr th {\n",
       "        vertical-align: top;\n",
       "    }\n",
       "\n",
       "    .dataframe thead th {\n",
       "        text-align: right;\n",
       "    }\n",
       "</style>\n",
       "<table border=\"1\" class=\"dataframe\">\n",
       "  <thead>\n",
       "    <tr style=\"text-align: right;\">\n",
       "      <th></th>\n",
       "      <th>Country</th>\n",
       "      <th>Obesity (%)</th>\n",
       "      <th>Sex</th>\n",
       "      <th>Obesity</th>\n",
       "    </tr>\n",
       "    <tr>\n",
       "      <th>Year</th>\n",
       "      <th></th>\n",
       "      <th></th>\n",
       "      <th></th>\n",
       "      <th></th>\n",
       "    </tr>\n",
       "  </thead>\n",
       "  <tbody>\n",
       "    <tr>\n",
       "      <th>2015</th>\n",
       "      <td>Nauru</td>\n",
       "      <td>63.1 [55.5-70.3]</td>\n",
       "      <td>Female</td>\n",
       "      <td>63.1</td>\n",
       "    </tr>\n",
       "  </tbody>\n",
       "</table>\n",
       "</div>"
      ],
      "text/plain": [
       "     Country       Obesity (%)     Sex  Obesity\n",
       "Year                                           \n",
       "2015   Nauru  63.1 [55.5-70.3]  Female     63.1"
      ]
     },
     "execution_count": 6,
     "metadata": {},
     "output_type": "execute_result"
    }
   ],
   "source": [
    "aux = obesity_df_2015.groupby('Country')['Obesity'].max()\n",
    "aux = obesity_df_2015[obesity_df_2015['Obesity'] == aux.max()]\n",
    "aux"
   ]
  },
  {
   "cell_type": "code",
   "execution_count": 10,
   "id": "2da4cbb9",
   "metadata": {},
   "outputs": [
    {
     "data": {
      "text/html": [
       "<div>\n",
       "<style scoped>\n",
       "    .dataframe tbody tr th:only-of-type {\n",
       "        vertical-align: middle;\n",
       "    }\n",
       "\n",
       "    .dataframe tbody tr th {\n",
       "        vertical-align: top;\n",
       "    }\n",
       "\n",
       "    .dataframe thead th {\n",
       "        text-align: right;\n",
       "    }\n",
       "</style>\n",
       "<table border=\"1\" class=\"dataframe\">\n",
       "  <thead>\n",
       "    <tr style=\"text-align: right;\">\n",
       "      <th></th>\n",
       "      <th>Country</th>\n",
       "      <th>Obesity (%)</th>\n",
       "      <th>Sex</th>\n",
       "      <th>Obesity</th>\n",
       "    </tr>\n",
       "    <tr>\n",
       "      <th>Year</th>\n",
       "      <th></th>\n",
       "      <th></th>\n",
       "      <th></th>\n",
       "      <th></th>\n",
       "    </tr>\n",
       "  </thead>\n",
       "  <tbody>\n",
       "    <tr>\n",
       "      <th>2015</th>\n",
       "      <td>Viet Nam</td>\n",
       "      <td>1.5 [0.8-2.5]</td>\n",
       "      <td>Male</td>\n",
       "      <td>1.5</td>\n",
       "    </tr>\n",
       "  </tbody>\n",
       "</table>\n",
       "</div>"
      ],
      "text/plain": [
       "       Country    Obesity (%)   Sex  Obesity\n",
       "Year                                        \n",
       "2015  Viet Nam  1.5 [0.8-2.5]  Male      1.5"
      ]
     },
     "execution_count": 10,
     "metadata": {},
     "output_type": "execute_result"
    }
   ],
   "source": [
    "aux = obesity_df_2015.groupby('Country')['Obesity'].min()\n",
    "aux = obesity_df_2015[obesity_df_2015['Obesity'] == aux.min()]\n",
    "aux"
   ]
  },
  {
   "cell_type": "markdown",
   "id": "average-holiday",
   "metadata": {},
   "source": [
    "##### 5. Qual a diferença média percentual de obesidade entre sexos ao longo dos anos para o Brasil?"
   ]
  },
  {
   "cell_type": "code",
   "execution_count": 9,
   "id": "later-occurrence",
   "metadata": {},
   "outputs": [
    {
     "data": {
      "text/plain": [
       "<Axes: xlabel='Year'>"
      ]
     },
     "execution_count": 9,
     "metadata": {},
     "output_type": "execute_result"
    },
    {
     "data": {
      "image/png": "[encoded data removed]",
      "text/plain": [
       "<Figure size 640x480 with 1 Axes>"
      ]
     },
     "metadata": {},
     "output_type": "display_data"
    }
   ],
   "source": [
    "br_obe_df = obesity_df[obesity_df['Country'] == 'Brazil']\n",
    "\n",
    "aux = br_obe_df[br_obe_df['Sex'] == 'Female'][['Obesity']] - br_obe_df[br_obe_df['Sex'] == 'Male'][['Obesity']]\n",
    "\n",
    "aux.plot()"
   ]
  },
  {
   "cell_type": "markdown",
   "id": "rising-exhaust",
   "metadata": {},
   "source": [
    "##### Você conseguiria plotar um gráfico mostrando a evolução da obesidade para ambos sexos no mundo?"
   ]
  },
  {
   "cell_type": "code",
   "execution_count": 11,
   "id": "senior-recruitment",
   "metadata": {},
   "outputs": [
    {
     "data": {
      "text/plain": [
       "<Axes: xlabel='Year'>"
      ]
     },
     "execution_count": 11,
     "metadata": {},
     "output_type": "execute_result"
    },
    {
     "data": {
      "image/png": "[encoded data removed]",
      "text/plain": [
       "<Figure size 640x480 with 1 Axes>"
      ]
     },
     "metadata": {},
     "output_type": "display_data"
    }
   ],
   "source": [
    "# aux = obesity_df[\"Country\"].value_counts()\n",
    "# display(aux)\n",
    "\n",
    "aux = obesity_df[obesity_df['Sex'] == 'Both sexes']\n",
    "\n",
    "aux = aux.groupby('Year')['Obesity'].mean()\n",
    "\n",
    "aux.plot()"
   ]
  },
  {
   "cell_type": "markdown",
   "id": "labeled-rainbow",
   "metadata": {},
   "source": [
    "## Perguntas - GDP Per Person (1901-2011)"
   ]
  },
  {
   "cell_type": "code",
   "execution_count": 12,
   "id": "thermal-breeding",
   "metadata": {},
   "outputs": [
    {
     "data": {
      "text/html": [
       "<div>\n",
       "<style scoped>\n",
       "    .dataframe tbody tr th:only-of-type {\n",
       "        vertical-align: middle;\n",
       "    }\n",
       "\n",
       "    .dataframe tbody tr th {\n",
       "        vertical-align: top;\n",
       "    }\n",
       "\n",
       "    .dataframe thead th {\n",
       "        text-align: right;\n",
       "    }\n",
       "</style>\n",
       "<table border=\"1\" class=\"dataframe\">\n",
       "  <thead>\n",
       "    <tr style=\"text-align: right;\">\n",
       "      <th></th>\n",
       "      <th>Country</th>\n",
       "      <th>Region</th>\n",
       "      <th>Year</th>\n",
       "      <th>GDP_pp</th>\n",
       "    </tr>\n",
       "  </thead>\n",
       "  <tbody>\n",
       "    <tr>\n",
       "      <th>0</th>\n",
       "      <td>Afghanistan</td>\n",
       "      <td>Middle East, North Africa, and Greater Arabia</td>\n",
       "      <td>1/1/1901</td>\n",
       "      <td>613.99</td>\n",
       "    </tr>\n",
       "    <tr>\n",
       "      <th>1</th>\n",
       "      <td>Afghanistan</td>\n",
       "      <td>Middle East, North Africa, and Greater Arabia</td>\n",
       "      <td>1/1/1906</td>\n",
       "      <td>624.04</td>\n",
       "    </tr>\n",
       "    <tr>\n",
       "      <th>2</th>\n",
       "      <td>Afghanistan</td>\n",
       "      <td>Middle East, North Africa, and Greater Arabia</td>\n",
       "      <td>1/1/1911</td>\n",
       "      <td>634.25</td>\n",
       "    </tr>\n",
       "    <tr>\n",
       "      <th>3</th>\n",
       "      <td>Afghanistan</td>\n",
       "      <td>Middle East, North Africa, and Greater Arabia</td>\n",
       "      <td>1/1/1916</td>\n",
       "      <td>647.28</td>\n",
       "    </tr>\n",
       "    <tr>\n",
       "      <th>4</th>\n",
       "      <td>Afghanistan</td>\n",
       "      <td>Middle East, North Africa, and Greater Arabia</td>\n",
       "      <td>1/1/1921</td>\n",
       "      <td>662.40</td>\n",
       "    </tr>\n",
       "    <tr>\n",
       "      <th>...</th>\n",
       "      <td>...</td>\n",
       "      <td>...</td>\n",
       "      <td>...</td>\n",
       "      <td>...</td>\n",
       "    </tr>\n",
       "    <tr>\n",
       "      <th>4414</th>\n",
       "      <td>Zimbabwe</td>\n",
       "      <td>Sub-Saharan Africa</td>\n",
       "      <td>1/1/1991</td>\n",
       "      <td>782.09</td>\n",
       "    </tr>\n",
       "    <tr>\n",
       "      <th>4415</th>\n",
       "      <td>Zimbabwe</td>\n",
       "      <td>Sub-Saharan Africa</td>\n",
       "      <td>1/1/1996</td>\n",
       "      <td>781.50</td>\n",
       "    </tr>\n",
       "    <tr>\n",
       "      <th>4416</th>\n",
       "      <td>Zimbabwe</td>\n",
       "      <td>Sub-Saharan Africa</td>\n",
       "      <td>1/1/2001</td>\n",
       "      <td>719.96</td>\n",
       "    </tr>\n",
       "    <tr>\n",
       "      <th>4417</th>\n",
       "      <td>Zimbabwe</td>\n",
       "      <td>Sub-Saharan Africa</td>\n",
       "      <td>1/1/2006</td>\n",
       "      <td>520.17</td>\n",
       "    </tr>\n",
       "    <tr>\n",
       "      <th>4418</th>\n",
       "      <td>Zimbabwe</td>\n",
       "      <td>Sub-Saharan Africa</td>\n",
       "      <td>1/1/2011</td>\n",
       "      <td>526.33</td>\n",
       "    </tr>\n",
       "  </tbody>\n",
       "</table>\n",
       "<p>4419 rows × 4 columns</p>\n",
       "</div>"
      ],
      "text/plain": [
       "          Country                                         Region      Year  \\\n",
       "0     Afghanistan  Middle East, North Africa, and Greater Arabia  1/1/1901   \n",
       "1     Afghanistan  Middle East, North Africa, and Greater Arabia  1/1/1906   \n",
       "2     Afghanistan  Middle East, North Africa, and Greater Arabia  1/1/1911   \n",
       "3     Afghanistan  Middle East, North Africa, and Greater Arabia  1/1/1916   \n",
       "4     Afghanistan  Middle East, North Africa, and Greater Arabia  1/1/1921   \n",
       "...           ...                                            ...       ...   \n",
       "4414     Zimbabwe                             Sub-Saharan Africa  1/1/1991   \n",
       "4415     Zimbabwe                             Sub-Saharan Africa  1/1/1996   \n",
       "4416     Zimbabwe                             Sub-Saharan Africa  1/1/2001   \n",
       "4417     Zimbabwe                             Sub-Saharan Africa  1/1/2006   \n",
       "4418     Zimbabwe                             Sub-Saharan Africa  1/1/2011   \n",
       "\n",
       "       GDP_pp   \n",
       "0      613.99   \n",
       "1      624.04   \n",
       "2      634.25   \n",
       "3      647.28   \n",
       "4      662.40   \n",
       "...        ...  \n",
       "4414   782.09   \n",
       "4415   781.50   \n",
       "4416   719.96   \n",
       "4417   520.17   \n",
       "4418   526.33   \n",
       "\n",
       "[4419 rows x 4 columns]"
      ]
     },
     "metadata": {},
     "output_type": "display_data"
    }
   ],
   "source": [
    "pib_df = get_compact_df(\"..\\\\..\\\\Docs\\\\projetos\\\\obesity_&_gdp_analisys\\\\gdp.csv\")\n",
    "display(pib_df)"
   ]
  },
  {
   "cell_type": "markdown",
   "id": "suffering-guitar",
   "metadata": {},
   "source": [
    "##### 1. Limpe o conjunto de dados, convertendo strings em datas ou float, quando necessário."
   ]
  },
  {
   "cell_type": "code",
   "execution_count": 13,
   "id": "fundamental-occasions",
   "metadata": {},
   "outputs": [
    {
     "name": "stdout",
     "output_type": "stream",
     "text": [
      "<class 'pandas.core.frame.DataFrame'>\n",
      "RangeIndex: 4419 entries, 0 to 4418\n",
      "Data columns (total 4 columns):\n",
      " #   Column    Non-Null Count  Dtype  \n",
      "---  ------    --------------  -----  \n",
      " 0   Country   4419 non-null   object \n",
      " 1   Region    4419 non-null   object \n",
      " 2   Year      4419 non-null   int64  \n",
      " 3    GDP_pp   4419 non-null   float64\n",
      "dtypes: float64(1), int64(1), object(2)\n",
      "memory usage: 138.2+ KB\n"
     ]
    }
   ],
   "source": [
    "pib_df['Year'] = pib_df['Year'].apply(lambda d: int(str(d).split('/')[-1]))\n",
    "\n",
    "pib_df[' GDP_pp '] = pib_df[' GDP_pp '].apply(lambda n: float(str(n).replace(',','')))\n",
    "\n",
    "pib_df.info()"
   ]
  },
  {
   "cell_type": "markdown",
   "id": "studied-validity",
   "metadata": {},
   "source": [
    "##### 2. Você conseguiria informar o primeiro valor registrado de cada país?"
   ]
  },
  {
   "cell_type": "code",
   "execution_count": 14,
   "id": "frequent-rental",
   "metadata": {},
   "outputs": [
    {
     "data": {
      "text/html": [
       "<div>\n",
       "<style scoped>\n",
       "    .dataframe tbody tr th:only-of-type {\n",
       "        vertical-align: middle;\n",
       "    }\n",
       "\n",
       "    .dataframe tbody tr th {\n",
       "        vertical-align: top;\n",
       "    }\n",
       "\n",
       "    .dataframe thead th {\n",
       "        text-align: right;\n",
       "    }\n",
       "</style>\n",
       "<table border=\"1\" class=\"dataframe\">\n",
       "  <thead>\n",
       "    <tr style=\"text-align: right;\">\n",
       "      <th></th>\n",
       "      <th>GDP_pp</th>\n",
       "      <th>Year</th>\n",
       "    </tr>\n",
       "    <tr>\n",
       "      <th>Country</th>\n",
       "      <th></th>\n",
       "      <th></th>\n",
       "    </tr>\n",
       "  </thead>\n",
       "  <tbody>\n",
       "    <tr>\n",
       "      <th>Afghanistan</th>\n",
       "      <td>613.99</td>\n",
       "      <td>1901</td>\n",
       "    </tr>\n",
       "    <tr>\n",
       "      <th>Albania</th>\n",
       "      <td>1062.01</td>\n",
       "      <td>1901</td>\n",
       "    </tr>\n",
       "    <tr>\n",
       "      <th>Algeria</th>\n",
       "      <td>1807.76</td>\n",
       "      <td>1901</td>\n",
       "    </tr>\n",
       "    <tr>\n",
       "      <th>Andorra</th>\n",
       "      <td>3352.50</td>\n",
       "      <td>1901</td>\n",
       "    </tr>\n",
       "    <tr>\n",
       "      <th>Angola</th>\n",
       "      <td>525.76</td>\n",
       "      <td>1901</td>\n",
       "    </tr>\n",
       "    <tr>\n",
       "      <th>...</th>\n",
       "      <td>...</td>\n",
       "      <td>...</td>\n",
       "    </tr>\n",
       "    <tr>\n",
       "      <th>Venezuela</th>\n",
       "      <td>766.21</td>\n",
       "      <td>1901</td>\n",
       "    </tr>\n",
       "    <tr>\n",
       "      <th>Vietnam</th>\n",
       "      <td>572.96</td>\n",
       "      <td>1901</td>\n",
       "    </tr>\n",
       "    <tr>\n",
       "      <th>Yemen, Rep.</th>\n",
       "      <td>729.39</td>\n",
       "      <td>1901</td>\n",
       "    </tr>\n",
       "    <tr>\n",
       "      <th>Zambia</th>\n",
       "      <td>532.38</td>\n",
       "      <td>1901</td>\n",
       "    </tr>\n",
       "    <tr>\n",
       "      <th>Zimbabwe</th>\n",
       "      <td>385.69</td>\n",
       "      <td>1901</td>\n",
       "    </tr>\n",
       "  </tbody>\n",
       "</table>\n",
       "<p>192 rows × 2 columns</p>\n",
       "</div>"
      ],
      "text/plain": [
       "              GDP_pp   Year\n",
       "Country                    \n",
       "Afghanistan    613.99  1901\n",
       "Albania       1062.01  1901\n",
       "Algeria       1807.76  1901\n",
       "Andorra       3352.50  1901\n",
       "Angola         525.76  1901\n",
       "...               ...   ...\n",
       "Venezuela      766.21  1901\n",
       "Vietnam        572.96  1901\n",
       "Yemen, Rep.    729.39  1901\n",
       "Zambia         532.38  1901\n",
       "Zimbabwe       385.69  1901\n",
       "\n",
       "[192 rows x 2 columns]"
      ]
     },
     "metadata": {},
     "output_type": "display_data"
    }
   ],
   "source": [
    "aux = pib_df.copy().set_index('Country')\n",
    "aux = aux.loc[aux['Year'] == aux['Year'].min(), [' GDP_pp ', 'Year']]\n",
    "              \n",
    "display(aux)"
   ]
  },
  {
   "cell_type": "markdown",
   "id": "tutorial-softball",
   "metadata": {},
   "source": [
    "##### 3. Informe as regiões com maiores crescimentos de PIB per capita no século passado."
   ]
  },
  {
   "cell_type": "code",
   "execution_count": 16,
   "id": "given-colorado",
   "metadata": {},
   "outputs": [
    {
     "data": {
      "text/html": [
       "<div>\n",
       "<style scoped>\n",
       "    .dataframe tbody tr th:only-of-type {\n",
       "        vertical-align: middle;\n",
       "    }\n",
       "\n",
       "    .dataframe tbody tr th {\n",
       "        vertical-align: top;\n",
       "    }\n",
       "\n",
       "    .dataframe thead th {\n",
       "        text-align: right;\n",
       "    }\n",
       "</style>\n",
       "<table border=\"1\" class=\"dataframe\">\n",
       "  <thead>\n",
       "    <tr style=\"text-align: right;\">\n",
       "      <th></th>\n",
       "      <th>GDP_pp</th>\n",
       "    </tr>\n",
       "    <tr>\n",
       "      <th>Region</th>\n",
       "      <th></th>\n",
       "    </tr>\n",
       "  </thead>\n",
       "  <tbody>\n",
       "    <tr>\n",
       "      <th>Middle East, North Africa, and Greater Arabia</th>\n",
       "      <td>857.215950</td>\n",
       "    </tr>\n",
       "    <tr>\n",
       "      <th>Asia</th>\n",
       "      <td>711.761516</td>\n",
       "    </tr>\n",
       "    <tr>\n",
       "      <th>Europe</th>\n",
       "      <td>594.046167</td>\n",
       "    </tr>\n",
       "    <tr>\n",
       "      <th>North America</th>\n",
       "      <td>589.760175</td>\n",
       "    </tr>\n",
       "    <tr>\n",
       "      <th>Central America and the Caribbean</th>\n",
       "      <td>406.426789</td>\n",
       "    </tr>\n",
       "    <tr>\n",
       "      <th>Australia and Oceania</th>\n",
       "      <td>396.075383</td>\n",
       "    </tr>\n",
       "    <tr>\n",
       "      <th>South America</th>\n",
       "      <td>312.123735</td>\n",
       "    </tr>\n",
       "    <tr>\n",
       "      <th>Sub-Saharan Africa</th>\n",
       "      <td>248.633780</td>\n",
       "    </tr>\n",
       "  </tbody>\n",
       "</table>\n",
       "</div>"
      ],
      "text/plain": [
       "                                                  GDP_pp \n",
       "Region                                                   \n",
       "Middle East, North Africa, and Greater Arabia  857.215950\n",
       "Asia                                           711.761516\n",
       "Europe                                         594.046167\n",
       "North America                                  589.760175\n",
       "Central America and the Caribbean              406.426789\n",
       "Australia and Oceania                          396.075383\n",
       "South America                                  312.123735\n",
       "Sub-Saharan Africa                             248.633780"
      ]
     },
     "execution_count": 16,
     "metadata": {},
     "output_type": "execute_result"
    }
   ],
   "source": [
    "pib_df_last_cen = pib_df[(pib_df['Year'] >= 1900) & (pib_df['Year'] < 2000)]\n",
    "# aux = pib_df_last_cen.groupby('Region')[[' GDP_pp ']].max() - pib_df_last_cen.groupby('Region')[[' GDP_pp ']].min()\n",
    "\n",
    "first_reg = pib_df_last_cen[pib_df_last_cen['Year'] == pib_df_last_cen['Year'].min()]\n",
    "last_reg = pib_df_last_cen[pib_df_last_cen['Year'] == pib_df_last_cen['Year'].max()]\n",
    "\n",
    "aux = (last_reg.groupby('Region')[[' GDP_pp ']].mean() / first_reg.groupby('Region')[[' GDP_pp ']].mean() - 1) * 100\n",
    "\n",
    "aux.sort_values(by=' GDP_pp ', ascending=False)"
   ]
  },
  {
   "cell_type": "markdown",
   "id": "textile-afternoon",
   "metadata": {},
   "source": [
    "##### 4. Preecha os anos ausentes em cada país com uma estimativa, baseada na diferença entre o próximo registro e o anterior."
   ]
  },
  {
   "cell_type": "code",
   "execution_count": 17,
   "id": "17aea493",
   "metadata": {},
   "outputs": [],
   "source": [
    "pib_df_new = pib_df.copy()"
   ]
  },
  {
   "cell_type": "code",
   "execution_count": 18,
   "id": "hydraulic-confidentiality",
   "metadata": {},
   "outputs": [],
   "source": [
    "\"\"\" ## Captura do crescimento de GDP_pp por ano, a partir da divisão da variação de GDP pela variação dos anos \"\"\"\n",
    "gdp_delta = pib_df_new[' GDP_pp '] - pib_df_new[' GDP_pp '].shift()\n",
    "year_delta = pib_df_new['Year'] - pib_df_new['Year'].shift()\n",
    "\n",
    "pib_df_new[\"GDP_pp_Year\"] = (gdp_delta / year_delta).shift(-1)\n",
    "# display(pib_df_new)"
   ]
  },
  {
   "cell_type": "code",
   "execution_count": 19,
   "id": "bbbe698f",
   "metadata": {},
   "outputs": [],
   "source": [
    "\"\"\" ## Criando nova DF com dados dos anos ausentes \"\"\"\n",
    "new_data = pd.DataFrame()\n",
    "for idx, row in pib_df_new.iterrows():\n",
    "    for i in range(1,5):\n",
    "        if row['Year'] == 2011: break\n",
    "        \n",
    "        add_row = row.copy()\n",
    "        add_row[\" GDP_pp \"] += (i * add_row[\"GDP_pp_Year\"])\n",
    "        add_row[\"Year\"] += i\n",
    "        add_row['Kind'] = 'Estimated'\n",
    "\n",
    "        new_data = pd.concat([new_data, add_row.to_frame().transpose()])"
   ]
  },
  {
   "cell_type": "code",
   "execution_count": 20,
   "id": "9aaaea39",
   "metadata": {},
   "outputs": [
    {
     "data": {
      "text/html": [
       "<div>\n",
       "<style scoped>\n",
       "    .dataframe tbody tr th:only-of-type {\n",
       "        vertical-align: middle;\n",
       "    }\n",
       "\n",
       "    .dataframe tbody tr th {\n",
       "        vertical-align: top;\n",
       "    }\n",
       "\n",
       "    .dataframe thead th {\n",
       "        text-align: right;\n",
       "    }\n",
       "</style>\n",
       "<table border=\"1\" class=\"dataframe\">\n",
       "  <thead>\n",
       "    <tr style=\"text-align: right;\">\n",
       "      <th></th>\n",
       "      <th>Country</th>\n",
       "      <th>Region</th>\n",
       "      <th>Year</th>\n",
       "      <th>GDP_pp</th>\n",
       "      <th>Kind</th>\n",
       "    </tr>\n",
       "    <tr>\n",
       "      <th>Year</th>\n",
       "      <th></th>\n",
       "      <th></th>\n",
       "      <th></th>\n",
       "      <th></th>\n",
       "      <th></th>\n",
       "    </tr>\n",
       "  </thead>\n",
       "  <tbody>\n",
       "    <tr>\n",
       "      <th>1901</th>\n",
       "      <td>Afghanistan</td>\n",
       "      <td>Middle East, North Africa, and Greater Arabia</td>\n",
       "      <td>1901</td>\n",
       "      <td>613.99</td>\n",
       "      <td>Real</td>\n",
       "    </tr>\n",
       "    <tr>\n",
       "      <th>1902</th>\n",
       "      <td>Afghanistan</td>\n",
       "      <td>Middle East, North Africa, and Greater Arabia</td>\n",
       "      <td>1902</td>\n",
       "      <td>616.0</td>\n",
       "      <td>Estimated</td>\n",
       "    </tr>\n",
       "    <tr>\n",
       "      <th>1903</th>\n",
       "      <td>Afghanistan</td>\n",
       "      <td>Middle East, North Africa, and Greater Arabia</td>\n",
       "      <td>1903</td>\n",
       "      <td>618.01</td>\n",
       "      <td>Estimated</td>\n",
       "    </tr>\n",
       "    <tr>\n",
       "      <th>1904</th>\n",
       "      <td>Afghanistan</td>\n",
       "      <td>Middle East, North Africa, and Greater Arabia</td>\n",
       "      <td>1904</td>\n",
       "      <td>620.02</td>\n",
       "      <td>Estimated</td>\n",
       "    </tr>\n",
       "    <tr>\n",
       "      <th>1905</th>\n",
       "      <td>Afghanistan</td>\n",
       "      <td>Middle East, North Africa, and Greater Arabia</td>\n",
       "      <td>1905</td>\n",
       "      <td>622.03</td>\n",
       "      <td>Estimated</td>\n",
       "    </tr>\n",
       "    <tr>\n",
       "      <th>...</th>\n",
       "      <td>...</td>\n",
       "      <td>...</td>\n",
       "      <td>...</td>\n",
       "      <td>...</td>\n",
       "      <td>...</td>\n",
       "    </tr>\n",
       "    <tr>\n",
       "      <th>2007</th>\n",
       "      <td>Zimbabwe</td>\n",
       "      <td>Sub-Saharan Africa</td>\n",
       "      <td>2007</td>\n",
       "      <td>521.402</td>\n",
       "      <td>Estimated</td>\n",
       "    </tr>\n",
       "    <tr>\n",
       "      <th>2008</th>\n",
       "      <td>Zimbabwe</td>\n",
       "      <td>Sub-Saharan Africa</td>\n",
       "      <td>2008</td>\n",
       "      <td>522.634</td>\n",
       "      <td>Estimated</td>\n",
       "    </tr>\n",
       "    <tr>\n",
       "      <th>2009</th>\n",
       "      <td>Zimbabwe</td>\n",
       "      <td>Sub-Saharan Africa</td>\n",
       "      <td>2009</td>\n",
       "      <td>523.866</td>\n",
       "      <td>Estimated</td>\n",
       "    </tr>\n",
       "    <tr>\n",
       "      <th>2010</th>\n",
       "      <td>Zimbabwe</td>\n",
       "      <td>Sub-Saharan Africa</td>\n",
       "      <td>2010</td>\n",
       "      <td>525.098</td>\n",
       "      <td>Estimated</td>\n",
       "    </tr>\n",
       "    <tr>\n",
       "      <th>2011</th>\n",
       "      <td>Zimbabwe</td>\n",
       "      <td>Sub-Saharan Africa</td>\n",
       "      <td>2011</td>\n",
       "      <td>526.33</td>\n",
       "      <td>Real</td>\n",
       "    </tr>\n",
       "  </tbody>\n",
       "</table>\n",
       "<p>21327 rows × 5 columns</p>\n",
       "</div>"
      ],
      "text/plain": [
       "          Country                                         Region  Year  \\\n",
       "Year                                                                     \n",
       "1901  Afghanistan  Middle East, North Africa, and Greater Arabia  1901   \n",
       "1902  Afghanistan  Middle East, North Africa, and Greater Arabia  1902   \n",
       "1903  Afghanistan  Middle East, North Africa, and Greater Arabia  1903   \n",
       "1904  Afghanistan  Middle East, North Africa, and Greater Arabia  1904   \n",
       "1905  Afghanistan  Middle East, North Africa, and Greater Arabia  1905   \n",
       "...           ...                                            ...   ...   \n",
       "2007     Zimbabwe                             Sub-Saharan Africa  2007   \n",
       "2008     Zimbabwe                             Sub-Saharan Africa  2008   \n",
       "2009     Zimbabwe                             Sub-Saharan Africa  2009   \n",
       "2010     Zimbabwe                             Sub-Saharan Africa  2010   \n",
       "2011     Zimbabwe                             Sub-Saharan Africa  2011   \n",
       "\n",
       "      GDP_pp        Kind  \n",
       "Year                      \n",
       "1901   613.99       Real  \n",
       "1902    616.0  Estimated  \n",
       "1903   618.01  Estimated  \n",
       "1904   620.02  Estimated  \n",
       "1905   622.03  Estimated  \n",
       "...       ...        ...  \n",
       "2007  521.402  Estimated  \n",
       "2008  522.634  Estimated  \n",
       "2009  523.866  Estimated  \n",
       "2010  525.098  Estimated  \n",
       "2011   526.33       Real  \n",
       "\n",
       "[21327 rows x 5 columns]"
      ]
     },
     "execution_count": 20,
     "metadata": {},
     "output_type": "execute_result"
    }
   ],
   "source": [
    "\"\"\" ## Concatenando os dois DFs e realizando ajustes \"\"\"\n",
    "pib_df_new = pib_df.copy()\n",
    "pib_df_new = pd.concat([pib_df_new, new_data]).sort_values([\"Country\", \"Year\"])\n",
    "\n",
    "pib_df_new[\"Kind\"] = pib_df_new[\"Kind\"].fillna(\"Real\")\n",
    "pib_df_new.index = pib_df_new['Year']\n",
    "del pib_df_new['GDP_pp_Year']\n",
    "\n",
    "pib_df_new"
   ]
  },
  {
   "cell_type": "code",
   "execution_count": 21,
   "id": "70fa62d9",
   "metadata": {},
   "outputs": [
    {
     "data": {
      "text/plain": [
       "<Axes: xlabel='Year', ylabel=' GDP_pp '>"
      ]
     },
     "execution_count": 21,
     "metadata": {},
     "output_type": "execute_result"
    },
    {
     "data": {
      "image/png": "[encoded data removed]",
      "text/plain": [
       "<Figure size 1000x500 with 1 Axes>"
      ]
     },
     "metadata": {},
     "output_type": "display_data"
    }
   ],
   "source": [
    "import matplotlib.pyplot as plt\n",
    "fig, ax = plt.subplots(figsize=(10, 5))\n",
    "\n",
    "kind = pib_df_new[\"Kind\"] == \"Estimated\"\n",
    "country = pib_df_new[\"Country\"] == \"United States\"\n",
    "country1 = pib_df_new['Country'] == \"Russia\"\n",
    "\n",
    "# pib_df_new[(country1) | (country)].plot(kind=\"scatter\", y=\" GDP_pp \", x='Year', ax=ax, color=\"red\")\n",
    "pib_df_new[(kind) & (country)].plot(kind=\"scatter\", y=\" GDP_pp \", x='Year', ax=ax, color=\"red\")"
   ]
  },
  {
   "cell_type": "markdown",
   "id": "revised-helicopter",
   "metadata": {},
   "source": [
    "### DESAFIOS"
   ]
  },
  {
   "cell_type": "markdown",
   "id": "d124054d",
   "metadata": {},
   "source": [
    "##### Você conseguiria criar um mapa do gdp ou da obesidade no mundo ao longo dos anos?"
   ]
  },
  {
   "cell_type": "code",
   "execution_count": 22,
   "id": "advised-sample",
   "metadata": {},
   "outputs": [],
   "source": [
    "pib_df['Year'] = pib_df['Year'].astype(int)\n",
    "pib_df[' GDP_pp '] = pib_df[' GDP_pp '].astype(float)"
   ]
  },
  {
   "cell_type": "code",
   "execution_count": 23,
   "id": "cc4a69b8",
   "metadata": {},
   "outputs": [
    {
     "data": {
      "text/html": [
       "<div>\n",
       "<style scoped>\n",
       "    .dataframe tbody tr th:only-of-type {\n",
       "        vertical-align: middle;\n",
       "    }\n",
       "\n",
       "    .dataframe tbody tr th {\n",
       "        vertical-align: top;\n",
       "    }\n",
       "\n",
       "    .dataframe thead th {\n",
       "        text-align: right;\n",
       "    }\n",
       "</style>\n",
       "<table border=\"1\" class=\"dataframe\">\n",
       "  <thead>\n",
       "    <tr style=\"text-align: right;\">\n",
       "      <th></th>\n",
       "      <th>country</th>\n",
       "      <th>continent</th>\n",
       "      <th>year</th>\n",
       "      <th>lifeExp</th>\n",
       "      <th>pop</th>\n",
       "      <th>gdpPercap</th>\n",
       "      <th>iso_alpha</th>\n",
       "      <th>iso_num</th>\n",
       "    </tr>\n",
       "  </thead>\n",
       "  <tbody>\n",
       "    <tr>\n",
       "      <th>0</th>\n",
       "      <td>Afghanistan</td>\n",
       "      <td>Asia</td>\n",
       "      <td>1952</td>\n",
       "      <td>28.801</td>\n",
       "      <td>8425333</td>\n",
       "      <td>779.445314</td>\n",
       "      <td>AFG</td>\n",
       "      <td>4</td>\n",
       "    </tr>\n",
       "    <tr>\n",
       "      <th>1</th>\n",
       "      <td>Afghanistan</td>\n",
       "      <td>Asia</td>\n",
       "      <td>1957</td>\n",
       "      <td>30.332</td>\n",
       "      <td>9240934</td>\n",
       "      <td>820.853030</td>\n",
       "      <td>AFG</td>\n",
       "      <td>4</td>\n",
       "    </tr>\n",
       "    <tr>\n",
       "      <th>2</th>\n",
       "      <td>Afghanistan</td>\n",
       "      <td>Asia</td>\n",
       "      <td>1962</td>\n",
       "      <td>31.997</td>\n",
       "      <td>10267083</td>\n",
       "      <td>853.100710</td>\n",
       "      <td>AFG</td>\n",
       "      <td>4</td>\n",
       "    </tr>\n",
       "    <tr>\n",
       "      <th>3</th>\n",
       "      <td>Afghanistan</td>\n",
       "      <td>Asia</td>\n",
       "      <td>1967</td>\n",
       "      <td>34.020</td>\n",
       "      <td>11537966</td>\n",
       "      <td>836.197138</td>\n",
       "      <td>AFG</td>\n",
       "      <td>4</td>\n",
       "    </tr>\n",
       "    <tr>\n",
       "      <th>4</th>\n",
       "      <td>Afghanistan</td>\n",
       "      <td>Asia</td>\n",
       "      <td>1972</td>\n",
       "      <td>36.088</td>\n",
       "      <td>13079460</td>\n",
       "      <td>739.981106</td>\n",
       "      <td>AFG</td>\n",
       "      <td>4</td>\n",
       "    </tr>\n",
       "    <tr>\n",
       "      <th>...</th>\n",
       "      <td>...</td>\n",
       "      <td>...</td>\n",
       "      <td>...</td>\n",
       "      <td>...</td>\n",
       "      <td>...</td>\n",
       "      <td>...</td>\n",
       "      <td>...</td>\n",
       "      <td>...</td>\n",
       "    </tr>\n",
       "    <tr>\n",
       "      <th>1699</th>\n",
       "      <td>Zimbabwe</td>\n",
       "      <td>Africa</td>\n",
       "      <td>1987</td>\n",
       "      <td>62.351</td>\n",
       "      <td>9216418</td>\n",
       "      <td>706.157306</td>\n",
       "      <td>ZWE</td>\n",
       "      <td>716</td>\n",
       "    </tr>\n",
       "    <tr>\n",
       "      <th>1700</th>\n",
       "      <td>Zimbabwe</td>\n",
       "      <td>Africa</td>\n",
       "      <td>1992</td>\n",
       "      <td>60.377</td>\n",
       "      <td>10704340</td>\n",
       "      <td>693.420786</td>\n",
       "      <td>ZWE</td>\n",
       "      <td>716</td>\n",
       "    </tr>\n",
       "    <tr>\n",
       "      <th>1701</th>\n",
       "      <td>Zimbabwe</td>\n",
       "      <td>Africa</td>\n",
       "      <td>1997</td>\n",
       "      <td>46.809</td>\n",
       "      <td>11404948</td>\n",
       "      <td>792.449960</td>\n",
       "      <td>ZWE</td>\n",
       "      <td>716</td>\n",
       "    </tr>\n",
       "    <tr>\n",
       "      <th>1702</th>\n",
       "      <td>Zimbabwe</td>\n",
       "      <td>Africa</td>\n",
       "      <td>2002</td>\n",
       "      <td>39.989</td>\n",
       "      <td>11926563</td>\n",
       "      <td>672.038623</td>\n",
       "      <td>ZWE</td>\n",
       "      <td>716</td>\n",
       "    </tr>\n",
       "    <tr>\n",
       "      <th>1703</th>\n",
       "      <td>Zimbabwe</td>\n",
       "      <td>Africa</td>\n",
       "      <td>2007</td>\n",
       "      <td>43.487</td>\n",
       "      <td>12311143</td>\n",
       "      <td>469.709298</td>\n",
       "      <td>ZWE</td>\n",
       "      <td>716</td>\n",
       "    </tr>\n",
       "  </tbody>\n",
       "</table>\n",
       "<p>1704 rows × 8 columns</p>\n",
       "</div>"
      ],
      "text/plain": [
       "          country continent  year  lifeExp       pop   gdpPercap iso_alpha  \\\n",
       "0     Afghanistan      Asia  1952   28.801   8425333  779.445314       AFG   \n",
       "1     Afghanistan      Asia  1957   30.332   9240934  820.853030       AFG   \n",
       "2     Afghanistan      Asia  1962   31.997  10267083  853.100710       AFG   \n",
       "3     Afghanistan      Asia  1967   34.020  11537966  836.197138       AFG   \n",
       "4     Afghanistan      Asia  1972   36.088  13079460  739.981106       AFG   \n",
       "...           ...       ...   ...      ...       ...         ...       ...   \n",
       "1699     Zimbabwe    Africa  1987   62.351   9216418  706.157306       ZWE   \n",
       "1700     Zimbabwe    Africa  1992   60.377  10704340  693.420786       ZWE   \n",
       "1701     Zimbabwe    Africa  1997   46.809  11404948  792.449960       ZWE   \n",
       "1702     Zimbabwe    Africa  2002   39.989  11926563  672.038623       ZWE   \n",
       "1703     Zimbabwe    Africa  2007   43.487  12311143  469.709298       ZWE   \n",
       "\n",
       "      iso_num  \n",
       "0           4  \n",
       "1           4  \n",
       "2           4  \n",
       "3           4  \n",
       "4           4  \n",
       "...       ...  \n",
       "1699      716  \n",
       "1700      716  \n",
       "1701      716  \n",
       "1702      716  \n",
       "1703      716  \n",
       "\n",
       "[1704 rows x 8 columns]"
      ]
     },
     "execution_count": 23,
     "metadata": {},
     "output_type": "execute_result"
    }
   ],
   "source": [
    "df = px.data.gapminder()\n",
    "\n",
    "df"
   ]
  },
  {
   "cell_type": "markdown",
   "id": "lesbian-flight",
   "metadata": {},
   "source": [
    "##### Há uma relação entre níveis de obesidade e gdp per capita?"
   ]
  },
  {
   "cell_type": "code",
   "execution_count": 73,
   "id": "fluid-enemy",
   "metadata": {},
   "outputs": [
    {
     "name": "stderr",
     "output_type": "stream",
     "text": [
      "C:\\Users\\Administrativo\\AppData\\Local\\Temp\\ipykernel_6340\\2056592551.py:71: FutureWarning:\n",
      "\n",
      "Setting an item of incompatible dtype is deprecated and will raise an error in a future version of pandas. Value 'Desligado' has dtype incompatible with int64, please explicitly cast to a compatible dtype first.\n",
      "\n"
     ]
    },
    {
     "data": {
      "text/html": [
       "<div>\n",
       "<style scoped>\n",
       "    .dataframe tbody tr th:only-of-type {\n",
       "        vertical-align: middle;\n",
       "    }\n",
       "\n",
       "    .dataframe tbody tr th {\n",
       "        vertical-align: top;\n",
       "    }\n",
       "\n",
       "    .dataframe thead th {\n",
       "        text-align: right;\n",
       "    }\n",
       "</style>\n",
       "<table border=\"1\" class=\"dataframe\">\n",
       "  <thead>\n",
       "    <tr style=\"text-align: right;\">\n",
       "      <th></th>\n",
       "      <th>Status</th>\n",
       "      <th>Start</th>\n",
       "      <th>End</th>\n",
       "    </tr>\n",
       "    <tr>\n",
       "      <th>Task</th>\n",
       "      <th></th>\n",
       "      <th></th>\n",
       "      <th></th>\n",
       "    </tr>\n",
       "  </thead>\n",
       "  <tbody>\n",
       "    <tr>\n",
       "      <th>Linha Pães</th>\n",
       "      <td>Desligado</td>\n",
       "      <td>2024-08-01 10:05:00</td>\n",
       "      <td>2024-08-01 10:05:01</td>\n",
       "    </tr>\n",
       "    <tr>\n",
       "      <th>Linha Pães</th>\n",
       "      <td>Desligado</td>\n",
       "      <td>2024-08-01 10:05:01</td>\n",
       "      <td>2024-08-01 10:50:00</td>\n",
       "    </tr>\n",
       "    <tr>\n",
       "      <th>Linha Pães</th>\n",
       "      <td>Ligado</td>\n",
       "      <td>2024-08-01 10:50:00</td>\n",
       "      <td>2024-08-01 10:50:01</td>\n",
       "    </tr>\n",
       "    <tr>\n",
       "      <th>Linha Pães</th>\n",
       "      <td>Ligado</td>\n",
       "      <td>2024-08-01 10:50:01</td>\n",
       "      <td>2024-08-01 10:50:02</td>\n",
       "    </tr>\n",
       "    <tr>\n",
       "      <th>Linha Pães</th>\n",
       "      <td>Ligado</td>\n",
       "      <td>2024-08-01 10:50:02</td>\n",
       "      <td>2024-08-01 10:50:03</td>\n",
       "    </tr>\n",
       "    <tr>\n",
       "      <th>Linha Pães</th>\n",
       "      <td>Ligado</td>\n",
       "      <td>2024-08-01 10:50:03</td>\n",
       "      <td>2024-08-01 11:20:00</td>\n",
       "    </tr>\n",
       "    <tr>\n",
       "      <th>Linha Pães</th>\n",
       "      <td>Falha</td>\n",
       "      <td>2024-08-01 11:20:00</td>\n",
       "      <td>2024-08-01 13:30:00</td>\n",
       "    </tr>\n",
       "    <tr>\n",
       "      <th>Linha Pães</th>\n",
       "      <td>Ligado</td>\n",
       "      <td>2024-08-01 13:30:00</td>\n",
       "      <td>2024-08-01 13:30:01</td>\n",
       "    </tr>\n",
       "    <tr>\n",
       "      <th>Linha Pães</th>\n",
       "      <td>Ligado</td>\n",
       "      <td>2024-08-01 13:30:01</td>\n",
       "      <td>2024-08-01 13:30:02</td>\n",
       "    </tr>\n",
       "    <tr>\n",
       "      <th>Linha Pães</th>\n",
       "      <td>Ligado</td>\n",
       "      <td>2024-08-01 13:30:02</td>\n",
       "      <td>2024-08-01 13:30:03</td>\n",
       "    </tr>\n",
       "    <tr>\n",
       "      <th>Linha Pães</th>\n",
       "      <td>Ligado</td>\n",
       "      <td>2024-08-01 13:30:03</td>\n",
       "      <td>2024-08-01 13:40:00</td>\n",
       "    </tr>\n",
       "    <tr>\n",
       "      <th>Linha Pães</th>\n",
       "      <td>Falha</td>\n",
       "      <td>2024-08-01 13:40:00</td>\n",
       "      <td>2024-08-01 13:55:00</td>\n",
       "    </tr>\n",
       "    <tr>\n",
       "      <th>Linha Pães</th>\n",
       "      <td>Desligado</td>\n",
       "      <td>2024-08-01 13:55:00</td>\n",
       "      <td>2024-08-01 15:50:00</td>\n",
       "    </tr>\n",
       "    <tr>\n",
       "      <th>Linha Pães</th>\n",
       "      <td>Falha</td>\n",
       "      <td>2024-08-01 15:50:00</td>\n",
       "      <td>2024-08-01 15:50:01</td>\n",
       "    </tr>\n",
       "    <tr>\n",
       "      <th>Linha Pães</th>\n",
       "      <td>Falha</td>\n",
       "      <td>2024-08-01 15:50:01</td>\n",
       "      <td>2024-08-01 15:50:02</td>\n",
       "    </tr>\n",
       "    <tr>\n",
       "      <th>Linha Pães</th>\n",
       "      <td>Falha</td>\n",
       "      <td>2024-08-01 15:50:02</td>\n",
       "      <td>2024-08-01 15:50:03</td>\n",
       "    </tr>\n",
       "    <tr>\n",
       "      <th>Linha Pães</th>\n",
       "      <td>Falha</td>\n",
       "      <td>2024-08-01 15:50:03</td>\n",
       "      <td>2024-08-01 15:50:04</td>\n",
       "    </tr>\n",
       "    <tr>\n",
       "      <th>Linha Pães</th>\n",
       "      <td>Falha</td>\n",
       "      <td>2024-08-01 15:50:04</td>\n",
       "      <td>2024-08-01 15:50:05</td>\n",
       "    </tr>\n",
       "    <tr>\n",
       "      <th>Linha Pães</th>\n",
       "      <td>Falha</td>\n",
       "      <td>2024-08-01 15:50:05</td>\n",
       "      <td>2024-08-01 17:05:00</td>\n",
       "    </tr>\n",
       "    <tr>\n",
       "      <th>Linha Pães</th>\n",
       "      <td>Ligado</td>\n",
       "      <td>2024-08-01 17:05:00</td>\n",
       "      <td>2024-08-01 20:50:00</td>\n",
       "    </tr>\n",
       "    <tr>\n",
       "      <th>Linha Pães</th>\n",
       "      <td>Desligado</td>\n",
       "      <td>2024-08-01 20:50:00</td>\n",
       "      <td>2024-08-01 20:50:01</td>\n",
       "    </tr>\n",
       "    <tr>\n",
       "      <th>Linha Pães</th>\n",
       "      <td>Desligado</td>\n",
       "      <td>2024-08-01 20:50:01</td>\n",
       "      <td>2024-08-01 20:50:02</td>\n",
       "    </tr>\n",
       "    <tr>\n",
       "      <th>Linha Pães</th>\n",
       "      <td>Desligado</td>\n",
       "      <td>2024-08-01 20:50:02</td>\n",
       "      <td>2024-08-01 23:59:59</td>\n",
       "    </tr>\n",
       "  </tbody>\n",
       "</table>\n",
       "</div>"
      ],
      "text/plain": [
       "               Status               Start                 End\n",
       "Task                                                         \n",
       "Linha Pães  Desligado 2024-08-01 10:05:00 2024-08-01 10:05:01\n",
       "Linha Pães  Desligado 2024-08-01 10:05:01 2024-08-01 10:50:00\n",
       "Linha Pães     Ligado 2024-08-01 10:50:00 2024-08-01 10:50:01\n",
       "Linha Pães     Ligado 2024-08-01 10:50:01 2024-08-01 10:50:02\n",
       "Linha Pães     Ligado 2024-08-01 10:50:02 2024-08-01 10:50:03\n",
       "Linha Pães     Ligado 2024-08-01 10:50:03 2024-08-01 11:20:00\n",
       "Linha Pães      Falha 2024-08-01 11:20:00 2024-08-01 13:30:00\n",
       "Linha Pães     Ligado 2024-08-01 13:30:00 2024-08-01 13:30:01\n",
       "Linha Pães     Ligado 2024-08-01 13:30:01 2024-08-01 13:30:02\n",
       "Linha Pães     Ligado 2024-08-01 13:30:02 2024-08-01 13:30:03\n",
       "Linha Pães     Ligado 2024-08-01 13:30:03 2024-08-01 13:40:00\n",
       "Linha Pães      Falha 2024-08-01 13:40:00 2024-08-01 13:55:00\n",
       "Linha Pães  Desligado 2024-08-01 13:55:00 2024-08-01 15:50:00\n",
       "Linha Pães      Falha 2024-08-01 15:50:00 2024-08-01 15:50:01\n",
       "Linha Pães      Falha 2024-08-01 15:50:01 2024-08-01 15:50:02\n",
       "Linha Pães      Falha 2024-08-01 15:50:02 2024-08-01 15:50:03\n",
       "Linha Pães      Falha 2024-08-01 15:50:03 2024-08-01 15:50:04\n",
       "Linha Pães      Falha 2024-08-01 15:50:04 2024-08-01 15:50:05\n",
       "Linha Pães      Falha 2024-08-01 15:50:05 2024-08-01 17:05:00\n",
       "Linha Pães     Ligado 2024-08-01 17:05:00 2024-08-01 20:50:00\n",
       "Linha Pães  Desligado 2024-08-01 20:50:00 2024-08-01 20:50:01\n",
       "Linha Pães  Desligado 2024-08-01 20:50:01 2024-08-01 20:50:02\n",
       "Linha Pães  Desligado 2024-08-01 20:50:02 2024-08-01 23:59:59"
      ]
     },
     "metadata": {},
     "output_type": "display_data"
    },
    {
     "data": {
      "application/vnd.plotly.v1+json": {
       "config": {
        "plotlyServerURL": "https://plot.ly"
       },
       "data": [
        {
         "alignmentgroup": "True",
         "base": [
          "2024-08-01T10:05:00",
          "2024-08-01T10:05:01",
          "2024-08-01T13:55:00",
          "2024-08-01T20:50:00",
          "2024-08-01T20:50:01",
          "2024-08-01T20:50:02"
         ],
         "hovertemplate": "Status=Desligado<br>Start=%{base}<br>End=%{x}<br>Task=%{y}<extra></extra>",
         "legendgroup": "Desligado",
         "marker": {
          "color": "#868686",
          "pattern": {
           "shape": ""
          }
         },
         "name": "Desligado",
         "offsetgroup": "Desligado",
         "orientation": "h",
         "showlegend": true,
         "textposition": "auto",
         "type": "bar",
         "x": [
          1000,
          2699000,
          6900000,
          1000,
          1000,
          11397000
         ],
         "xaxis": "x",
         "y": [
          "Linha Pães",
          "Linha Pães",
          "Linha Pães",
          "Linha Pães",
          "Linha Pães",
          "Linha Pães"
         ],
         "yaxis": "y"
        },
        {
         "alignmentgroup": "True",
         "base": [
          "2024-08-01T10:50:00",
          "2024-08-01T10:50:01",
          "2024-08-01T10:50:02",
          "2024-08-01T10:50:03",
          "2024-08-01T13:30:00",
          "2024-08-01T13:30:01",
          "2024-08-01T13:30:02",
          "2024-08-01T13:30:03",
          "2024-08-01T17:05:00"
         ],
         "hovertemplate": "Status=Ligado<br>Start=%{base}<br>End=%{x}<br>Task=%{y}<extra></extra>",
         "legendgroup": "Ligado",
         "marker": {
          "color": "#F0F8FF",
          "pattern": {
           "shape": ""
          }
         },
         "name": "Ligado",
         "offsetgroup": "Ligado",
         "orientation": "h",
         "showlegend": true,
         "textposition": "auto",
         "type": "bar",
         "x": [
          1000,
          1000,
          1000,
          1797000,
          1000,
          1000,
          1000,
          597000,
          13500000
         ],
         "xaxis": "x",
         "y": [
          "Linha Pães",
          "Linha Pães",
          "Linha Pães",
          "Linha Pães",
          "Linha Pães",
          "Linha Pães",
          "Linha Pães",
          "Linha Pães",
          "Linha Pães"
         ],
         "yaxis": "y"
        },
        {
         "alignmentgroup": "True",
         "base": [
          "2024-08-01T11:20:00",
          "2024-08-01T13:40:00",
          "2024-08-01T15:50:00",
          "2024-08-01T15:50:01",
          "2024-08-01T15:50:02",
          "2024-08-01T15:50:03",
          "2024-08-01T15:50:04",
          "2024-08-01T15:50:05"
         ],
         "hovertemplate": "Status=Falha<br>Start=%{base}<br>End=%{x}<br>Task=%{y}<extra></extra>",
         "legendgroup": "Falha",
         "marker": {
          "color": "#c22929",
          "pattern": {
           "shape": ""
          }
         },
         "name": "Falha",
         "offsetgroup": "Falha",
         "orientation": "h",
         "showlegend": true,
         "textposition": "auto",
         "type": "bar",
         "x": [
          7800000,
          900000,
          1000,
          1000,
          1000,
          1000,
          1000,
          4495000
         ],
         "xaxis": "x",
         "y": [
          "Linha Pães",
          "Linha Pães",
          "Linha Pães",
          "Linha Pães",
          "Linha Pães",
          "Linha Pães",
          "Linha Pães",
          "Linha Pães"
         ],
         "yaxis": "y"
        }
       ],
       "layout": {
        "barmode": "overlay",
        "height": 220,
        "legend": {
         "title": {
          "text": "Status"
         },
         "tracegroupgap": 0
        },
        "margin": {
         "t": 60
        },
        "template": {
         "data": {
          "bar": [
           {
            "error_x": {
             "color": "#f2f5fa"
            },
            "error_y": {
             "color": "#f2f5fa"
            },
            "marker": {
             "line": {
              "color": "rgb(17,17,17)",
              "width": 0.5
             },
             "pattern": {
              "fillmode": "overlay",
              "size": 10,
              "solidity": 0.2
             }
            },
            "type": "bar"
           }
          ],
          "barpolar": [
           {
            "marker": {
             "line": {
              "color": "rgb(17,17,17)",
              "width": 0.5
             },
             "pattern": {
              "fillmode": "overlay",
              "size": 10,
              "solidity": 0.2
             }
            },
            "type": "barpolar"
           }
          ],
          "carpet": [
           {
            "aaxis": {
             "endlinecolor": "#A2B1C6",
             "gridcolor": "#506784",
             "linecolor": "#506784",
             "minorgridcolor": "#506784",
             "startlinecolor": "#A2B1C6"
            },
            "baxis": {
             "endlinecolor": "#A2B1C6",
             "gridcolor": "#506784",
             "linecolor": "#506784",
             "minorgridcolor": "#506784",
             "startlinecolor": "#A2B1C6"
            },
            "type": "carpet"
           }
          ],
          "choropleth": [
           {
            "colorbar": {
             "outlinewidth": 0,
             "ticks": ""
            },
            "type": "choropleth"
           }
          ],
          "contour": [
           {
            "colorbar": {
             "outlinewidth": 0,
             "ticks": ""
            },
            "colorscale": [
             [
              0,
              "#0d0887"
             ],
             [
              0.1111111111111111,
              "#46039f"
             ],
             [
              0.2222222222222222,
              "#7201a8"
             ],
             [
              0.3333333333333333,
              "#9c179e"
             ],
             [
              0.4444444444444444,
              "#bd3786"
             ],
             [
              0.5555555555555556,
              "#d8576b"
             ],
             [
              0.6666666666666666,
              "#ed7953"
             ],
             [
              0.7777777777777778,
              "#fb9f3a"
             ],
             [
              0.8888888888888888,
              "#fdca26"
             ],
             [
              1,
              "#f0f921"
             ]
            ],
            "type": "contour"
           }
          ],
          "contourcarpet": [
           {
            "colorbar": {
             "outlinewidth": 0,
             "ticks": ""
            },
            "type": "contourcarpet"
           }
          ],
          "heatmap": [
           {
            "colorbar": {
             "outlinewidth": 0,
             "ticks": ""
            },
            "colorscale": [
             [
              0,
              "#0d0887"
             ],
             [
              0.1111111111111111,
              "#46039f"
             ],
             [
              0.2222222222222222,
              "#7201a8"
             ],
             [
              0.3333333333333333,
              "#9c179e"
             ],
             [
              0.4444444444444444,
              "#bd3786"
             ],
             [
              0.5555555555555556,
              "#d8576b"
             ],
             [
              0.6666666666666666,
              "#ed7953"
             ],
             [
              0.7777777777777778,
              "#fb9f3a"
             ],
             [
              0.8888888888888888,
              "#fdca26"
             ],
             [
              1,
              "#f0f921"
             ]
            ],
            "type": "heatmap"
           }
          ],
          "heatmapgl": [
           {
            "colorbar": {
             "outlinewidth": 0,
             "ticks": ""
            },
            "colorscale": [
             [
              0,
              "#0d0887"
             ],
             [
              0.1111111111111111,
              "#46039f"
             ],
             [
              0.2222222222222222,
              "#7201a8"
             ],
             [
              0.3333333333333333,
              "#9c179e"
             ],
             [
              0.4444444444444444,
              "#bd3786"
             ],
             [
              0.5555555555555556,
              "#d8576b"
             ],
             [
              0.6666666666666666,
              "#ed7953"
             ],
             [
              0.7777777777777778,
              "#fb9f3a"
             ],
             [
              0.8888888888888888,
              "#fdca26"
             ],
             [
              1,
              "#f0f921"
             ]
            ],
            "type": "heatmapgl"
           }
          ],
          "histogram": [
           {
            "marker": {
             "pattern": {
              "fillmode": "overlay",
              "size": 10,
              "solidity": 0.2
             }
            },
            "type": "histogram"
           }
          ],
          "histogram2d": [
           {
            "colorbar": {
             "outlinewidth": 0,
             "ticks": ""
            },
            "colorscale": [
             [
              0,
              "#0d0887"
             ],
             [
              0.1111111111111111,
              "#46039f"
             ],
             [
              0.2222222222222222,
              "#7201a8"
             ],
             [
              0.3333333333333333,
              "#9c179e"
             ],
             [
              0.4444444444444444,
              "#bd3786"
             ],
             [
              0.5555555555555556,
              "#d8576b"
             ],
             [
              0.6666666666666666,
              "#ed7953"
             ],
             [
              0.7777777777777778,
              "#fb9f3a"
             ],
             [
              0.8888888888888888,
              "#fdca26"
             ],
             [
              1,
              "#f0f921"
             ]
            ],
            "type": "histogram2d"
           }
          ],
          "histogram2dcontour": [
           {
            "colorbar": {
             "outlinewidth": 0,
             "ticks": ""
            },
            "colorscale": [
             [
              0,
              "#0d0887"
             ],
             [
              0.1111111111111111,
              "#46039f"
             ],
             [
              0.2222222222222222,
              "#7201a8"
             ],
             [
              0.3333333333333333,
              "#9c179e"
             ],
             [
              0.4444444444444444,
              "#bd3786"
             ],
             [
              0.5555555555555556,
              "#d8576b"
             ],
             [
              0.6666666666666666,
              "#ed7953"
             ],
             [
              0.7777777777777778,
              "#fb9f3a"
             ],
             [
              0.8888888888888888,
              "#fdca26"
             ],
             [
              1,
              "#f0f921"
             ]
            ],
            "type": "histogram2dcontour"
           }
          ],
          "mesh3d": [
           {
            "colorbar": {
             "outlinewidth": 0,
             "ticks": ""
            },
            "type": "mesh3d"
           }
          ],
          "parcoords": [
           {
            "line": {
             "colorbar": {
              "outlinewidth": 0,
              "ticks": ""
             }
            },
            "type": "parcoords"
           }
          ],
          "pie": [
           {
            "automargin": true,
            "type": "pie"
           }
          ],
          "scatter": [
           {
            "marker": {
             "line": {
              "color": "#283442"
             }
            },
            "type": "scatter"
           }
          ],
          "scatter3d": [
           {
            "line": {
             "colorbar": {
              "outlinewidth": 0,
              "ticks": ""
             }
            },
            "marker": {
             "colorbar": {
              "outlinewidth": 0,
              "ticks": ""
             }
            },
            "type": "scatter3d"
           }
          ],
          "scattercarpet": [
           {
            "marker": {
             "colorbar": {
              "outlinewidth": 0,
              "ticks": ""
             }
            },
            "type": "scattercarpet"
           }
          ],
          "scattergeo": [
           {
            "marker": {
             "colorbar": {
              "outlinewidth": 0,
              "ticks": ""
             }
            },
            "type": "scattergeo"
           }
          ],
          "scattergl": [
           {
            "marker": {
             "line": {
              "color": "#283442"
             }
            },
            "type": "scattergl"
           }
          ],
          "scattermapbox": [
           {
            "marker": {
             "colorbar": {
              "outlinewidth": 0,
              "ticks": ""
             }
            },
            "type": "scattermapbox"
           }
          ],
          "scatterpolar": [
           {
            "marker": {
             "colorbar": {
              "outlinewidth": 0,
              "ticks": ""
             }
            },
            "type": "scatterpolar"
           }
          ],
          "scatterpolargl": [
           {
            "marker": {
             "colorbar": {
              "outlinewidth": 0,
              "ticks": ""
             }
            },
            "type": "scatterpolargl"
           }
          ],
          "scatterternary": [
           {
            "marker": {
             "colorbar": {
              "outlinewidth": 0,
              "ticks": ""
             }
            },
            "type": "scatterternary"
           }
          ],
          "surface": [
           {
            "colorbar": {
             "outlinewidth": 0,
             "ticks": ""
            },
            "colorscale": [
             [
              0,
              "#0d0887"
             ],
             [
              0.1111111111111111,
              "#46039f"
             ],
             [
              0.2222222222222222,
              "#7201a8"
             ],
             [
              0.3333333333333333,
              "#9c179e"
             ],
             [
              0.4444444444444444,
              "#bd3786"
             ],
             [
              0.5555555555555556,
              "#d8576b"
             ],
             [
              0.6666666666666666,
              "#ed7953"
             ],
             [
              0.7777777777777778,
              "#fb9f3a"
             ],
             [
              0.8888888888888888,
              "#fdca26"
             ],
             [
              1,
              "#f0f921"
             ]
            ],
            "type": "surface"
           }
          ],
          "table": [
           {
            "cells": {
             "fill": {
              "color": "#506784"
             },
             "line": {
              "color": "rgb(17,17,17)"
             }
            },
            "header": {
             "fill": {
              "color": "#2a3f5f"
             },
             "line": {
              "color": "rgb(17,17,17)"
             }
            },
            "type": "table"
           }
          ]
         },
         "layout": {
          "annotationdefaults": {
           "arrowcolor": "#f2f5fa",
           "arrowhead": 0,
           "arrowwidth": 1
          },
          "autotypenumbers": "strict",
          "coloraxis": {
           "colorbar": {
            "outlinewidth": 0,
            "ticks": ""
           }
          },
          "colorscale": {
           "diverging": [
            [
             0,
             "#8e0152"
            ],
            [
             0.1,
             "#c51b7d"
            ],
            [
             0.2,
             "#de77ae"
            ],
            [
             0.3,
             "#f1b6da"
            ],
            [
             0.4,
             "#fde0ef"
            ],
            [
             0.5,
             "#f7f7f7"
            ],
            [
             0.6,
             "#e6f5d0"
            ],
            [
             0.7,
             "#b8e186"
            ],
            [
             0.8,
             "#7fbc41"
            ],
            [
             0.9,
             "#4d9221"
            ],
            [
             1,
             "#276419"
            ]
           ],
           "sequential": [
            [
             0,
             "#0d0887"
            ],
            [
             0.1111111111111111,
             "#46039f"
            ],
            [
             0.2222222222222222,
             "#7201a8"
            ],
            [
             0.3333333333333333,
             "#9c179e"
            ],
            [
             0.4444444444444444,
             "#bd3786"
            ],
            [
             0.5555555555555556,
             "#d8576b"
            ],
            [
             0.6666666666666666,
             "#ed7953"
            ],
            [
             0.7777777777777778,
             "#fb9f3a"
            ],
            [
             0.8888888888888888,
             "#fdca26"
            ],
            [
             1,
             "#f0f921"
            ]
           ],
           "sequentialminus": [
            [
             0,
             "#0d0887"
            ],
            [
             0.1111111111111111,
             "#46039f"
            ],
            [
             0.2222222222222222,
             "#7201a8"
            ],
            [
             0.3333333333333333,
             "#9c179e"
            ],
            [
             0.4444444444444444,
             "#bd3786"
            ],
            [
             0.5555555555555556,
             "#d8576b"
            ],
            [
             0.6666666666666666,
             "#ed7953"
            ],
            [
             0.7777777777777778,
             "#fb9f3a"
            ],
            [
             0.8888888888888888,
             "#fdca26"
            ],
            [
             1,
             "#f0f921"
            ]
           ]
          },
          "colorway": [
           "#636efa",
           "#EF553B",
           "#00cc96",
           "#ab63fa",
           "#FFA15A",
           "#19d3f3",
           "#FF6692",
           "#B6E880",
           "#FF97FF",
           "#FECB52"
          ],
          "font": {
           "color": "#f2f5fa"
          },
          "geo": {
           "bgcolor": "rgb(17,17,17)",
           "lakecolor": "rgb(17,17,17)",
           "landcolor": "rgb(17,17,17)",
           "showlakes": true,
           "showland": true,
           "subunitcolor": "#506784"
          },
          "hoverlabel": {
           "align": "left"
          },
          "hovermode": "closest",
          "mapbox": {
           "style": "dark"
          },
          "paper_bgcolor": "rgb(17,17,17)",
          "plot_bgcolor": "rgb(17,17,17)",
          "polar": {
           "angularaxis": {
            "gridcolor": "#506784",
            "linecolor": "#506784",
            "ticks": ""
           },
           "bgcolor": "rgb(17,17,17)",
           "radialaxis": {
            "gridcolor": "#506784",
            "linecolor": "#506784",
            "ticks": ""
           }
          },
          "scene": {
           "xaxis": {
            "backgroundcolor": "rgb(17,17,17)",
            "gridcolor": "#506784",
            "gridwidth": 2,
            "linecolor": "#506784",
            "showbackground": true,
            "ticks": "",
            "zerolinecolor": "#C8D4E3"
           },
           "yaxis": {
            "backgroundcolor": "rgb(17,17,17)",
            "gridcolor": "#506784",
            "gridwidth": 2,
            "linecolor": "#506784",
            "showbackground": true,
            "ticks": "",
            "zerolinecolor": "#C8D4E3"
           },
           "zaxis": {
            "backgroundcolor": "rgb(17,17,17)",
            "gridcolor": "#506784",
            "gridwidth": 2,
            "linecolor": "#506784",
            "showbackground": true,
            "ticks": "",
            "zerolinecolor": "#C8D4E3"
           }
          },
          "shapedefaults": {
           "line": {
            "color": "#f2f5fa"
           }
          },
          "sliderdefaults": {
           "bgcolor": "#C8D4E3",
           "bordercolor": "rgb(17,17,17)",
           "borderwidth": 1,
           "tickwidth": 0
          },
          "ternary": {
           "aaxis": {
            "gridcolor": "#506784",
            "linecolor": "#506784",
            "ticks": ""
           },
           "baxis": {
            "gridcolor": "#506784",
            "linecolor": "#506784",
            "ticks": ""
           },
           "bgcolor": "rgb(17,17,17)",
           "caxis": {
            "gridcolor": "#506784",
            "linecolor": "#506784",
            "ticks": ""
           }
          },
          "title": {
           "x": 0.05
          },
          "updatemenudefaults": {
           "bgcolor": "#506784",
           "borderwidth": 0
          },
          "xaxis": {
           "automargin": true,
           "gridcolor": "#283442",
           "linecolor": "#506784",
           "ticks": "",
           "title": {
            "standoff": 15
           },
           "zerolinecolor": "#283442",
           "zerolinewidth": 2
          },
          "yaxis": {
           "automargin": true,
           "gridcolor": "#283442",
           "linecolor": "#506784",
           "ticks": "",
           "title": {
            "standoff": 15
           },
           "zerolinecolor": "#283442",
           "zerolinewidth": 2
          }
         }
        },
        "xaxis": {
         "anchor": "y",
         "domain": [
          0,
          1
         ],
         "type": "date"
        },
        "yaxis": {
         "anchor": "x",
         "domain": [
          0,
          1
         ],
         "title": {
          "text": "Task"
         }
        }
       }
      }
     },
     "metadata": {},
     "output_type": "display_data"
    }
   ],
   "source": [
    "aux = [\n",
    "    {'Status': 0, 'Start': '10:05:00'},\n",
    "    {'Status': 0, 'Start': '10:05:01'},\n",
    "    {'Status': 1, 'Start': '10:50:00'},\n",
    "    {'Status': 1, 'Start': '10:50:01'},\n",
    "    {'Status': 1, 'Start': '10:50:02'},\n",
    "    {'Status': 1, 'Start': '10:50:03'},\n",
    "    {'Status': 2, 'Start': '11:20:00'},\n",
    "    {'Status': 1, 'Start': '13:30:00'},\n",
    "    {'Status': 1, 'Start': '13:30:01'},\n",
    "    {'Status': 1, 'Start': '13:30:02'},\n",
    "    {'Status': 1, 'Start': '13:30:03'},\n",
    "    {'Status': 2, 'Start': '13:40:00'},\n",
    "    {'Status': 0, 'Start': '13:55:00'},\n",
    "    {'Status': 2, 'Start': '15:50:00'},\n",
    "    {'Status': 2, 'Start': '15:50:01'},\n",
    "    {'Status': 2, 'Start': '15:50:02'},\n",
    "    {'Status': 2, 'Start': '15:50:03'},\n",
    "    {'Status': 2, 'Start': '15:50:04'},\n",
    "    {'Status': 2, 'Start': '15:50:05'},\n",
    "    {'Status': 1, 'Start': '17:05:00'},\n",
    "    {'Status': 0, 'Start': '20:50:00'},\n",
    "    {'Status': 0, 'Start': '20:50:01'},\n",
    "    {'Status': 0, 'Start': '20:50:02'},\n",
    "]\n",
    "\n",
    "aux = [\n",
    "    {'Status': 0, 'Start': '10:05:00'},\n",
    "    {'Status': 0, 'Start': '10:05:01'},\n",
    "    {'Status': 1, 'Start': '10:50:00'},\n",
    "    {'Status': 1, 'Start': '10:50:01'},\n",
    "    {'Status': 1, 'Start': '10:50:02'},\n",
    "    {'Status': 1, 'Start': '10:50:03'},\n",
    "    {'Status': 2, 'Start': '11:20:00'},\n",
    "    {'Status': 1, 'Start': '13:30:00'},\n",
    "    {'Status': 1, 'Start': '13:30:01'},\n",
    "    {'Status': 1, 'Start': '13:30:02'},\n",
    "    {'Status': 1, 'Start': '13:30:03'},\n",
    "    {'Status': 2, 'Start': '13:40:00'},\n",
    "    {'Status': 0, 'Start': '13:55:00'},\n",
    "    {'Status': 2, 'Start': '15:50:00'},\n",
    "    {'Status': 2, 'Start': '15:50:01'},\n",
    "    {'Status': 2, 'Start': '15:50:02'},\n",
    "    {'Status': 2, 'Start': '15:50:03'},\n",
    "    {'Status': 2, 'Start': '15:50:04'},\n",
    "    {'Status': 2, 'Start': '15:50:05'},\n",
    "    {'Status': 1, 'Start': '17:05:00'},\n",
    "    {'Status': 0, 'Start': '20:50:00'},\n",
    "    {'Status': 0, 'Start': '20:50:01'},\n",
    "    {'Status': 0, 'Start': '20:50:02'},\n",
    "]\n",
    "\n",
    "cores = {\n",
    "    'Desligado': '#868686',\n",
    "    'Ligado': '#F0F8FF',\n",
    "    'Falha': '#c22929',\n",
    "}\n",
    "\n",
    "temp = [\n",
    "        'ggplot2', 'seaborn', 'simple_white', 'plotly', 'plotly_white',\n",
    "        'plotly_dark', 'presentation', 'xgridoff', 'ygridoff', 'gridon'\n",
    "    ]\n",
    "\n",
    "graph_config = {''}\n",
    "\n",
    "df = pd.DataFrame(aux)\n",
    "\n",
    "df['Task'] = 'Linha Pães'\n",
    "df.set_index('Task', inplace=True)\n",
    "\n",
    "df.loc[ df['Status'] == 0, 'Status' ] = 'Desligado'\n",
    "df.loc[ df['Status'] == 1, 'Status' ] = 'Ligado'\n",
    "df.loc[ df['Status'] == 2, 'Status' ] = 'Falha'\n",
    "\n",
    "df['End'] = df['Start'].shift(-1).fillna('23:59:59')\n",
    "\n",
    "df['Start'] = df['Start'].astype('datetime64[ns]')\n",
    "df['End'] = df['End'].astype('datetime64[ns]')\n",
    "\n",
    "display(df)\n",
    "\n",
    "fig = px.timeline(df, x_start='Start', x_end='End', y=df.index, color='Status', template=temp[5], color_discrete_map=cores)\n",
    "fig.update_layout(height=220)\n",
    "fig\n",
    "\n"
   ]
  },
  {
   "cell_type": "code",
   "execution_count": null,
   "id": "1cebed58",
   "metadata": {},
   "outputs": [],
   "source": []
  }
 ],
 "metadata": {
  "kernelspec": {
   "display_name": "Python 3",
   "language": "python",
   "name": "python3"
  },
  "language_info": {
   "codemirror_mode": {
    "name": "ipython",
    "version": 3
   },
   "file_extension": ".py",
   "mimetype": "text/x-python",
   "name": "python",
   "nbconvert_exporter": "python",
   "pygments_lexer": "ipython3",
   "version": "3.12.3"
  }
 },
 "nbformat": 4,
 "nbformat_minor": 5
}
