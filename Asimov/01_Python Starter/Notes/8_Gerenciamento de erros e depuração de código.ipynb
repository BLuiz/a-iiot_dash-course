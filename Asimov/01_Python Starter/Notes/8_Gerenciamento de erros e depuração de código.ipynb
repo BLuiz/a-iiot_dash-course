{
 "cells": [
  {
   "cell_type": "markdown",
   "id": "bca79c9b-ad68-4402-a145-4b394e6c44fa",
   "metadata": {
    "jp-MarkdownHeadingCollapsed": true
   },
   "source": [
    "## Apresentação do módulo"
   ]
  },
  {
   "cell_type": "markdown",
   "id": "63bcdfbc-3073-4e44-a58c-9ca81e06e43a",
   "metadata": {},
   "source": [
    "Utilização de alguns módulos para tratar os possíveis erros do sistema."
   ]
  },
  {
   "cell_type": "markdown",
   "id": "a4c894d6-a174-404d-beac-2cfa16f1c99f",
   "metadata": {
    "jp-MarkdownHeadingCollapsed": true
   },
   "source": [
    "## Importação de módulos e PDB"
   ]
  },
  {
   "cell_type": "markdown",
   "id": "d6fdea28-88a0-40ad-8e12-5cf72908ecd6",
   "metadata": {},
   "source": [
    "De acordo com a complexidade de alguns algorítmos que se podem ser feitos, vão existir as bibliotecas de funções, alguns módulos, pacotes, de códigos que realizam alguma atividade que pode ser comum à necessidade de vários desenvolvedores. Portanto, quando se faz a importação de algum pacote, como o *time* e o *os*, se está requerindo um pacote com funções prontas, que foram construídos com os conceitos básicos de python e agilizam os processos de desenvolvimento de outra funcionalidade.\n",
    "\n",
    "O pacote *pdb* é um novo exemplo, que permite debuggar o código, testá-lo de forma a compreender os erros que estão acontecendo.\n",
    "\n",
    "\n",
    "**Sintaxe de importações**\n",
    "\n",
    "1. Importação de um pacote\n",
    "> import package_name  \n",
    "2. Importação de todas as funções de um módulo\n",
    "> from package_name import *  \n",
    "3. Importação de uma ou mais funções específicas de um módulo  \n",
    "> from package_name import function_name, ...  \n",
    "4. Importação de pacote com apelido  \n",
    "> import package_name as new_name  \n",
    "5. Importação de uma ou mais funções com apelidos  \n",
    "> from package_name import function_name as new_name, ..."
   ]
  },
  {
   "cell_type": "markdown",
   "id": "58a0baf5-08cc-4807-8081-033b905c69eb",
   "metadata": {},
   "source": [
    "**Exemplos de Aplicação**"
   ]
  },
  {
   "cell_type": "code",
   "execution_count": null,
   "id": "a5ff63b6-6e97-481d-948e-7beace5291b7",
   "metadata": {},
   "outputs": [],
   "source": [
    "import pdb\n",
    "\n",
    "x = [1,2,3]\n",
    "y = 2\n",
    "z = 3\n",
    "\n",
    "print(z+y)\n",
    "pdb.set_trace()\n",
    "print(x+y)"
   ]
  },
  {
   "cell_type": "markdown",
   "id": "219e605a-df27-4391-a02c-7a62237fc2a8",
   "metadata": {},
   "source": [
    "1. Debuggando erros: pdb.set_trace()"
   ]
  },
  {
   "cell_type": "code",
   "execution_count": null,
   "id": "9794fe78-918a-4daa-8a52-2880c9603a31",
   "metadata": {},
   "outputs": [],
   "source": [
    "'# Funcionamento: executa linhas de código de forma a evitar quebrar (crashar) o código caso haja algum erro'\n",
    "# executa codigo acima\n",
    "# pdb.set_trace()\n",
    "# codigo abaixo, não necessariamente será executado\n",
    "\n",
    "'# Fora os códigos que podem ser executados pelo debugger, existem dois comandos para sua interrupção'\n",
    "# c - continua executando o resto do código\n",
    "# q - termina execução ignorando o resto do código"
   ]
  },
  {
   "cell_type": "markdown",
   "id": "3febf0e0-0927-4f16-877a-08a78401ea51",
   "metadata": {},
   "source": [
    "2. Envio de comandos para o terminal"
   ]
  },
  {
   "cell_type": "code",
   "execution_count": null,
   "id": "ae0f36f9-e136-4b79-8a53-36a048b3bfad",
   "metadata": {},
   "outputs": [],
   "source": [
    "'# Comando para verificar módulos instalados no sistema'\n",
    "# !pip freeze\n",
    "# !pip list\n",
    "\n",
    "'# Comando para verificar informações sobre um módulo'\n",
    "# !pip show <modulo>\n",
    "\n",
    "'# Comando para instalar novos módulos no sistema'\n",
    "# !pip install <modulo>"
   ]
  },
  {
   "cell_type": "markdown",
   "id": "137b3698-0229-462d-ba6c-cf72a5e13d6f",
   "metadata": {},
   "source": [
    "*Obs: para mais comandos pip, verificar documentação no site PyPI, ou execute o comando **pip** no terminal*"
   ]
  },
  {
   "cell_type": "markdown",
   "id": "e7d30072-2495-4631-8f8c-18c096c41df0",
   "metadata": {
    "jp-MarkdownHeadingCollapsed": true
   },
   "source": [
    "## Try, Except e Finally"
   ]
  },
  {
   "cell_type": "markdown",
   "id": "f34f2701-1039-4a7e-8147-b5a6c4d3cbbc",
   "metadata": {},
   "source": [
    "Para quem está habituado a testar seus códigos ou até iniciantes da programação, é comum acontecerem erros na execução de um programa, e nota-se que esses erros acabam \"quebrando\" (*crashando*) o programa e interrompendo a execução. Portanto, existem métodos para proteger o código de *crashar* por conta dos erros. Conhecido por Try Catch em outras linguagens, o Try, Except e Finally no Python funciona da seguinte forma:\n",
    "\n",
    "> Tente fazer isso:  \n",
    "> > Código com erros em potencial\n",
    ">\n",
    "> Capture, se acontecer, a exceção X:  \n",
    "> > Código a ser executado ao invés de crashar o programa com aquele erro\n",
    "> \n",
    "> Capture, se acontecer, a exceção Y:  \n",
    "> > Código a ser executado ao invés de crashar o programa com esse erro\n",
    ">\n",
    "> Se não tiver acontecido nenhuma das exceções:  \n",
    "> > Código a ser executado caso não houve erros  \n",
    ">\n",
    "> Independente do erro ocorrido, ou, finalmente:  \n",
    "> > Código a ser executado após manipulação de erros"
   ]
  },
  {
   "cell_type": "markdown",
   "id": "15cbeed1-6d40-42fd-a2ae-c4b51987ec3a",
   "metadata": {},
   "source": [
    "**Exemplos de Aplicação**"
   ]
  },
  {
   "cell_type": "code",
   "execution_count": null,
   "id": "78b8913a-85f0-4f3c-b14d-6f4f39f4a8b6",
   "metadata": {},
   "outputs": [],
   "source": [
    "'# Testanto o Try Exception'\n",
    "\n",
    "x = 10\n",
    "y = [11, 12, 13]\n",
    "\n",
    "try:\n",
    "    concatenate = x + y\n",
    "except Exception as e:    # except Exception capta qualquer tipo de erro, eventualmente é melhor tratar um erro específico\n",
    "    print('Impossível efetuar essa soma')"
   ]
  },
  {
   "cell_type": "markdown",
   "id": "5bd6f5f4-6001-4e43-84e1-4a8aa830af70",
   "metadata": {},
   "source": [
    "1. Diferença de usabilidade entre o pdb debugger e o try except"
   ]
  },
  {
   "cell_type": "code",
   "execution_count": null,
   "id": "97af9e08-742c-4ffa-88af-ffa84488e637",
   "metadata": {},
   "outputs": [],
   "source": [
    "import pdb\n",
    "'# Um erro básico em alguns programas é o TypeError, que acontece quando uma variável de um tipo, recebe outro tipo incompatível'\n",
    "'# Se tentar captar uma string em uma variável inteira ocorre um erro: '\n",
    "\n",
    "num = input('Informe uma string')\n",
    "print('-'*30)\n",
    "print(f'{\"PDB Debugger iniciado\":^30}')\n",
    "print('-'*30)\n",
    "print('Após o teste de conversão, digitar a letra c')\n",
    "print('Verifique o erro: num = int(num)')\n",
    "pdb.set_trace()\n",
    "print('-'*30, end='\\n\\n\\n')\n",
    "\n",
    "print('-'*30)\n",
    "print(f'{\"Try Exception\":^30}')\n",
    "print('-'*30)\n",
    "\n",
    "try:\n",
    "    num = int(input('Informe uma string: '))\n",
    "except ValueError as e:\n",
    "    print('Você não digitou uma string')\n",
    "    print(f'Erro: {e}\\n')\n",
    "else:\n",
    "    print('Tudo certo com o código')\n",
    "finally:\n",
    "    print(f'{\"Finally\":^30}')\n",
    "    print('-'*30)"
   ]
  },
  {
   "cell_type": "markdown",
   "id": "e36664b4",
   "metadata": {},
   "source": [
    "*Obs: para melhor entendimento, a biblioteca pdb apenas funciona para o programador testar o código, enquanto o try exception será útil para proteção do código, de fomra que não dependa do programador fazer algo para que a estrutura funcione.*"
   ]
  },
  {
   "cell_type": "markdown",
   "id": "f3a0d060",
   "metadata": {},
   "source": [
    "2. Palavras reservadas"
   ]
  },
  {
   "cell_type": "code",
   "execution_count": 8,
   "id": "65fd8849",
   "metadata": {},
   "outputs": [
    {
     "name": "stdout",
     "output_type": "stream",
     "text": [
      "AssertionError invocado com Assert\n",
      "BaseException invocado com Raise\n"
     ]
    }
   ],
   "source": [
    "'# Para esse módulo de tratamento de erros, existem palavras reservadas que podem ser úteis:'\n",
    "'# A cláusula assert é utilizada para invocar uma excessão do tipo AssertionError, caso uma condição teste resulte em False'\n",
    "x = 1\n",
    "try:\n",
    "    assert x>10, 'AssertionError invocado com Assert'\n",
    "except AssertionError as e:\n",
    "    print(e)\n",
    "\n",
    "\n",
    "'# A cláusula raise, não requer nenhuma condição teste por que invoca um erro, que pode ser tipado, independente do que acontecer com o código'\n",
    "try:\n",
    "    raise BaseException('BaseException invocado com Raise') # É possível escolher o tipo de excessão que se irá invocar\n",
    "except BaseException as e:\n",
    "    print(e)"
   ]
  },
  {
   "cell_type": "markdown",
   "id": "ad37eb9d-eff8-4ae1-a273-b54a16451e89",
   "metadata": {},
   "source": [
    "## Logging"
   ]
  },
  {
   "cell_type": "markdown",
   "id": "4ffdbcf4-08cf-47ee-b992-f6d8a635b2dd",
   "metadata": {},
   "source": [
    "Um módulo para a compreensão dos possíveis erros no programa, de forma a facilitar a manutenção de códigos. O log funciona sinalizando em um arquivo possíveis erros ou avisos do programa, e possui um sistema de reconhecimento do nível do erro.\n",
    "\n",
    "> **Níveis do log:**  \n",
    "> 00 - *NotSet*  \n",
    "> 10 - *Debug*: testar o código  \n",
    "> 20 - *Info*: informações mais complexas  \n",
    "> 30 - *Warning*: alguma coisa que pode gerar um erro  \n",
    "> 40 - *Error*: algum erro  \n",
    "> 50 - *Critical*: um erro que possa quebrar o sistema\n",
    "\n",
    "Todos os tipos de logs vão ser salvos no arquivo de forma bruta, sendo possível fazer a formatação dos dados. Disponível em: https://docs.python.org/3/library/logging.html"
   ]
  },
  {
   "cell_type": "markdown",
   "id": "54fa3a1b-9abb-410e-9655-b98bc52d4cbf",
   "metadata": {},
   "source": [
    "**Exemplos de aplicação**"
   ]
  },
  {
   "cell_type": "code",
   "execution_count": 1,
   "id": "f43b8c92-0e10-4380-a341-e9b080604e72",
   "metadata": {},
   "outputs": [],
   "source": [
    "import logging\n",
    "\n",
    "# Formatador do log\n",
    "LOG_FORMAT = \"%(levelname)s %(asctime)s %(message)s\"\n",
    "\n",
    "# Criação do arquivo de logs, para entendimento de erros no programa\n",
    "logging.basicConfig(filename='app.log', level=logging.DEBUG, filemode=\"w\", format=LOG_FORMAT)    \n",
    "\n",
    "# filename = Nome do arquivo do log\n",
    "# level = Definição do nível do log\n",
    "# filemode = Modo sinalização do log (escrever abaixo, sobrescrever, etc.)\n",
    "# format = Formatação de dados\n",
    "\n",
    "log = logging.getLogger()\n",
    "\n",
    "log.debug('Teste')\n",
    "log.info('Informacao')\n",
    "log.warning('Aviso')\n",
    "log.error('Erro')\n",
    "log.critical('Crtico')"
   ]
  }
 ],
 "metadata": {
  "kernelspec": {
   "display_name": "Python 3 (ipykernel)",
   "language": "python",
   "name": "python3"
  },
  "language_info": {
   "codemirror_mode": {
    "name": "ipython",
    "version": 3
   },
   "file_extension": ".py",
   "mimetype": "text/x-python",
   "name": "python",
   "nbconvert_exporter": "python",
   "pygments_lexer": "ipython3",
   "version": "3.12.3"
  }
 },
 "nbformat": 4,
 "nbformat_minor": 5
}
