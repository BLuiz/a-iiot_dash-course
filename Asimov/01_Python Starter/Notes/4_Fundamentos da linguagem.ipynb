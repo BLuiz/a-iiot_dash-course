{
 "cells": [
  {
   "cell_type": "markdown",
   "id": "75366551-5f9f-4208-94ba-cc3850eefd2d",
   "metadata": {
    "jp-MarkdownHeadingCollapsed": true
   },
   "source": [
    "## Primeiros passos com Jupyter Lab"
   ]
  },
  {
   "cell_type": "markdown",
   "id": "99ca6c8d-cba3-44d9-86f8-04f630066162",
   "metadata": {},
   "source": [
    "---"
   ]
  },
  {
   "cell_type": "markdown",
   "id": "7d651aad-ac7b-4169-b6f1-8987d1eac0a2",
   "metadata": {},
   "source": [
    "**Markdown**  \n",
    "\n",
    "*Para verificar o funcionamento é possível trocar as células de raw para markdown*"
   ]
  },
  {
   "cell_type": "raw",
   "id": "0c999d86-8d8a-41de-adfe-e63dcf4b30a0",
   "metadata": {},
   "source": [
    "Títulos: Após forquilha (# - ######)  \n",
    "# Palavra  \n",
    "## Palavra  \n",
    "### Palavra  \n",
    "#### Palavra  \n",
    "##### Palavra  \n",
    "###### Palavra "
   ]
  },
  {
   "cell_type": "raw",
   "id": "e9f9fe2f-eb96-4fd1-82f7-2cb615891fb8",
   "metadata": {},
   "source": [
    "Cabeçalho: Acima de igual (=)  \n",
    "Palavra  \n",
    "="
   ]
  },
  {
   "cell_type": "raw",
   "id": "6d4e7ab6-9f49-4600-9bd8-1c3041aef7ac",
   "metadata": {},
   "source": [
    "Negrito: Entre duplo asterisco (**)  \n",
    "**Palavra**  "
   ]
  },
  {
   "cell_type": "raw",
   "id": "7692684c-907d-418b-b314-8891cc57b6b4",
   "metadata": {},
   "source": [
    "Itálico: Entre asterisco (*)  \n",
    "*Palavra*  "
   ]
  },
  {
   "cell_type": "raw",
   "id": "62aa6ddc-c26f-4250-925d-10ece040c89b",
   "metadata": {},
   "source": [
    "BlackQuote: Após maior (>)\n",
    "> ### Palavra  \n",
    "> Palavra  \n",
    ">> ***SubPalavras***  "
   ]
  },
  {
   "cell_type": "raw",
   "id": "f24058b2-1e66-442b-aaaa-9cfd788f92f1",
   "metadata": {},
   "source": [
    "Tópicos: Após hífen (-)  \n",
    "- Palavra  \n",
    "    - Subpalavra  \n",
    "        - SubSubpalavra  "
   ]
  },
  {
   "cell_type": "raw",
   "id": "7afdb02f-a3aa-439c-8657-b256c3699adf",
   "metadata": {},
   "source": [
    "Lista: Após número seguido de ponto final (n.)  \n",
    "1. Palavra  \n",
    "    1. SubPalavra  "
   ]
  },
  {
   "cell_type": "raw",
   "id": "8c649b97-bdd4-49a6-8b2c-4ec5903c6903",
   "metadata": {},
   "source": [
    "Links: Entre colchete ([])  \n",
    "[Link]  "
   ]
  },
  {
   "cell_type": "raw",
   "id": "37323298-f189-4539-81d1-1f254dab5a17",
   "metadata": {},
   "source": [
    "Imagens: Entre colchete Após exclamação (![])  \n",
    "![Caminho]  "
   ]
  },
  {
   "cell_type": "code",
   "execution_count": null,
   "id": "a1380837-312f-4703-bc96-80e2b106ea16",
   "metadata": {},
   "outputs": [],
   "source": [
    "Código: Entre crase (`)  \n",
    "` Palavra `  "
   ]
  },
  {
   "cell_type": "markdown",
   "id": "3ee9accf-cc79-4640-84e3-695735eae669",
   "metadata": {},
   "source": [
    "---"
   ]
  },
  {
   "cell_type": "markdown",
   "id": "33c3e943-eb8a-4be3-8649-c8fe287b2f19",
   "metadata": {
    "jp-MarkdownHeadingCollapsed": true
   },
   "source": [
    "## Números"
   ]
  },
  {
   "cell_type": "markdown",
   "id": "7db87104-9b68-408a-a804-eb297d14df05",
   "metadata": {},
   "source": [
    "---"
   ]
  },
  {
   "cell_type": "markdown",
   "id": "444605f7-f18e-4824-bc91-4dc2a02466e9",
   "metadata": {},
   "source": [
    "Os tipos números em python incluem: Inteiros (int) e Racionais (float)\n"
   ]
  },
  {
   "cell_type": "markdown",
   "id": "fbe1f71d-0bc6-4699-b04a-b513cbccd198",
   "metadata": {},
   "source": [
    "**Exemplo Aplicação:**"
   ]
  },
  {
   "cell_type": "code",
   "execution_count": null,
   "id": "7d1e025d-7415-4e43-93b7-e49b9da44589",
   "metadata": {},
   "outputs": [],
   "source": [
    "'# Defnição de um inteiro vazio'\n",
    "var = int()\n",
    "\n",
    "'# Definição de um racional vazio'\n",
    "var = float()"
   ]
  },
  {
   "cell_type": "markdown",
   "id": "197c54e9-e94d-4d1b-8f82-428a0b602866",
   "metadata": {},
   "source": [
    "1. Manipulando numeros"
   ]
  },
  {
   "cell_type": "code",
   "execution_count": null,
   "id": "a5044fda-b669-4afb-afe5-cdd5fd8ce753",
   "metadata": {},
   "outputs": [],
   "source": [
    "'# Adição'\n",
    "4 + 2"
   ]
  },
  {
   "cell_type": "code",
   "execution_count": null,
   "id": "feb77dec-3630-4daa-bf01-c9f6e7cb5c6b",
   "metadata": {},
   "outputs": [],
   "source": [
    "'# Subtração'\n",
    "4 - 2"
   ]
  },
  {
   "cell_type": "code",
   "execution_count": null,
   "id": "848f2393-e4e2-4448-8981-1091c486762f",
   "metadata": {},
   "outputs": [],
   "source": [
    "'# Multiplicação'\n",
    "4 * 2"
   ]
  },
  {
   "cell_type": "code",
   "execution_count": null,
   "id": "ec1cb9ff-c347-4d34-b245-cff467d836ff",
   "metadata": {},
   "outputs": [],
   "source": [
    "'# Divisão'\n",
    "4 / 2"
   ]
  },
  {
   "cell_type": "code",
   "execution_count": null,
   "id": "ac644891-74c4-4f1e-90c0-0fdaf17168e3",
   "metadata": {},
   "outputs": [],
   "source": [
    "'# Divisão inteira (ignora o Resto)'\n",
    "5 // 2"
   ]
  },
  {
   "cell_type": "code",
   "execution_count": null,
   "id": "91bd185f-0b72-4e8a-9f4c-bec73f03ed17",
   "metadata": {},
   "outputs": [],
   "source": [
    "'# Resto da divisão'\n",
    "5 % 2"
   ]
  },
  {
   "cell_type": "code",
   "execution_count": null,
   "id": "b43f39e8-5709-4ddb-ab9b-ab2660a9ce4c",
   "metadata": {},
   "outputs": [],
   "source": [
    "'# Exponenciação'\n",
    "4 ** 2"
   ]
  },
  {
   "cell_type": "code",
   "execution_count": null,
   "id": "b6c7c095-b53a-4026-86bf-c001b7278243",
   "metadata": {},
   "outputs": [],
   "source": [
    "'# Radiciação'\n",
    "4 ** (1/2)"
   ]
  },
  {
   "cell_type": "markdown",
   "id": "fc073110-af5e-4113-a5fd-f6b112518043",
   "metadata": {},
   "source": [
    "---"
   ]
  },
  {
   "cell_type": "markdown",
   "id": "f68ad5d7-078b-4587-801a-7c226fb8cafa",
   "metadata": {
    "jp-MarkdownHeadingCollapsed": true
   },
   "source": [
    "## Variáveis"
   ]
  },
  {
   "cell_type": "markdown",
   "id": "ef1f3a48-9ab4-4286-bbaf-f684ef25fcb5",
   "metadata": {},
   "source": [
    "---"
   ]
  },
  {
   "cell_type": "markdown",
   "id": "608c67a5-aaa8-4896-9deb-524052d2356b",
   "metadata": {},
   "source": [
    "*Espaços alocados na memória do computador que servem para armazenar dados*"
   ]
  },
  {
   "cell_type": "markdown",
   "id": "09424c49-f1bf-4e02-94ba-cfbc77b80c99",
   "metadata": {},
   "source": [
    "As chamadas variáveis, contêm um dado específico, situado em um endereço específico, de forma que recebem nomes para econtrar esses endereços.\n",
    "Contudo existem algumas restrições quanto a nomenclatura de variáveis:\n",
    "- Não podem iniciar com números;\n",
    "- Não podem conter espaços em branco;\n",
    "- Não podem conter caracteres especiais;\n",
    "- Não podem ser equivalentes a palavras reservadas (métodos)."
   ]
  },
  {
   "cell_type": "markdown",
   "id": "9867a6cb-f55f-475b-b740-8dadb98a7ae0",
   "metadata": {},
   "source": [
    "Além disso, existem as boas práticas de programação, que seria uma recomendação de que os códigos tenham um padrão, no caso do Python, recomenda-se a criação de variáveis em minúsculo."
   ]
  },
  {
   "cell_type": "markdown",
   "id": "87ce6f4a-9155-46a8-8893-7746ddbe533c",
   "metadata": {},
   "source": [
    "**Exemplo de Aplicação:**"
   ]
  },
  {
   "cell_type": "code",
   "execution_count": null,
   "id": "969011e1-3b4f-4231-a815-79a53d279489",
   "metadata": {},
   "outputs": [],
   "source": [
    "'# Definição de uma variável numérica'\n",
    "var1 = 20\n",
    "\n",
    "'# Atribuição de uma variável à outra'\n",
    "var2 = var1"
   ]
  },
  {
   "cell_type": "markdown",
   "id": "ce5ebbe9-6276-444e-a07b-63acefdac37d",
   "metadata": {},
   "source": [
    "Acúmulos de variável tornam possíveis a atualização do valor atual de variável operado com outro valor:"
   ]
  },
  {
   "cell_type": "code",
   "execution_count": null,
   "id": "c9f6b661-4c90-446c-91e2-926fafa773df",
   "metadata": {},
   "outputs": [],
   "source": [
    "var3 = 10\n",
    "\n",
    "'# Processo de acumular 5 na própria variável'\n",
    "var3 = var3 + 5  # forma completa\n",
    "var3 += 5        # forma simplificada\n",
    "\n",
    "print(var3)"
   ]
  },
  {
   "cell_type": "markdown",
   "id": "62b17630-ae34-4d3e-a800-81a3c10bc2bd",
   "metadata": {},
   "source": [
    "*Obs: Esse tipo de atribuição, atualizando seu próprio valor também funciona com outras operações além da soma.*"
   ]
  },
  {
   "cell_type": "markdown",
   "id": "34f5d16e-f04d-4c74-ac8e-b071ed9084bd",
   "metadata": {},
   "source": [
    "---"
   ]
  },
  {
   "cell_type": "markdown",
   "id": "3688afc1-3b56-4bea-9fb0-9626a1c92c66",
   "metadata": {
    "jp-MarkdownHeadingCollapsed": true
   },
   "source": [
    "## Strings e Indexação"
   ]
  },
  {
   "cell_type": "markdown",
   "id": "dce4dabb-9221-4dc8-8f67-f757d9fe660c",
   "metadata": {},
   "source": [
    "---"
   ]
  },
  {
   "cell_type": "markdown",
   "id": "fc56f74e-05df-4004-bd61-53f6ad8b3157",
   "metadata": {},
   "source": [
    "O tipo de textos em python incluem: Cadeia de caracteres (string). É um tipo de variável iterável, ou seja, vários elementos sequenciais dentro da variável.  \n",
    "Para a exibição de strings (ou uma variável) é possível utilizar o método print().  \n",
    "> Propriedade das strings: imutabilidade, não sendo possível atribuir um valor a um recorte específico.  "
   ]
  },
  {
   "cell_type": "markdown",
   "id": "329300d0-0f17-4110-8c3e-38cfca1b52d6",
   "metadata": {},
   "source": [
    "**Exemplos de Aplicação:**"
   ]
  },
  {
   "cell_type": "code",
   "execution_count": null,
   "id": "ecf220d5-8717-4ec0-903d-68dba56509b5",
   "metadata": {},
   "outputs": [],
   "source": [
    "'# Definição de uma string'\n",
    "var1 = ''\n",
    "var1 = \"\"\n",
    "var1 = str()\n",
    "\n",
    "'# Atribuindo valores à string em sua criação'\n",
    "var1 = 'isso é uma string'\n",
    "var1 = \"isso também é uma string\"\n",
    "\n",
    "'# Exibição de uma string'\n",
    "print('exibindo a var1:', var1)"
   ]
  },
  {
   "cell_type": "markdown",
   "id": "a0edc69e-bf8e-4f5b-ac62-a76f5c344ee0",
   "metadata": {},
   "source": [
    "Manipulando strings: operações com strings"
   ]
  },
  {
   "cell_type": "code",
   "execution_count": null,
   "id": "def3d1a3-25b3-4d18-b107-7e4f902386b6",
   "metadata": {},
   "outputs": [],
   "source": [
    "'# Concatenando (Somando)'\n",
    "var1 = 'Hello, '\n",
    "var2 = 'World!'\n",
    "var3 = var1+var2\n",
    "print('Concatenadas:', var3)\n",
    "\n",
    "'# Multiplicando'\n",
    "var3 = 'a'*10\n",
    "print('Grito:', var3)"
   ]
  },
  {
   "cell_type": "markdown",
   "id": "8547ee24-263e-474a-914b-55be5b8cd242",
   "metadata": {},
   "source": [
    "Manipulando strings: recortar strings"
   ]
  },
  {
   "cell_type": "code",
   "execution_count": null,
   "id": "595d5f1c-ff03-4297-beec-675046952b0d",
   "metadata": {},
   "outputs": [],
   "source": [
    "'# Recortando'\n",
    "var3 = 'Hello, World!'\n",
    "var4 = var3[:]        # string do início ao fim\n",
    "# var4 = var3[1:4]    # recorte do index 1 ao 4\n",
    "# var4 = var3[-4]     # recorte do index 4 de trás para frente\n",
    "# var4 = var3[:-4]    # recorte do index 0 ao -4\n",
    "# var4 = var3[::-2]   # recorte de 2 em 2, de tras para frente\n",
    "# var4[2] = ' '       # Incorreto (imutabilidade)\n",
    "# var4[-6:] = 'guys'  # Incorreto (imutabilidade)\n",
    "print('Variável original:', var3)\n",
    "print('Variável recortada:', var4)"
   ]
  },
  {
   "cell_type": "markdown",
   "id": "5006f325-921f-4d5b-9a99-5753e4786671",
   "metadata": {},
   "source": [
    "---"
   ]
  },
  {
   "cell_type": "markdown",
   "id": "3e3f2881-231b-411a-869b-4c76f4c8c1d1",
   "metadata": {
    "jp-MarkdownHeadingCollapsed": true
   },
   "source": [
    "## Mais sobre Strings e Métodos embutidos"
   ]
  },
  {
   "cell_type": "markdown",
   "id": "6b1718bd-f500-4727-929c-c8062a497d73",
   "metadata": {},
   "source": [
    "---"
   ]
  },
  {
   "cell_type": "markdown",
   "id": "b95dfd9f-0596-4808-9a7b-f6d1c03d99a1",
   "metadata": {},
   "source": [
    "Métodos são as funcionalidades disponibilizadas nativamente pelo python, que facilitam a execução de algumas ações. Tais ações podem ser uma função, ou um método embutido."
   ]
  },
  {
   "cell_type": "markdown",
   "id": "3943732f-be79-43a8-a881-d3c12e4756fb",
   "metadata": {},
   "source": [
    "**Exemplo de Aplicação:**"
   ]
  },
  {
   "cell_type": "markdown",
   "id": "59b5e3ee-78b6-49c3-abf0-72a7bb1550ad",
   "metadata": {},
   "source": [
    "1. Função: descobrir o tipo de dado armazenado em uma variável:"
   ]
  },
  {
   "cell_type": "code",
   "execution_count": null,
   "id": "88fcb7e2-74a7-4b15-9d09-5298671b2b41",
   "metadata": {},
   "outputs": [],
   "source": [
    "tipo = type('a')\n",
    "tipo = type(7.4)\n",
    "\n",
    "print(tipo)"
   ]
  },
  {
   "cell_type": "markdown",
   "id": "68a0f410-9910-42c1-8873-3ca1324a81ad",
   "metadata": {},
   "source": [
    "2. Função: descobrir os métodos disponíveis para um objeto:"
   ]
  },
  {
   "cell_type": "code",
   "execution_count": null,
   "id": "9e62b99d-1c98-4e4d-8d34-29fbdee47c05",
   "metadata": {},
   "outputs": [],
   "source": [
    "dir(str())  # Executar comando para ver métodos"
   ]
  },
  {
   "cell_type": "markdown",
   "id": "8b5ac788-64eb-40c6-9ccf-34abb0a44823",
   "metadata": {},
   "source": [
    "3. Função: descobrir quantidade de elementos (caracteres no caso das strings)"
   ]
  },
  {
   "cell_type": "code",
   "execution_count": null,
   "id": "4d4157fd-9e8f-4566-938e-6531a6d7e4ba",
   "metadata": {},
   "outputs": [],
   "source": [
    "var1 = 'essa string contem 32 caracteres'\n",
    "print('Tamanho da string: ', len(var1))"
   ]
  },
  {
   "cell_type": "markdown",
   "id": "49fd4a70-f0d4-4303-b3a4-78f9e3917e49",
   "metadata": {},
   "source": [
    "4. Método: formatar a saída de dados"
   ]
  },
  {
   "cell_type": "code",
   "execution_count": null,
   "id": "8b447279-06b9-4e25-80ad-98d70845948b",
   "metadata": {},
   "outputs": [],
   "source": [
    "var2 = '123'\n",
    "print('Mostrar conteúdo da variável: {v}'.format(v=var))\n",
    "print(f'Mostrar conteúdo da variável: {var}')"
   ]
  },
  {
   "cell_type": "markdown",
   "id": "de4379e6-3716-44fc-b00d-3c5fc5709e2c",
   "metadata": {},
   "source": [
    "---"
   ]
  },
  {
   "cell_type": "markdown",
   "id": "ed8e3f5d",
   "metadata": {
    "jp-MarkdownHeadingCollapsed": true
   },
   "source": [
    "## Listas"
   ]
  },
  {
   "cell_type": "markdown",
   "id": "7b39fe45",
   "metadata": {},
   "source": [
    "---"
   ]
  },
  {
   "cell_type": "markdown",
   "id": "b26f91af",
   "metadata": {},
   "source": [
    "Outro tipo de variável iterável, as listas podem conter qualquer tipo de dados separados por vírgulas e são denotadas entre colchetes [].  \n",
    "> Propriedades: heterogeneidade e mutabilidade. Podem receber qualquer tipo de dado e podem ter valores modificadas.  "
   ]
  },
  {
   "cell_type": "markdown",
   "id": "17b58f9c-a6ee-4640-9b7d-fb9f332f4025",
   "metadata": {},
   "source": [
    "As listas na programação funcionam como as listas reais.  \n",
    "Compras:\n",
    "- Bananas\n",
    "- Ovos\n",
    "- Pães"
   ]
  },
  {
   "cell_type": "markdown",
   "id": "9d4870a5",
   "metadata": {},
   "source": [
    "**Exemplos de Aplicação:**"
   ]
  },
  {
   "cell_type": "code",
   "execution_count": null,
   "id": "914810c7-d76d-4a0f-a3cb-1ef4d082cbfa",
   "metadata": {},
   "outputs": [],
   "source": [
    "'# Definição de uma lista'\n",
    "var1 = []\n",
    "var1 = list()\n",
    "\n",
    "'# Atribuindo valores à lista em sua criação'\n",
    "var1 = ['Bananas', 'Ovos', 'Pães']\n",
    "var1 = [310, 3, 2, 1]\n",
    "\n",
    "'# Atribuindo (sobrescrevevendo) valor à uma posição específica da lista'\n",
    "var1[0] = 4    # inserve o valor 4 no index 0 (primeiro item)"
   ]
  },
  {
   "cell_type": "markdown",
   "id": "a4606820-efd5-4180-92aa-fd61a8ce56ef",
   "metadata": {},
   "source": [
    "1. Manipulando listas:"
   ]
  },
  {
   "cell_type": "code",
   "execution_count": null,
   "id": "792f13e6-1e9b-4964-8f90-4c04be1673ec",
   "metadata": {},
   "outputs": [],
   "source": [
    "var2 = [14, 3, [42, 53,]]\n",
    "'# Concatenando listas'\n",
    "var3 = var2 + [99]\n",
    "\n",
    "'# Multiplicando listas'\n",
    "var3 = var2 * 2\n",
    "\n",
    "'# Recortando listas'\n",
    "var3 = var3[3]\n",
    "\n",
    "print(var3)"
   ]
  },
  {
   "cell_type": "markdown",
   "id": "233841ef-92ab-4030-b17b-c023438869f1",
   "metadata": {},
   "source": [
    "*Obs: esse tipo de manipulação funciona da mesma forma que a de strings*"
   ]
  },
  {
   "cell_type": "markdown",
   "id": "f8cc6ab6-ad04-47d4-ba65-77d385f5070f",
   "metadata": {},
   "source": [
    "2. Métodos das listas"
   ]
  },
  {
   "cell_type": "code",
   "execution_count": null,
   "id": "ac4b89e7-73ee-43ce-81d1-d80eb4b91f42",
   "metadata": {},
   "outputs": [],
   "source": [
    "dir(list())  # Executar comando para ver métodos"
   ]
  },
  {
   "cell_type": "markdown",
   "id": "78390925-6d1c-4fe3-a072-0aa627df4195",
   "metadata": {},
   "source": [
    "*Obs: notar a utilidade do método .copy(), uma vez que objetos iteráveis apontam para uma seção na memória a atribuição de uma variável dicionário à outra irá vinculá-las, de forma que as alterações se apliquem em ambas, ou seja, no espaço alocado na memória. Portanto se usa o método .copy() para evitar essa vinculação na memória.*"
   ]
  },
  {
   "cell_type": "markdown",
   "id": "8259d7b5-4129-48eb-843c-3d4b0bb6391a",
   "metadata": {},
   "source": [
    "3. Matrizes"
   ]
  },
  {
   "cell_type": "code",
   "execution_count": null,
   "id": "f6b972ba-0e4d-49d3-834c-b6574470afad",
   "metadata": {},
   "outputs": [],
   "source": [
    "lista1 = [1, 2, 3]\n",
    "lista2 = [4, 5, 6]\n",
    "lista3 = [7, 8, 9]\n",
    "matriz1 = [lista1, lista2, lista3]\n",
    "print(matriz1)"
   ]
  },
  {
   "cell_type": "markdown",
   "id": "7fe36fbf-e3d5-423a-8216-417d3cbed267",
   "metadata": {},
   "source": [
    "*Obs: por matriz ser uma lista dentro de outra, se aplicam os mesmos métodos de manipulação*"
   ]
  },
  {
   "cell_type": "markdown",
   "id": "538dbcae-58db-49b4-a8b6-6ad8ab4036d2",
   "metadata": {},
   "source": [
    "---"
   ]
  },
  {
   "cell_type": "markdown",
   "id": "4ff90f34-3e17-49e9-9d70-630417b551c0",
   "metadata": {
    "jp-MarkdownHeadingCollapsed": true
   },
   "source": [
    "## Dicionários"
   ]
  },
  {
   "cell_type": "markdown",
   "id": "113c4b6f-db67-4f56-88fe-6092c3a71831",
   "metadata": {},
   "source": [
    "---"
   ]
  },
  {
   "cell_type": "markdown",
   "id": "440f2161-5fc6-4fa2-aa3d-567ff99ac08f",
   "metadata": {},
   "source": [
    "Outro tipo de variável iterável, os dicionários contêm pares de dados, sendo eles a chave e seu valor respectivo. Os pares nos dicionários são separados por vírgulas e denotadas entre chaves {}.  \n",
    "> Propriedades: heterogeneidade e mutabilidade. Podem receber qualquer tipo de dado e podem ter valores modificadas.\n",
    "\n",
    "Os elementos de um dicionário:\n",
    "- Chave: elemento à esquerda dos dois pontos, que serve para nomear, endereçar, o valor. Limitados aos tipos de varáveis: inteiro, float e string\n",
    "- Valor: elemento à direita dos dois pontos, que é um dado armazenado. Podem ser de qualquer tipo de variáveis"
   ]
  },
  {
   "cell_type": "markdown",
   "id": "a1513852-2f57-4eca-ae44-41d5264f8df1",
   "metadata": {},
   "source": [
    "**Exemplos de Aplicação:**"
   ]
  },
  {
   "cell_type": "code",
   "execution_count": null,
   "id": "149b1f25-33cd-4e60-89d1-a9126dc90402",
   "metadata": {},
   "outputs": [],
   "source": [
    "'# Definição de um dicionário'\n",
    "var1 = {}\n",
    "var1 = dict()\n",
    "\n",
    "'# Atribuindo valores ao dicionário em sua criação'\n",
    "var1 = {1: 'Bananas', 2: 'Ovos', 3: 'Pães'}\n",
    "var1 = {'Estagiários': ['Rafael', 'Isabela',  'Vinicius', 'Luiz'], 'Idades dos Estagiários': [24,22,23,20],}\n",
    "\n",
    "'# Atribuindo valor à uma posição específica da lista'\n",
    "var1['Funções'] = ['Dev', 'Dev', 'Dev', 'Dev']   # insere a lista no valor de chave correspondente a 'Funções'"
   ]
  },
  {
   "cell_type": "markdown",
   "id": "c55263fe-a685-4605-92d7-d9252aec7643",
   "metadata": {},
   "source": [
    "1. Métodos dos dicionários"
   ]
  },
  {
   "cell_type": "code",
   "execution_count": null,
   "id": "23a2cc94-b8e1-4159-bf77-204e5f72aaad",
   "metadata": {},
   "outputs": [],
   "source": [
    "dir(dict())  # Executar comando para ver métodos"
   ]
  },
  {
   "cell_type": "markdown",
   "id": "b6b9dab0-da9a-4710-929d-bfae95dd0b59",
   "metadata": {},
   "source": [
    "*Obs: notar a utilidade do método .copy(), uma vez que objetos iteráveis apontam para uma seção na memória a atribuição de uma variável dicionário à outra irá vinculá-las, de forma que as alterações se apliquem em ambas, ou seja, no espaço alocado na memória. Portanto se usa o método .copy() para evitar essa vinculação na memória.*"
   ]
  },
  {
   "cell_type": "markdown",
   "id": "d112a655-6b99-4d1a-ba05-af19d08edf58",
   "metadata": {},
   "source": [
    "2. Acessando elementos"
   ]
  },
  {
   "cell_type": "code",
   "execution_count": null,
   "id": "e0239117-40eb-45a5-b884-1ed7a88f7e91",
   "metadata": {},
   "outputs": [],
   "source": [
    "var2 = {\n",
    "    'nome': 'Paulo',\n",
    "    'idade': 54,\n",
    "    'qtd_filhos': 3,\n",
    "    'cidade': 'São Paulo',\n",
    "    'salario': 4350,\n",
    "}\n",
    "\n",
    "'# Captar valores'\n",
    "var3 = var2.values()\n",
    "'# Captar Chaves'\n",
    "var3 = var2.keys()\n",
    "'# Captar Par'\n",
    "var3 = var2.items()\n",
    "\n",
    "print(var3)"
   ]
  },
  {
   "cell_type": "markdown",
   "id": "c282880a-6cdd-4720-87c2-a507b914432a",
   "metadata": {},
   "source": [
    "---"
   ]
  },
  {
   "cell_type": "markdown",
   "id": "f850fd09-c148-46bb-8706-e16099d77c12",
   "metadata": {
    "jp-MarkdownHeadingCollapsed": true
   },
   "source": [
    "## Tuplas"
   ]
  },
  {
   "cell_type": "markdown",
   "id": "e8d827ed-3c25-4246-abbc-33e1baebc250",
   "metadata": {},
   "source": [
    "---"
   ]
  },
  {
   "cell_type": "markdown",
   "id": "57fdc5c2-6aca-4f0b-80c4-f7d85e6b3379",
   "metadata": {},
   "source": [
    "Outro tipo de variável iterável, as tuplas funcionam de forma muito parecida com as listas. Os dados são separados por vírgulas e denotadas entre parênteses ().  \n",
    "> Propriedades: heterogeneidade e imutabilidade. Podem receber qualquer tipo de dado, mas não pode ter valores modificados."
   ]
  },
  {
   "cell_type": "markdown",
   "id": "3fb33e7d-5e37-4ff0-b12c-25e04fa3a5c6",
   "metadata": {},
   "source": [
    "**Exemplos de Aplicação**"
   ]
  },
  {
   "cell_type": "code",
   "execution_count": null,
   "id": "233c10df-312f-467b-a61a-e4b0b4939921",
   "metadata": {},
   "outputs": [],
   "source": [
    "'# Definição de uma tupla'\n",
    "var1 = ()\n",
    "var1 = tuple()\n",
    "\n",
    "'# Atribuindo valores à lista em sua criação'\n",
    "var1 = ('Bananas', 'Ovos', 'Pães')\n",
    "var1 = (310, 3, [2, 1])\n",
    "\n",
    "print(var1)\n",
    "\n",
    "'# Desempacotamento de dados'\n",
    "nome, idade = ('Claudio', 25)\n",
    "print(f'{nome} tem {idade} anos.')"
   ]
  },
  {
   "cell_type": "markdown",
   "id": "e037a2bd-a221-4158-bb9c-85328d741b76",
   "metadata": {},
   "source": [
    "*Obs: devido a imutabilidade não é possível atribuir um valor a um item específico após a criação da tupla*"
   ]
  },
  {
   "cell_type": "markdown",
   "id": "c5fb3d84-3a33-49c0-a734-7724269d1624",
   "metadata": {},
   "source": [
    "1. Manipulando tuplas"
   ]
  },
  {
   "cell_type": "code",
   "execution_count": null,
   "id": "07949178-d23d-4cfd-b5b3-208cb251b7a6",
   "metadata": {},
   "outputs": [],
   "source": [
    "var2 = (14, 3, [42, 53,])\n",
    "'# Concatenando tuplas'\n",
    "var3 = var2 + (1,3)\n",
    "\n",
    "'# Multiplicando tuplas'\n",
    "var3 = var2 * 2\n",
    "\n",
    "'# Recortando tuplas'\n",
    "var3 = var3[5]\n",
    "\n",
    "print(var3)"
   ]
  },
  {
   "cell_type": "markdown",
   "id": "4dcc8549-439f-4409-af64-eafb8763ae2b",
   "metadata": {},
   "source": [
    "2. Métodos das Tuplas"
   ]
  },
  {
   "cell_type": "code",
   "execution_count": null,
   "id": "24c0db8a-8419-40bd-94c9-88a315a9476b",
   "metadata": {},
   "outputs": [],
   "source": [
    "dir(tuple())  # Executar comando para ver métodos"
   ]
  },
  {
   "cell_type": "markdown",
   "id": "e49ca5b2-47f7-4065-8aed-e985c1166d82",
   "metadata": {},
   "source": [
    "---"
   ]
  },
  {
   "cell_type": "markdown",
   "id": "e49874b8-79e6-416a-95c4-3ad870b482c4",
   "metadata": {
    "jp-MarkdownHeadingCollapsed": true
   },
   "source": [
    "## Input, Sets e Booleanos"
   ]
  },
  {
   "cell_type": "markdown",
   "id": "509bce8b-2d54-44db-b320-9e00f4bead9f",
   "metadata": {},
   "source": [
    "---"
   ]
  },
  {
   "cell_type": "markdown",
   "id": "bbdbd386-3f06-4263-9e15-c39f60889c29",
   "metadata": {},
   "source": [
    "**Inputs**  \n",
    "\n",
    "Elemento fundamental da entrada de dados, opera captando dados a serem informados pelo usuário.  \n",
    "Utilizada na programação mais básica, o input() é uma função que retorna uma string correspondente aos dados digitados pelo usuário. Por ser uma função que retorna os dados, é necessário salvá-los em uma variável para manipulação posteriormente.\n",
    "\n",
    "Modificadores (conversão de tipo):\n",
    "- str()  \n",
    "- int()  \n",
    "- float()  \n",
    "- bool()  "
   ]
  },
  {
   "cell_type": "markdown",
   "id": "1bf9cf63-ce94-4d3d-a39e-8d7eef15aa5e",
   "metadata": {},
   "source": [
    "**Exemplos de Aplicação: input()**"
   ]
  },
  {
   "cell_type": "code",
   "execution_count": null,
   "id": "3eff4b8e-6bbe-4c9c-9d02-3a27b4716fdf",
   "metadata": {},
   "outputs": [],
   "source": [
    "'# Captando string'\n",
    "print('Texto:', str(input('Digite um texto: ')))\n",
    "\n",
    "'# Captando int'\n",
    "print('Inteiro:', int(input('Digite um número inteiro: ')))\n",
    "\n",
    "'# Captando float'\n",
    "print('Decimal:', float(input('Digite um número decimal: ')))\n",
    "\n",
    "'# Captando bool (True/False)'\n",
    "print('Booleano:', bool(input('Digite um booleano (0/Enter ou 1/' '): ')))"
   ]
  },
  {
   "cell_type": "markdown",
   "id": "a7f7857f-ce0e-4529-9518-34c16137390f",
   "metadata": {},
   "source": [
    "---"
   ]
  },
  {
   "cell_type": "markdown",
   "id": "cda21f66-6f9b-45fd-8d52-b99f5f6dff7d",
   "metadata": {},
   "source": [
    "**Sets**"
   ]
  },
  {
   "cell_type": "markdown",
   "id": "71aab4d1-59a2-4ba1-933a-5072330193e4",
   "metadata": {},
   "source": [
    "Outro tipo de variável iterável, os sets, ou conjuntos, têm seus dados separados por vírgulas e são denotadas entre chaves {}. Utilizado em aplicações matemáticas com os conjuntos numéricos.\n",
    "> Propriedades: heterogeneidade, mutabilidade, unicidade e aleatoriedade. Podem receber qualquer tipo de dado primitivo (bool, int, float, str), ter valores modificados, ter valores embaralhados e excluir réplicas de valores. "
   ]
  },
  {
   "cell_type": "markdown",
   "id": "6d8ccd29-80c0-4ebd-b1fe-cd9b40ef858e",
   "metadata": {},
   "source": [
    "**Exemplos de aplicação**"
   ]
  },
  {
   "cell_type": "code",
   "execution_count": null,
   "id": "81dbcabf-7c00-4939-be7c-09ac01b1f0e0",
   "metadata": {},
   "outputs": [],
   "source": [
    "'# Definição de um conjunto'\n",
    "var1 = set()\n",
    "\n",
    "'# Atribuindo valores ao conjunto em sua criação'\n",
    "var1 = {1.1, 'b', 5, 22, 3, True, 'b', 'z', 5, 3, 53.6, 87}\n",
    "\n",
    "print(var1)"
   ]
  },
  {
   "cell_type": "markdown",
   "id": "c435efec-1e53-4e92-b704-cb23fad1fb0c",
   "metadata": {},
   "source": [
    "*Obs: não é possível recortar os conjuntos*"
   ]
  },
  {
   "cell_type": "markdown",
   "id": "462cd924-86d9-48e0-9d2e-9dbbb8584e2c",
   "metadata": {},
   "source": [
    "1. Métodos dos conjuntos"
   ]
  },
  {
   "cell_type": "code",
   "execution_count": null,
   "id": "9e9fd299-9877-4f73-a47f-ab6d3a1dbe6b",
   "metadata": {},
   "outputs": [],
   "source": [
    "dir(set())  # Executar comando para ver métodos"
   ]
  },
  {
   "cell_type": "markdown",
   "id": "b497f6a1-4a44-49e8-8af8-342c9992a9dc",
   "metadata": {},
   "source": [
    "2. Manipulando conjuntos"
   ]
  },
  {
   "cell_type": "code",
   "execution_count": null,
   "id": "6b25032f-f843-44c4-bcf2-688475c52612",
   "metadata": {},
   "outputs": [],
   "source": [
    "e = 4\n",
    "A = {3, 1, 4, 6, 7, 10, 14}\n",
    "B = {2, 1, 6, 7, 9, 10, 12}\n",
    "\n",
    "'# Elemento e é pertence ao conjunto A:'\n",
    "ope = e in A\n",
    "print('e ∈ A = ', ope)\n",
    "\n",
    "'# Conjunto A é subconjunto do conjunto B:'\n",
    "ope = A <= B\n",
    "print('A ⊆ B = ', ope)\n",
    "\n",
    "'# Conjunto A é subconjunto próprio do conjunto B:'\n",
    "ope = A < B\n",
    "print('A ⊂ B = ', ope)\n",
    "\n",
    "'# Conjunto A união com conjunto B:'\n",
    "ope = A ^ B\n",
    "print('A ∪ B = ', ope)\n",
    "\n",
    "'# Conjunto A intersecção com conjunto B:'\n",
    "ope = A | B\n",
    "print('A ∩ B = ', ope)\n",
    "\n",
    "'# Conjunto A diferença de conjunto B:'\n",
    "ope = A - B\n",
    "print('A \\ B = ', ope)\n"
   ]
  },
  {
   "cell_type": "markdown",
   "id": "cf18ef54-1fb3-42bc-9fad-3775aca633cb",
   "metadata": {},
   "source": [
    "---"
   ]
  },
  {
   "cell_type": "markdown",
   "id": "48719a8a-1447-4a37-84e8-9f17b7b3d86c",
   "metadata": {},
   "source": [
    "**Booleanos**"
   ]
  },
  {
   "cell_type": "markdown",
   "id": "feffa70f-1877-4d03-be08-45ee5b22dcff",
   "metadata": {},
   "source": [
    "Uma tipagem de dados mais simples e geralmente utilizada para diferenciar algo verdadeiro de algo falso, o tipo booleano representa a maneira como a máquina interpreta as coisas, se algo está ligado é verdadeiro, se estiver desligado será falso.\n",
    "\n",
    "Possíveis valores:\n",
    "- False (ou valores nulos, seja 0 ou '')\n",
    "- True (ou qualquer outro valor não nulo)"
   ]
  },
  {
   "cell_type": "markdown",
   "id": "638d7cdf-0171-49d9-87bd-67a5e60145cb",
   "metadata": {},
   "source": [
    "**Exemplos de Aplicação**"
   ]
  },
  {
   "cell_type": "code",
   "execution_count": null,
   "id": "aeb67af7-eb99-4b98-93f5-7aac982b49e0",
   "metadata": {},
   "outputs": [],
   "source": [
    "'# Definição de variavel booleana False'\n",
    "var1 = False\n",
    "var1 = bool('')   # string vazia\n",
    "var1 = bool(0.0)  # int/float igual a 0\n",
    "\n",
    "'# Definição de variavel booleana True'\n",
    "var1 = True\n",
    "var1 = bool('a')  # qualquer string não vazia\n",
    "var1 = bool(1.1)  # qualquer int/float diferente de 0"
   ]
  },
  {
   "cell_type": "markdown",
   "id": "5a2ff1b6-097c-4253-9a4a-2eca2a618b8c",
   "metadata": {},
   "source": [
    "---"
   ]
  },
  {
   "cell_type": "markdown",
   "id": "d24de244-6e5e-48ed-8cc5-5320474e6a28",
   "metadata": {
    "jp-MarkdownHeadingCollapsed": true
   },
   "source": [
    "## Operadores de Comparação"
   ]
  },
  {
   "cell_type": "markdown",
   "id": "7513dc6b-0013-45a4-9b56-662ffb165030",
   "metadata": {},
   "source": [
    "---"
   ]
  },
  {
   "cell_type": "markdown",
   "id": "f6e8947c-ecaa-4579-8fc5-912aeafd8978",
   "metadata": {},
   "source": [
    "Utilizados para comparar valores e gerar um valor booleano de resultado, nos possibilitando a conclusão de que a operação é verdadeira caso o programa retorne 1, ou então a operação é falsa caso o programa retorne 0.  \n",
    "\n",
    "**Possíveis operações**\n",
    "- Igual (==)\n",
    "- Diferente (!=)\n",
    "- Maior (>)\n",
    "- Maior ou igual (>=)\n",
    "- Menor (<)\n",
    "- Menor ou igual (<=)"
   ]
  },
  {
   "cell_type": "markdown",
   "id": "d1a50053-4cc9-4dae-8882-d5d055bf249d",
   "metadata": {},
   "source": [
    "**Exemplos de Aplicação**"
   ]
  },
  {
   "cell_type": "code",
   "execution_count": null,
   "id": "458c4c96-c09e-4671-b5d6-2f9bc1e4bcd6",
   "metadata": {},
   "outputs": [],
   "source": [
    "A = 2\n",
    "B = 4\n",
    "print(f'Comparando A({A}) com B({B}):')\n",
    "\n",
    "print('Igual:', (a == b))\n",
    "print('Diferente:', (a != b))\n",
    "print('Maior:', (a > b))\n",
    "print('Maior ou igual:', (a >= b))\n",
    "print('Menor:', (a < b))\n",
    "print('Menor ou igual:', (a <= b))"
   ]
  },
  {
   "cell_type": "markdown",
   "id": "b5330d05-c5b5-4737-8108-b3ee41505feb",
   "metadata": {},
   "source": [
    "---"
   ]
  },
  {
   "cell_type": "markdown",
   "id": "4d368cb9-0843-44b4-a522-4a73899af0a6",
   "metadata": {
    "jp-MarkdownHeadingCollapsed": true
   },
   "source": [
    "## Operadores de comparação em cadeia"
   ]
  },
  {
   "cell_type": "markdown",
   "id": "8f5e9987-0488-4984-b8f6-d0bb07f34fd7",
   "metadata": {},
   "source": [
    "---"
   ]
  },
  {
   "cell_type": "markdown",
   "id": "b2e5b3b2-1d05-4623-beb0-8c5e6bee9def",
   "metadata": {},
   "source": [
    "**Operações em cadeia**  \n",
    "Uma funcionalidade do python utilizada para simplificar algumas operações. Funcionam de forma a adicionar elementos à comparação."
   ]
  },
  {
   "cell_type": "markdown",
   "id": "af1acb18-d232-404d-a5cc-3f7bd28b8a0c",
   "metadata": {},
   "source": [
    "**Exemplos de Aplicação**"
   ]
  },
  {
   "cell_type": "code",
   "execution_count": null,
   "id": "29b2e7a3-09df-4bb4-827f-a6938a0fdc14",
   "metadata": {},
   "outputs": [],
   "source": [
    "# Operações encadeadas\n",
    "print('2 é maior que 1 e menor que 3?', 1 < 2 <= 3)\n",
    "print('4 inteiro é igual a decimal e menor que 3?', 4 == 4.0 < 3)\n",
    "print('8 maior que 3 é igual a verdadeiro?', (8 > 3) == True)"
   ]
  },
  {
   "cell_type": "markdown",
   "id": "be6bff61-e8a6-4475-a20c-d135aff62999",
   "metadata": {},
   "source": [
    "---"
   ]
  },
  {
   "cell_type": "markdown",
   "id": "ca089455-55de-4360-93c1-597623fc8550",
   "metadata": {},
   "source": [
    "**Operações Lógicas**\n",
    "\n",
    "Apesar do uso do encadeamento de operações de comparação, alguns problemas normalmente vão requerir, por conta de sua complexidade, os operadores lógicos, para multiplicar (and), adicionar (or) e complementar (not) algumas afirmações lógicas, portanto condicionando uma resposta em valor booleano, seja True ou False.\n",
    "\n",
    "> Exemplo: se não chover mais tarde (1.) ou se chover e eu tiver meu guarda-chuva (2.A), então ficarei seco, caso contrário (2.B) irei me molhar...\n",
    "> 1. choveu False\n",
    ">     - seco True  \n",
    "> 2. choveu True\n",
    ">     1. guarda-chuva True\n",
    ">         - seco True\n",
    ">     2. guarda-chuva False\n",
    ">         - seco False\n",
    "\n",
    "**Sobre o funcionamento das lógicas:**  \n",
    "As lógicas and e or funcionam de forma semelhantes, aplicadas entre duas ou mais afirmações e retornam uma resposta diferente das demais, enquanto a lógica not é aplicada somente em uma afirmação, seja ela uma das afirmações de entrada ou a afirmação de saída já operada, e retorna o inverso dessa afirmação.\n",
    "- and - True quando todas as afimações forem True e False quando houver pelo menos uma False  \n",
    "- or - False quanto todas as afirmações forem False, e True quando houver pelo menos uma True  \n",
    "- not - False quando a afirmação True, True quando a afirmação for False  "
   ]
  },
  {
   "cell_type": "markdown",
   "id": "e1d8f246-d577-46ce-90da-49d1337fbba5",
   "metadata": {},
   "source": [
    "**Exemplos aplicação**"
   ]
  },
  {
   "cell_type": "code",
   "execution_count": null,
   "id": "a76b2899-9935-498b-a042-c9ec7b5c0936",
   "metadata": {},
   "outputs": [],
   "source": [
    "'# Diferença entre encadeamento de comparadores e utilização de operadores lógicos'\n",
    "compara = 1 < 2 < 3\n",
    "logica = (1 < 2) and (2 < 3)\n",
    "# Mesmo resultado, apesar da forma diferente de escrever'\n",
    "\n",
    "'# O exemplo da chuva e guarda-chuva funciona da seguinte forma:'\n",
    "choveu = False                         # Primeira afirmação\n",
    "print('Não choveu. Fiquei seco?', choveu)\n",
    "choveu, guarda_chuva = (True, True)    # ou, Segunda afimração\n",
    "print('Choveu e trouxe guarda-chuva. Fiquei seco?', (choveu and guarda_chuva))\n",
    "print('Choveu e não trouxe guarda-chuva. Fiquei seco?', (choveu and not guarda_chuva))"
   ]
  },
  {
   "cell_type": "markdown",
   "id": "24f693f4-1781-4fd4-8669-1c8e56395829",
   "metadata": {},
   "source": [
    "---"
   ]
  },
  {
   "cell_type": "markdown",
   "id": "0e91320b-1e3b-4b53-8556-bd7fef331c7a",
   "metadata": {
    "jp-MarkdownHeadingCollapsed": true
   },
   "source": [
    "## If, Elif e Else"
   ]
  },
  {
   "cell_type": "markdown",
   "id": "b54a10bd-857b-4c0b-82c4-cb2b6aa45b1a",
   "metadata": {},
   "source": [
    "É uma estrutura de decisão e condição do código, serve para direcionar o código para executar algum trecho de código específico e/ou evitar outro trecho. Funciona por meio dos valores booleanos de forma que SE algo for verdadeiro, caso contrário ele não é executado. Na não execução de um bloco SE, podem haver outros blocos relacionados a ele, que operam se complementando.  \n",
    "\n",
    "> Exemplo: de acordo com a idade de uma pessoa, definir se ela pode votar. Condições: facultativo 16<=idade<18 e idade>=70; proibido idade<16; obrigatório 18<=idade<70:\n",
    "> 1. SE idade<16:\n",
    ">    - Voto proibido\n",
    "> 2. SENÃO SE idade<18 ou idade>70:\n",
    ">    - Voto facultativo\n",
    "> 3. SENÂO:\n",
    ">    - Voto obrigatório"
   ]
  },
  {
   "cell_type": "markdown",
   "id": "f7f83bb5-9930-433d-acb0-8eee9cc84703",
   "metadata": {},
   "source": [
    "**Exemplos de Aplicação**"
   ]
  },
  {
   "cell_type": "code",
   "execution_count": null,
   "id": "18db75e0-875f-4206-b507-a39e2a412c75",
   "metadata": {},
   "outputs": [],
   "source": [
    "'# Reescrevendo o exemplo acima:'\n",
    "idade = int(input('Informe sua idade: '))\n",
    "\n",
    "if idade<16:\n",
    "    cond = 'proibido'\n",
    "elif idade<18 or idade>=70:\n",
    "    cond = 'facultativo'\n",
    "else: \n",
    "    cond = 'obrigatório'\n",
    "\n",
    "print(f'Voto {cond}!')"
   ]
  },
  {
   "cell_type": "markdown",
   "id": "7084a746-2dc1-4742-96c3-895cea541e36",
   "metadata": {},
   "source": [
    "*Obs: cuidado com a identação dos blocos, o intepretador irá identificar tudo que está com uma identação a mais e abaixo de um if/elif/else como código a ser executado pelo mesmo.*"
   ]
  },
  {
   "cell_type": "markdown",
   "id": "d06abbc8-f19f-4cbf-b874-499011625959",
   "metadata": {},
   "source": [
    "1. Estruturas condicionais aninhadas"
   ]
  },
  {
   "cell_type": "code",
   "execution_count": null,
   "id": "9d5246bb-8e44-4176-8444-f9b66c4810fe",
   "metadata": {},
   "outputs": [],
   "source": [
    "'# É possível aplicar uma condição dentro de outra(s)'\n",
    "temp = float(input('Informe a temperatura: '))\n",
    "\n",
    "if temp >= 30:\n",
    "    print('Está quente')\n",
    "elif temp <= 0:\n",
    "    if temp > -50:\n",
    "        print('Está frio')\n",
    "    if temp <= -50:\n",
    "        print('Está congelando')\n",
    "else:\n",
    "    print('A tempertura está normal')"
   ]
  },
  {
   "cell_type": "markdown",
   "id": "9c555bc6-d498-4388-9df9-7c62c917a249",
   "metadata": {},
   "source": [
    "2. Operador ternário: if else em uma linha"
   ]
  },
  {
   "cell_type": "code",
   "execution_count": null,
   "id": "311c1b23-f3f3-4284-9694-b695ab4b3e22",
   "metadata": {},
   "outputs": [],
   "source": [
    "'# Utilizado para simplificar códigos e executar uma decisão em uma linha'\n",
    "# executa_isso se condicao senão executa_aquilo\n",
    "\n",
    "'# Aplicação de maior ou menor'\n",
    "num1 = int(input('Primeiro número: '))\n",
    "num2 = int(input('Segundo número: '))\n",
    "maior = num1 if num1>num2 else num2\n",
    "print('Maior: ', maior)\n",
    "\n",
    "'# Exemplo 2'\n",
    "nome = str(input('Informe seu nome: ')).title().split()[0]\n",
    "mostrar = bool(int(input('Você deseja ser cumprimentado com ou sem seu primeiro nome (0 - Sem | 1 - Com): ')))\n",
    "print(f'Olá, bom dia,', nome if mostrar else 'sr. Anônimo')"
   ]
  },
  {
   "cell_type": "markdown",
   "id": "28b6d28b-a166-4b0c-8e66-00ed8d658527",
   "metadata": {},
   "source": [
    "---"
   ]
  },
  {
   "cell_type": "markdown",
   "id": "2f0a105e-8c5e-4c09-93c7-c866c0b729cb",
   "metadata": {
    "jp-MarkdownHeadingCollapsed": true
   },
   "source": [
    "## Range"
   ]
  },
  {
   "cell_type": "markdown",
   "id": "5649c054-ebb3-4e8b-a721-1c8849076795",
   "metadata": {},
   "source": [
    "---"
   ]
  },
  {
   "cell_type": "markdown",
   "id": "eda531e1-84c3-45d9-95dc-f57958b61abf",
   "metadata": {},
   "source": [
    "Uma função do python utilizada para gerar um intervalo de números inteiros. Funciona sobre três parâmetros: Início, Fim e Passo."
   ]
  },
  {
   "cell_type": "markdown",
   "id": "eb1f2714-c96c-49cf-9785-02bd6310deda",
   "metadata": {},
   "source": [
    "**Exemplos de aplicação**"
   ]
  },
  {
   "cell_type": "code",
   "execution_count": null,
   "id": "e31043c8-db42-43ec-8ae5-1078fd3fd263",
   "metadata": {},
   "outputs": [],
   "source": [
    "'# Intervalo de 0 até Fim-1'\n",
    "print(list(range(10)))\n",
    "'# Intervalo de Início a Fim-1'\n",
    "print(list(range(1, 11)))\n",
    "'# Intevalo de Início a Fim-1, pulando de 2 em 2'\n",
    "print(list(range(0, 17, 2)))"
   ]
  },
  {
   "cell_type": "markdown",
   "id": "547b0fae-e453-4aa0-8847-b75e71f78646",
   "metadata": {},
   "source": [
    "*Obs: o range apenas deixa carregado o intervalo, porém não o posiciona na memória diretamente para evitar algum problema com números muito grandes.*"
   ]
  },
  {
   "cell_type": "markdown",
   "id": "0db9380d-e7e7-438b-b658-2f4e276735db",
   "metadata": {},
   "source": [
    "---"
   ]
  },
  {
   "cell_type": "markdown",
   "id": "fc0d7abe-e239-45cc-9c47-b593273b38ec",
   "metadata": {
    "jp-MarkdownHeadingCollapsed": true
   },
   "source": [
    "## For"
   ]
  },
  {
   "cell_type": "markdown",
   "id": "07fc4e86-6d65-4f9a-8215-6700ba463153",
   "metadata": {},
   "source": [
    "---"
   ]
  },
  {
   "cell_type": "markdown",
   "id": "c33f1507-5cc2-4caf-95ce-a5cf15cc4266",
   "metadata": {},
   "source": [
    "Uma estrutura em blocos, utilizada para repetição de códigos. Funciona a partir de contadores, uma variável de controle do bloco, de forma que quando o contador chegar ao fim as repetições serão cessadas. Os contadores em outras linguagens de progamação, são normalmente utilizados como uma variável inteira apenas para contar quantas repetições fará, contudo, no python o contador de um For passa por cada elemento de um iterável saindo do bloco quando não houver mais elementos. Portanto o for é aplicado apenas quando se tem noção de quantas vezes precisa repetir algo.\n",
    "\n",
    "É um comando de: **para cada** elemento nesse intervalo/iterável faça isso...  \n",
    "\n",
    "> Exemplo: definir um cronograma de horários para acordar cada dia da semana...  \n",
    "> - *Para cada* dia da semana:  \n",
    ">     1. *Se* for dia útil:  \n",
    ">         - Acordar 7:00  \n",
    ">     2. *Senão*  \n",
    ">         - Acordar 9:30\n",
    "\n",
    "*Obs: o bloco For também pode ser utilizado juntamente a um Else, de forma a executar o Else apenas se o for tiver terminado sua execução, caso tenha sido interrompido não entrará no Else*"
   ]
  },
  {
   "cell_type": "markdown",
   "id": "3e6e2a06-4116-4afc-9458-7a0585ab3dcc",
   "metadata": {},
   "source": [
    "**Exemplos de Aplicação**"
   ]
  },
  {
   "cell_type": "code",
   "execution_count": null,
   "id": "b0a9c239-0ee1-4e3c-950c-4525aa13c346",
   "metadata": {},
   "outputs": [],
   "source": [
    "'# Aplicação do despertador'\n",
    "semana = ['Segunda-Feira', 'Terça-Feira', 'Quarta-Feira', 'Quinta-Feira', 'Sexta-Feira', 'Sábado', 'Domingo']\n",
    "for dia in semana:\n",
    "    util = dia.find('-')    # procura '-' e retorna -1 se não encontrar\n",
    "    if util != -1:\n",
    "        print(f'{dia}: dia útil, acordar 07:00')\n",
    "    else:\n",
    "        print(f'{dia}: final de semana, acordar 09:30')\n",
    "print()\n",
    "\n",
    "'# Aplicação dos números pares'\n",
    "print('\\n==========================')\n",
    "print(f'Elementos pares de 0 a 100')\n",
    "print('==========================')\n",
    "for i in range(101):\n",
    "    if (i % 2) == 0:\n",
    "        print(i, end=' ')"
   ]
  },
  {
   "cell_type": "markdown",
   "id": "d33531f4-9db2-4e26-9383-303e8432ee76",
   "metadata": {},
   "source": [
    "*Obs: nota-se que o aninhamento de outras estruturas, por exemplo if/elif/else dentro do For, também são possíveis*"
   ]
  },
  {
   "cell_type": "markdown",
   "id": "1ad444ee-b15c-4f62-83b3-3ca1ddae05c1",
   "metadata": {},
   "source": [
    "1. Tipos de For"
   ]
  },
  {
   "cell_type": "code",
   "execution_count": null,
   "id": "27b80cb5-cb19-4dee-9678-86432dab4fd7",
   "metadata": {},
   "outputs": [],
   "source": [
    "lista = ['aderlei', 'henrique', 'conrado']\n",
    "dicionario = {'nome': 'claudio', 'idade': 63, 'trabalho': 'professor'}\n",
    "\n",
    "print(' - i percorrendo os index dados pelo range()')\n",
    "for i in range(10):\n",
    "    print(i, end=' ')\n",
    "print('\\n')\n",
    "\n",
    "print(' - i percorre os elementos da string')\n",
    "for i in 'textos':\n",
    "    print(i, end=' ')\n",
    "print('\\n')\n",
    "\n",
    "print(' - i percorre os elementos da lista')\n",
    "for i in lista:\n",
    "    print(i, end=' ')\n",
    "print('\\n')\n",
    "\n",
    "print(' - i percorre os index da lista, j percorre os respectivos elementos')\n",
    "for i, j in enumerate(lista):\n",
    "    print(f'{i}° - {j}')\n",
    "print()\n",
    "\n",
    "print(' - i percorre as chaves do dicionário, j percorre os respectivos valores')\n",
    "for i, j in dicionario.items():\n",
    "    print(f'{i}: {j}')"
   ]
  },
  {
   "cell_type": "markdown",
   "id": "1d86610e-632f-4550-bd23-4b4facc14a0f",
   "metadata": {},
   "source": [
    "*Obs: cuidado com a identação dos blocos, o intepretador irá identificar tudo que está com uma identação a mais e abaixo de um For como código a ser executado pelo mesmo.*"
   ]
  },
  {
   "cell_type": "markdown",
   "id": "c2066722-fe3f-4c56-96d0-830b275d0e6b",
   "metadata": {},
   "source": [
    "---"
   ]
  },
  {
   "cell_type": "markdown",
   "id": "98f88434-5eb9-4305-ad69-6ce5e853cebf",
   "metadata": {
    "jp-MarkdownHeadingCollapsed": true
   },
   "source": [
    "## While"
   ]
  },
  {
   "cell_type": "markdown",
   "id": "c2ae11d7-aada-444b-aaad-e94003967065",
   "metadata": {},
   "source": [
    "---"
   ]
  },
  {
   "cell_type": "markdown",
   "id": "679b9585-c0ec-4942-8bce-f344b402b64a",
   "metadata": {},
   "source": [
    "Outra estrutura em blocos utilizada para repetição de códigos. Apesar de ser uma estrutura de laço, diferentemente do for, o while não é necessariamente limitado por um contador, pois funciona a partir condições, ou seja as repetições irão ocorrer se a condição resultar em True, caso contrário, quando for False as repetições serão cessadas. O laço While tem uma utilização mais ampla, pode ser utilizado tanto para quando não se sabe quantas repetições serão necessárias, quanto para os casos que se sabe a quantidade de repetições necessárias.  \n",
    "\n",
    "É um comando de: **enquanto** isso for verdadeiro faça isso...  \n",
    "\n",
    "> Exemplo: formulário de pesquisa...  \n",
    "> - *Enquanto* não respondeu:  \n",
    ">     - 'Você já respondeu a pesquisa?'  \n",
    ">     1. *Se* respondeu:  \n",
    ">         - 'Muito obrigado'    \n",
    ">     2. *Senão*  \n",
    ">         - 'Responda a pesquisa x no link disponível em y'  \n",
    "\n",
    "*Obs: o bloco While também pode ser utilizado juntamente a um Else, de forma a executar o Else apenas se o While tiver terminado sua execução, caso tenha sido interrompido não entrará no Else*"
   ]
  },
  {
   "cell_type": "markdown",
   "id": "3d2504df-451a-4b17-9227-768c0ee8f47d",
   "metadata": {},
   "source": [
    "**Exemplos de Aplicação**"
   ]
  },
  {
   "cell_type": "code",
   "execution_count": null,
   "id": "da195c58-9b58-4b83-9ce6-7d61e4a7676b",
   "metadata": {},
   "outputs": [],
   "source": [
    "'# Aplicação do formulário de pesquisa'\n",
    "respondeu = False\n",
    "\n",
    "while not respondeu:\n",
    "    respondeu = bool(int(input('Você já respondeu o formulário? (0 - Não | 1 - Sim)')))\n",
    "    if respondeu:\n",
    "        print('Muito obrigado. Você nos ajudou muito com a pesquisa')\n",
    "    else:\n",
    "        print('Por favor, responda a pesquisa x no link disponível em y')"
   ]
  },
  {
   "cell_type": "markdown",
   "id": "ac1072d9-0ed5-4103-9f26-5f842e9ccf94",
   "metadata": {},
   "source": [
    "*Obs: nota-se que o aninhamento de outras estruturas, por exemplo if/elif/else dentro do While, também são possíveis*"
   ]
  },
  {
   "cell_type": "markdown",
   "id": "96f80de1-4850-49a1-bae3-8726d71802ec",
   "metadata": {},
   "source": [
    "1. Comparação do While com o For"
   ]
  },
  {
   "cell_type": "code",
   "execution_count": null,
   "id": "87c4f474-6e92-4116-80db-9bfb8a08ef0e",
   "metadata": {},
   "outputs": [],
   "source": [
    "'# Execução de um código com a mesma utilidade'\n",
    "\n",
    "print('Contando até 10 com o For:')\n",
    "for i in range(1,11):\n",
    "    print(i, end=' ')\n",
    "print('\\n')\n",
    "\n",
    "print('Contando até 10 com o While:')\n",
    "j = 1\n",
    "while j <= 10:\n",
    "    print(j, end=' ')\n",
    "    j+=1"
   ]
  },
  {
   "cell_type": "markdown",
   "id": "ec7f2d30-5b7f-4d39-8d9d-cdb831260334",
   "metadata": {},
   "source": [
    "*Obs: cuidado com a identação dos blocos, o intepretador irá identificar tudo que está com uma identação a mais e abaixo de um While como código a ser executado pelo mesmo.*"
   ]
  },
  {
   "cell_type": "markdown",
   "id": "f92e3eaa-84ff-486a-bab9-18acb446e5a9",
   "metadata": {},
   "source": [
    "---"
   ]
  },
  {
   "cell_type": "markdown",
   "id": "ddd77dd3-d465-458d-a716-2ffc09098d12",
   "metadata": {},
   "source": [
    "**Modificadores do laço**"
   ]
  },
  {
   "cell_type": "markdown",
   "id": "7988f7ee-f7ad-467d-a736-5c6bf69fa0c9",
   "metadata": {},
   "source": [
    "São utilizados quando se deseja interromper, pular uma repetição ou trecho de código.\n",
    "\n",
    "Funcionamento:\n",
    "- break: \"quebra\" o laço de repetição, o encerrando e excutando linhas abaixo do bloco mesmo que não tenha terminado pelo contador/condição;\n",
    "- continue: continua para a próxima repetição, voltando ao teste de condição ou incremento de contador para próxima repetição\n",
    "- pass: ignora algum trecho de código, normalmente utilizado quando se está construido e testando o código"
   ]
  },
  {
   "cell_type": "markdown",
   "id": "3ce780fb-d3d2-4b20-884a-80a397baffa4",
   "metadata": {},
   "source": [
    "**Exemplos de aplicação**"
   ]
  },
  {
   "cell_type": "code",
   "execution_count": null,
   "id": "acee5da3-ad70-425d-b7d6-d61a1ce96323",
   "metadata": {},
   "outputs": [],
   "source": [
    "'# Utilizando os comandos break/continue/pass'\n",
    "condicao = True\n",
    "\n",
    "if condicao:\n",
    "    pass\n",
    "\n",
    "for i in range(100):\n",
    "    if i>10:\n",
    "        print('Execução chegou no break')\n",
    "        break\n",
    "    if i % 2 == 1:\n",
    "        print('Execução chegou no continue')\n",
    "        continue\n",
    "    print('O valor atual é: ', i)\n",
    "\n",
    "print('Break parou as repetições!')"
   ]
  },
  {
   "cell_type": "markdown",
   "id": "73ce9dd4-e15e-4d59-bcad-e1faafd67082",
   "metadata": {},
   "source": [
    "1. Laços infinitos"
   ]
  },
  {
   "cell_type": "code",
   "execution_count": null,
   "id": "14859a7f-cc28-45d6-b5d2-d67eff847926",
   "metadata": {},
   "outputs": [],
   "source": [
    "while True:\n",
    "    print('Bom dia!')\n",
    "    op = bool(int(input('Deseja repetir? (0 - Não | 1 - Sim)')))\n",
    "    if not op:\n",
    "        break\n",
    "print('Execução encerrada')"
   ]
  },
  {
   "cell_type": "markdown",
   "id": "1ce62cb9-1f76-4922-acbc-ce277308f906",
   "metadata": {},
   "source": [
    "Obs: cuidado com os laços infinitos, podem ser utilizados com um break em uma condição (quando não sabemos quantas repetições são necessárias), caso contrário vão crashar o programa."
   ]
  },
  {
   "cell_type": "markdown",
   "id": "a0cc714f-2192-4390-aa61-86d016d5bc78",
   "metadata": {},
   "source": [
    "---"
   ]
  },
  {
   "cell_type": "markdown",
   "id": "a78460af-9550-4eea-ac78-e003122edd5a",
   "metadata": {
    "jp-MarkdownHeadingCollapsed": true
   },
   "source": [
    "## Compreensão de listas"
   ]
  },
  {
   "cell_type": "markdown",
   "id": "9fd62206-06b5-451e-af0b-8697475eb45d",
   "metadata": {},
   "source": [
    "---"
   ]
  },
  {
   "cell_type": "markdown",
   "id": "ee02f217-3058-45bc-873b-1117b650b77a",
   "metadata": {},
   "source": [
    "Uma forma de simplificar aplicações com listas, a compreensão de listas permite a criação de listas por meio de uma estrutura de repetição e uma de decisão em uma só linha.\n",
    "\n",
    "> Sintaxe:  \n",
    "> - lista = [(variavel que a lista recebe) (estrutura de repeticao) (estrutura de decisão)]"
   ]
  },
  {
   "cell_type": "markdown",
   "id": "cfb429f1-24cf-47d6-9c06-82ca7e8016bd",
   "metadata": {},
   "source": [
    "**Exemplos de aplicação**"
   ]
  },
  {
   "cell_type": "code",
   "execution_count": null,
   "id": "65189cfc-8022-4e27-9e06-d55c2463170b",
   "metadata": {},
   "outputs": [],
   "source": [
    "'# Cria uma lista com a potência dos números de 0 a 10'\n",
    "potencias = [num**2 for num in range(0,11)]\n",
    "\n",
    "'# Cria uma lista com os caracteres consoantes de uma palavra'\n",
    "palavra = 'elefante'\n",
    "consoantes = [(letra) for letra in palavra if not (letra in 'aeiou')]\n",
    "\n",
    "print(potencias)\n",
    "print(consoantes)"
   ]
  },
  {
   "cell_type": "markdown",
   "id": "cb5f7f9d-76d9-4a25-9ee8-00131c742d08",
   "metadata": {},
   "source": [
    "---"
   ]
  },
  {
   "cell_type": "markdown",
   "id": "eb1e761a-6d40-44a5-af93-4b35ac279e98",
   "metadata": {
    "jp-MarkdownHeadingCollapsed": true
   },
   "source": [
    "## Funções"
   ]
  },
  {
   "cell_type": "markdown",
   "id": "4f514ade-861e-4172-b215-515dd403d479",
   "metadata": {},
   "source": [
    "---"
   ]
  },
  {
   "cell_type": "markdown",
   "id": "e775b487-9ce1-49be-8444-b56fe4fac219",
   "metadata": {},
   "source": [
    "Funções, já vistas como métodos nas aulas anteriores, são uma forma de escrever o código de maneira mais reduzida e compreensível. Permitem reutilizar um trecho de código em momentos diferentes do código apenas realizando sua chamada, portanto as funções são um trecho de código definidos em outro lugar que não onde se faz o código principal. Onde se executa o código principal é conhecido por main, que também é uma função, porém é por ela que o interpretador começa a ler o código, de forma a ler outras funções se houver a chamada dessas outras funções na main.\n",
    "\n",
    "**Estrutura de um programa:**\n",
    "> - *Defina* funcao1 (var1, var2):  \n",
    ">     - código  \n",
    ">     - return variável  \n",
    "> \n",
    "> funcao1(parâmetro1, parâmetro2)\n",
    "\n",
    "Note que a primeira parte, o bloco de definição da função é necessário de se fazer só uma vez, para então poder fazer a chamada da função abaixo na main passando os parâmetros para que a função seja executada em sua definição. Nesse caso, a função está sendo definida pela palavra reservada *def* com o nome funcao1() com a passagem dos parâmetros var1 e var2, que poderiam ser nenhum parâmetro ou vários parâmetros a mais que dois; logo abaixo há o trecho de código que a função realiza e pode haver também o retorno da função, que devolve para onde a função foi chamada um valor que foi operado dentro dela mesma.  \n",
    "\n",
    "Outro elemento importante nas funções estão nas variáveis, uma vez que funções requerem alguns parâmetros, estes por sua vez, serão válidos somente dentro da função que estão definidos, ou seja, em seu escopo, caso tente utilizá-los no código principal irão aparecer como indefinidos ou algum outro valor de uma variável de mesmo nome no escopo da main."
   ]
  },
  {
   "cell_type": "markdown",
   "id": "511db62d-fab4-4668-80a6-54cb6e666e58",
   "metadata": {},
   "source": [
    "**Exemplos de Aplicação**"
   ]
  },
  {
   "cell_type": "code",
   "execution_count": null,
   "id": "868d4868-a06e-4b3b-a08b-af41436cd8bf",
   "metadata": {},
   "outputs": [],
   "source": [
    "def cumprimento(nome):\n",
    "    nome = nome.strip().title()\n",
    "    print(f'Olá, {nome}. Tenha um ótimo dia!')\n",
    "\n",
    "nome = str(input('Informe seu nome: '))\n",
    "cumprimento(nome)"
   ]
  },
  {
   "cell_type": "markdown",
   "id": "64da85da-029a-4116-b7fd-43f760a25a44",
   "metadata": {},
   "source": [
    "*Obs: note que a variável nome é utilizado em ambas função e main, porém são duas variáveis diferentes por conta do escopo que estão inseridas*"
   ]
  },
  {
   "cell_type": "markdown",
   "id": "9f11ed72-365f-4d70-8b1c-8fbefcda6ff4",
   "metadata": {},
   "source": [
    "1. Definição de função x Main"
   ]
  },
  {
   "cell_type": "code",
   "execution_count": null,
   "id": "a9089f25-29cc-4388-ad23-3f26055c17f1",
   "metadata": {},
   "outputs": [],
   "source": [
    "'# Definição de funções (fora da main)'\n",
    "def func_calc (num1, num2, operacao):\n",
    "    if operacao == '+':\n",
    "        return num1 + num2\n",
    "    elif operacao == '-':\n",
    "        return num1 - num2\n",
    "    else:\n",
    "        return 'Inválido'\n",
    "\n",
    "'# Main'\n",
    "'# Chamada da função, por ela ter retorno, é necessário salvar os valores'\n",
    "res1 = func_calc(1, 6, '+')\n",
    "res2 = func_calc(14, 3, '-')\n",
    "res3 = func_calc(4, 6, '#')\n",
    "\n",
    "print('Resultado da primeira chamada: ', res1)\n",
    "print('Resultado da segunda chamada: ', res2)\n",
    "print('Resultado da terceira chamada: ', res3)"
   ]
  },
  {
   "cell_type": "markdown",
   "id": "367567a2-f14a-466d-827c-ba5cfde2b920",
   "metadata": {},
   "source": [
    "*Obs: para diferenciar função main de todas as outras, no python a main será tudo que não estiver com uma identação e abaixo de um definição de função*"
   ]
  },
  {
   "cell_type": "markdown",
   "id": "85f01228-8bd5-4002-9dc0-e9a2de8e14c9",
   "metadata": {},
   "source": [
    "2. Empacotamento/Desenpacotamento de parâmetros"
   ]
  },
  {
   "cell_type": "code",
   "execution_count": null,
   "id": "2a7187ce-2981-404c-8912-3266d17c9743",
   "metadata": {},
   "outputs": [],
   "source": [
    "'# Função recebe duas variáveis e um pacote (tupla) de parâmetros'\n",
    "def funcao(var1, var2, *pacote):\n",
    "    print('Variável 1: ', var1)\n",
    "    print('Variável 2: ', var2)\n",
    "    print('Pacote: ', pacote)\n",
    "\n",
    "funcao(7,23,4,6,32,57,24)"
   ]
  },
  {
   "cell_type": "markdown",
   "id": "a8e3fd00",
   "metadata": {},
   "source": [
    "3. Passagem pré atribuição de valor para parâmetros"
   ]
  },
  {
   "cell_type": "code",
   "execution_count": 7,
   "id": "3890de20",
   "metadata": {},
   "outputs": [
    {
     "name": "stdout",
     "output_type": "stream",
     "text": [
      "========================================\n",
      "                Título 1                \n",
      "========================================\n",
      "++++++++++++++++++++++++++++++\n",
      "           Título 2           \n",
      "++++++++++++++++++++++++++++++\n"
     ]
    }
   ],
   "source": [
    "'# É posssível tornar parâmetros de uma função em \"parâmetros opcionais\" por meio da pré atribuição de valores'\n",
    "'# A função utiliza de um parâmetro se ele for passado, caso contrário utilizará o valor previamente atribuido'\n",
    "def cumprimentar(text, symbol='=', size=40):\n",
    "    print(symbol*size)\n",
    "    print(f'{text:^{size}}')\n",
    "    print(symbol*size)\n",
    "\n",
    "# Tendo symbol e size opcionais, é possível passar apenas o parâmetro text]\n",
    "cumprimentar('Título 1')\n",
    "# Também sendo possível passar parâmetros em symbol e size, e sobrescrever a atribuição prévia\n",
    "cumprimentar('Título 2', '+', 30)"
   ]
  },
  {
   "cell_type": "markdown",
   "id": "f37c7b35-a6a1-4719-97d9-4ce3b9c5c2ab",
   "metadata": {},
   "source": [
    "---"
   ]
  },
  {
   "cell_type": "markdown",
   "id": "2cb3614c-5dcb-46a1-8f29-7862ceb5b30f",
   "metadata": {
    "jp-MarkdownHeadingCollapsed": true
   },
   "source": [
    "## Funções Lambda"
   ]
  },
  {
   "cell_type": "markdown",
   "id": "2f142b64-4156-4f93-a742-aa1b4ea9284a",
   "metadata": {},
   "source": [
    "---"
   ]
  },
  {
   "cell_type": "markdown",
   "id": "77077e2c-fed8-49bf-b096-cc7afcafb8e2",
   "metadata": {},
   "source": [
    "Uma forma de simplificar aplicações com funções, as funções lambda tornam possível criar uma função anônima. Pode ser útil na análise de dados, pois recorre a construção de uma função de uso em apenas uma linha, de forma que seja possível passar uma função lambda como parâmetro para outra definição de função, contudo, não é possível tornar toda função complexa e de várias linhas em uma função lambda.\n",
    "\n",
    "> Sintaxe:  \n",
    "> - *lambda* parâmetros : operação"
   ]
  },
  {
   "cell_type": "markdown",
   "id": "63251476-4633-44a8-99e5-d80f0c514671",
   "metadata": {},
   "source": [
    "**Exemplo de Aplicação**"
   ]
  },
  {
   "cell_type": "code",
   "execution_count": null,
   "id": "610fbb81-b117-4fb3-a4bf-cfdae873e815",
   "metadata": {},
   "outputs": [],
   "source": [
    "var = lambda num: num ** 2\n",
    "print('10² = ', var(10))\n",
    "print('5² = ', var(5))\n",
    "print('11² = ', var(11))"
   ]
  },
  {
   "cell_type": "markdown",
   "id": "bf11225e-8acf-41e3-923a-19734cf7c02c",
   "metadata": {},
   "source": [
    "---"
   ]
  }
 ],
 "metadata": {
  "kernelspec": {
   "display_name": "Python 3 (ipykernel)",
   "language": "python",
   "name": "python3"
  },
  "language_info": {
   "codemirror_mode": {
    "name": "ipython",
    "version": 3
   },
   "file_extension": ".py",
   "mimetype": "text/x-python",
   "name": "python",
   "nbconvert_exporter": "python",
   "pygments_lexer": "ipython3",
   "version": "3.12.3"
  }
 },
 "nbformat": 4,
 "nbformat_minor": 5
}
