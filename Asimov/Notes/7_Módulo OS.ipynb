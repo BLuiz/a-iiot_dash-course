{
 "cells": [
  {
   "cell_type": "markdown",
   "id": "2444000b-e249-47e4-a35e-703e6e43d13e",
   "metadata": {
    "jp-MarkdownHeadingCollapsed": true
   },
   "source": [
    "## Automações básicas com OS"
   ]
  },
  {
   "cell_type": "markdown",
   "id": "d34e9e66-191e-488a-9fa6-068ff73c961f",
   "metadata": {},
   "source": [
    "Uma biblioteca python que permite algumas aplicações com comandos no terminal.  \n",
    "\n",
    "**Exemplos de comandos**\n",
    "- ls\n",
    "- clear\n",
    "- mkdir\n",
    "- rm"
   ]
  },
  {
   "cell_type": "markdown",
   "id": "68a7fc70-2f5b-48d3-9847-56d059732014",
   "metadata": {
    "jp-MarkdownHeadingCollapsed": true
   },
   "source": [
    "## Métodos do OS"
   ]
  },
  {
   "cell_type": "markdown",
   "id": "ce886c1a-a27b-412a-ba7c-4f262af17bad",
   "metadata": {},
   "source": [
    "**Exemplo de Aplicação**\n",
    "- Acessar pasta qualquer, abri-la no vscode pelo comando \"code .\" no terminal\n",
    "- criar uma pasta dentro da primiera com alguns arquivos\n",
    "    - os.py\n",
    "    - teste.csv\n",
    "    - teste.json\n",
    "    - teste.txt"
   ]
  },
  {
   "cell_type": "markdown",
   "id": "34bef298-6952-440f-a065-2abd10c100b0",
   "metadata": {},
   "source": [
    "1. No os.py"
   ]
  },
  {
   "cell_type": "code",
   "execution_count": null,
   "id": "1f953034-069a-4251-ac1c-f0114aa6aa94",
   "metadata": {},
   "outputs": [],
   "source": [
    "from os import *\n",
    "\n",
    "# Retornar uma string com o caminho para o diretório atual\n",
    "getcwd()\n",
    "# actual_dir\n",
    "\n",
    "# Retornar uma lista com strings dos arquivos e pastas presentes no diretório atual\n",
    "listdir()\n",
    "listdir('/Users/Desktop')\n",
    "\n",
    "# Trocar o diretório onde o código está sendo executado\n",
    "chdir('/Users/Desktop')\n",
    "\n",
    "# Criar uma pasta no diretório atual\n",
    "mkdir('Pasta2')\n",
    "\n",
    "# Renomear/mover pastas/arquivos\n",
    "rename('Pasta', 'Pasta3')\n",
    "rename('teste.txt', 'teste2.txt')\n",
    "rename('Pasta', 'Pasta3/Pasta2')\n",
    "\n",
    "# Remover arquivos\n",
    "remove('teste.txt')\n",
    "\n",
    "# Remover pastas\n",
    "rmdir('Pasta')\n",
    "\n",
    "# Enviar comandos diretamente pora o terminal\n",
    "cmd = 'cls'\n",
    "system(cmd)"
   ]
  },
  {
   "cell_type": "markdown",
   "id": "a0e5244f-e7b2-497d-a2a8-de2c0245d4cd",
   "metadata": {
    "jp-MarkdownHeadingCollapsed": true
   },
   "source": [
    "## OS.path"
   ]
  },
  {
   "cell_type": "markdown",
   "id": "7b2d07cc-1c35-434b-a70e-7594dec312c2",
   "metadata": {},
   "source": [
    "**Exemplos de Aplicação**"
   ]
  },
  {
   "cell_type": "code",
   "execution_count": null,
   "id": "87c8c82b-947d-4f2c-8772-2f908f574f8f",
   "metadata": {},
   "outputs": [],
   "source": [
    "from os import *\n",
    "from datetime import datetime\n",
    "\n",
    "p = getcwd()\n",
    "\n",
    "# Juntar um caminho\n",
    "path.join(p, 'pasta')\n",
    "# Juntar um caminho\n",
    "p + '/pasta'\n",
    "\n",
    "# Retornar apenas o nome do último diretório\n",
    "path.basename(p)\n",
    "# Retornar apenas o nome do último diretório\n",
    "p.split('/')[-1]\n",
    "# Retornar apenas o nome do último diretório\n",
    "path.split(p)[-1]\n",
    "\n",
    "# Retornar tudo que há antes da ultima pasta\n",
    "# dirname(p)\n",
    "# Retornar tudo que há antes da ultima pasta\n",
    "path.split(p)[0]\n",
    "\n",
    "# Retornar quanto tempo se passou desde a última modificação (desde 01/01/1975)\n",
    "path.getmtime(p)\n",
    "\n",
    "# Converter tempo em segundos com datetime\n",
    "last_time = path.getmtime(p)\n",
    "datetime.utcfromtimestamp(last_time)\n",
    "\n",
    "# Retornar valor booleano se o caminho representa um arquivo\n",
    "path.isfile(p)\n",
    "# Retornar valor booleano se o caminho representa um arquivo\n",
    "path.isdir(p)\n"
   ]
  },
  {
   "cell_type": "markdown",
   "id": "55c4db81-089b-4e35-b798-5fa6c64fcb6d",
   "metadata": {
    "jp-MarkdownHeadingCollapsed": true
   },
   "source": [
    "## Apresentação do projeto"
   ]
  },
  {
   "cell_type": "markdown",
   "id": "66dbe7c5-ef84-49c5-9fb1-ba7b5779256b",
   "metadata": {},
   "source": [
    "Criar uma aplicação para organização de um diretório, de forma a reunir todos os arquivos de mesma extensão em pastas."
   ]
  }
 ],
 "metadata": {
  "kernelspec": {
   "display_name": "Python 3 (ipykernel)",
   "language": "python",
   "name": "python3"
  },
  "language_info": {
   "codemirror_mode": {
    "name": "ipython",
    "version": 3
   },
   "file_extension": ".py",
   "mimetype": "text/x-python",
   "name": "python",
   "nbconvert_exporter": "python",
   "pygments_lexer": "ipython3",
   "version": "3.11.7"
  }
 },
 "nbformat": 4,
 "nbformat_minor": 5
}
