{
 "cells": [
  {
   "cell_type": "markdown",
   "id": "a231b677-6d51-4d0b-835b-24967d6e77c9",
   "metadata": {},
   "source": [
    "## Elementos da Programação"
   ]
  },
  {
   "cell_type": "markdown",
   "id": "eb4d6613-96a0-49a3-b4f0-57e4611038a7",
   "metadata": {},
   "source": [
    "**Variáveis**\n",
    "- Espaço alocado na memória do computador para armarzenar dado de um determinado tipo\n",
    "- Tipos primitivos de variáveis: {numéricas, caracteres, alfanuméricas ou lógicas}"
   ]
  },
  {
   "cell_type": "markdown",
   "id": "56ac5024-7a45-4bbb-a2ac-4785fd8114de",
   "metadata": {},
   "source": [
    "**Operadores**\n",
    "- Meios pelos quais se incrementam, decrementam, comparam e avaliam os dados\n",
    "- Operadores aritmeticos: Adição (+); Subtração (-); Multiplicação (*); Divisão (/); Exponenciação (**);\n",
    "- Operadores relacionais: Igual (=); Diferente (!=); Maior (>); Menor (<); Maior igual (>=); Menor igual (<=);\n",
    "- Operadores lógicos: E (and); Ou (or); Não (not);"
   ]
  },
  {
   "cell_type": "markdown",
   "id": "4b343266-8c37-4113-a860-f58860a678f2",
   "metadata": {},
   "source": [
    "**Estruturas de controle de fluxo**\n",
    "- Define o segmento do algoritmo dependendo das condições impostas\n",
    "- Se X acontecer faz certa coisa, se não, fará outra coisa"
   ]
  },
  {
   "cell_type": "markdown",
   "id": "31a471a8-8bd3-4e8d-9cf4-b0ce82e4bd62",
   "metadata": {},
   "source": [
    "**Laço**\n",
    "- Define repetições de códigos dependendo de uma condição\n",
    "- Enquanto X acontecer repete certa coisa, quando não acontecer mais, encerra repetições\n"
   ]
  },
  {
   "cell_type": "markdown",
   "id": "75bae20f-34de-4862-a495-d97ef7f8024a",
   "metadata": {},
   "source": [
    "**Métodos**\n",
    "- Definem ações, normalmente genéricas, que podem ser reutilizadas durante o código"
   ]
  }
 ],
 "metadata": {
  "kernelspec": {
   "display_name": "Python 3 (ipykernel)",
   "language": "python",
   "name": "python3"
  },
  "language_info": {
   "codemirror_mode": {
    "name": "ipython",
    "version": 3
   },
   "file_extension": ".py",
   "mimetype": "text/x-python",
   "name": "python",
   "nbconvert_exporter": "python",
   "pygments_lexer": "ipython3",
   "version": "3.11.7"
  }
 },
 "nbformat": 4,
 "nbformat_minor": 5
}
