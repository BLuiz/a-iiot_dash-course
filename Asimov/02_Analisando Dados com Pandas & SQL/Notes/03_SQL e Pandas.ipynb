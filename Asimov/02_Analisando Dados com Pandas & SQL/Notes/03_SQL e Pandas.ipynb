{
 "cells": [
  {
   "cell_type": "markdown",
   "metadata": {},
   "source": [
    "## Inserindo dados em uma BD"
   ]
  },
  {
   "cell_type": "markdown",
   "metadata": {},
   "source": [
    "- Criação de Connection Engine - Instanciando o a conexão com o banco de dados, um arquivo que sirva de Engine de Conexão  \n",
    "- Importação da base de dados - .csv, .xlsx, txt...  \n",
    "- Exportação para DB - Banco de Dados Relacinal (.db)  \n",
    "\n",
    "Dessa forma, se cria o banco de dados no arquivo .db e uma tabela no banco a partir do DataFrame importado"
   ]
  },
  {
   "cell_type": "code",
   "execution_count": 12,
   "metadata": {},
   "outputs": [],
   "source": [
    "import sqlite3\n",
    "import pandas as pd\n",
    "from IPython.display import display\n",
    "\n",
    "\"\"\" ## Criação de Connection Engine -  \"\"\"\n",
    "conn = sqlite3.connect('03_sql_e_pandas.db')\n",
    "\n",
    "\"\"\" ## Importação da base de dados \"\"\"\n",
    "df_data = pd.read_csv('..\\\\Docs\\\\Analisando Dados com Pandas & SQL\\\\SQL & Pandas\\\\bd_data.csv', index_col=0)\n",
    "\n",
    "\"\"\" ## Exportação para DB \"\"\"\n",
    "df_data.index.name = 'index_name'\n",
    "# df_data.to_sql('data', conn, index_label='index_name')\n",
    "\n",
    "\"\"\" ## Criação de um cursor para enviar comandos SQL\"\"\"\n",
    "c = conn.cursor()"
   ]
  },
  {
   "cell_type": "markdown",
   "metadata": {},
   "source": [
    "*Obs: para abrir o SQLite Explorer na aba lateral do Vscode -> ctrl + shift + P -> Open DataBase*"
   ]
  },
  {
   "cell_type": "markdown",
   "metadata": {},
   "source": [
    "## Comandos CREATE E DROP"
   ]
  },
  {
   "cell_type": "markdown",
   "metadata": {},
   "source": [
    "Apresentação das formas de criar e deletar tabelas em um banco de dados."
   ]
  },
  {
   "cell_type": "code",
   "execution_count": null,
   "metadata": {},
   "outputs": [],
   "source": [
    "\"\"\" ## CREATE \"\"\"\n",
    "# c.execute('''CREATE TABLE products (\n",
    "#         [product_id] INTEGER PRIMARY KEY, \n",
    "#         [product_name] TEXT, \n",
    "#         [price] INTEGER)\n",
    "# ''')\n",
    "\n",
    "\"\"\" ## DROP \"\"\"\n",
    "# c.execute('DROP TABLE products')\n",
    "# c.execute('DROP TABLE data')"
   ]
  },
  {
   "cell_type": "markdown",
   "metadata": {},
   "source": [
    "## INSERT"
   ]
  },
  {
   "cell_type": "markdown",
   "metadata": {},
   "source": [
    "Apresentação das formas para inserção de dados em um banco a partir do Pandas ou SQL, de forma que fazendo pelo SQL é necessário instanciar um cursor que irá executar o comando e realizar o commit dos dados, enquanto para realizar a mesma insersão com o Pandas é possível converter um DataFrame para sql, se a tabela destino já for existente (e o parâmetro if_exists=\"append\") haverá a insersão dos dados nela."
   ]
  },
  {
   "cell_type": "code",
   "execution_count": null,
   "metadata": {},
   "outputs": [],
   "source": [
    "\"\"\" ## INSERT - SQL \"\"\"\n",
    "# c = conn.cursor()\n",
    "# c.execute('''INSERT INTO products (attibute) VALUES (0)''')\n",
    "# conn.commit()\n",
    "\n",
    "\"\"\" ## INSERT - Pandas \"\"\"\n",
    "# df = df_data.iloc[::-2]\n",
    "# df.to_sql('data', conn, if_exists='append')"
   ]
  },
  {
   "cell_type": "markdown",
   "metadata": {},
   "source": [
    "## SELECT, FROM E WHERE"
   ]
  },
  {
   "cell_type": "markdown",
   "metadata": {},
   "source": [
    "Apresentação das formas para seleção (consulta) de dados de um banco a partir do Pandas ou SQL, de forma que fazndo pelo SQL é necessário instanciar o cursor que irá executar o comando, enquanto com o pandas pode-se importar os dados de um arquivo para um DataFrame e manipulá-los após."
   ]
  },
  {
   "cell_type": "code",
   "execution_count": null,
   "metadata": {},
   "outputs": [],
   "source": [
    "query = 'SELECT A, B, C FROM data WHERE A > 200 AND A < 230'\n",
    "aux = None\n",
    "\n",
    "\"\"\" ## SELECT - SQL \"\"\"\n",
    "# c.execute(query)\n",
    "# aux = c.fetchall()\n",
    "\n",
    "\"\"\" ## SELECT - Pandas \"\"\"\n",
    "df = pd.read_sql(query, con=conn)\n",
    "# aux = df\n",
    "\n",
    "display(aux)"
   ]
  },
  {
   "cell_type": "markdown",
   "metadata": {},
   "source": [
    "*Obs: o método Pandas irá gerar um DataFrame com a consulta, enquanto o SQL irá retornar apenas uma lista com os dados da consulta*"
   ]
  },
  {
   "cell_type": "markdown",
   "metadata": {},
   "source": [
    "## UPDATE e DELETE"
   ]
  },
  {
   "cell_type": "markdown",
   "metadata": {},
   "source": [
    "Apresentação das formas para seleção atualização e deleção de dados de um banco a partir do SQL, sendo necessário instanciar um cursor que irá executar o comando e realizar o commit dos dados."
   ]
  },
  {
   "cell_type": "code",
   "execution_count": null,
   "metadata": {},
   "outputs": [],
   "source": [
    "\"\"\" ## UPDATE \"\"\"\n",
    "# c.execute('UPDATE data SET A=0, B=245 WHERE index_name=1')\n",
    "\n",
    "\"\"\" ## DELETE \"\"\"\n",
    "# c.execute('DELETE FROM data WHERE index_name=1')\n",
    "\n",
    "conn.commit()"
   ]
  }
 ],
 "metadata": {
  "kernelspec": {
   "display_name": "Python 3",
   "language": "python",
   "name": "python3"
  },
  "language_info": {
   "codemirror_mode": {
    "name": "ipython",
    "version": 3
   },
   "file_extension": ".py",
   "mimetype": "text/x-python",
   "name": "python",
   "nbconvert_exporter": "python",
   "pygments_lexer": "ipython3",
   "version": "3.12.3"
  }
 },
 "nbformat": 4,
 "nbformat_minor": 2
}
